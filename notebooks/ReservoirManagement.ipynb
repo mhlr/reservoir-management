{
 "cells": [
  {
   "cell_type": "markdown",
   "id": "ece4c920-bfd9-46a5-9f6a-d1ec272b317c",
   "metadata": {
    "slideshow": {
     "slide_type": "slide"
    }
   },
   "source": [
    "# Developing a D-Wave Leap application, from problem selection to model implementation"
   ]
  },
  {
   "cell_type": "markdown",
   "id": "81347de6-0b2f-4a26-8228-d533a739f459",
   "metadata": {},
   "source": [
    "- This notebook demonstrates an end to end process for users to develop D-Wave Leap application, from selecting a problem, through domain analysis to first model implementation.\n",
    "- The process is simulated using a paper from the literature as a proxy for the problem owner.\n",
    "    - This is done enable reproducibility while protecting privacy of users.\n",
    "- Only the problem motivation and description from the paper is used.\n",
    "- The definition & implementation are developed independently to illustrate a practical approach to the process.\n",
    "- Inline quotes from the paper should be read as a problem owner's responses to developer inquiries.\n",
    "    - Quotes are sometimes reused when they answer multiple questions."
   ]
  },
  {
   "cell_type": "markdown",
   "id": "7be3da45-8984-4a05-83a8-09951629a54c",
   "metadata": {
    "slideshow": {
     "slide_type": "slide"
    }
   },
   "source": [
    "## Problem Selection"
   ]
  },
  {
   "cell_type": "markdown",
   "id": "7dd12180-6b8b-4917-a8fc-2e2b2a221ade",
   "metadata": {},
   "source": [
    "- The paper [Kowalik P, Rzemieniak M. Binary Linear Programming as a Tool of Cost Optimization for a Water Supply Operator. Sustainability. 2021 13(6):3470.](https://doi.org/10.3390/su13063470) was selected.\n",
    "- It was chosen based on criteria discussed below.\n",
    "- An annotated CC-licensed [copy](./sustainability-13-03470-v2.pdf) is provided\n",
    "- The paper builds on the prior [Kozłowski, E., Mazurkiewicz, D., Kowalska, B., Kowalski, D. (2018). Binary Linear Programming as a Decision-Making Aid for Water Intake Operators. In: Burduk, A., Mazurkiewicz, D. (eds) Intelligent Systems in Production Engineering and Maintenance – ISPEM 2017. ISPEM 2017. Advances in Intelligent Systems and Computing, vol 637. Springer, Cham.](https://doi.org/10.1007/978-3-319-64465-3_20)"
   ]
  },
  {
   "cell_type": "markdown",
   "id": "05d72eea-1d61-4c7e-9da7-00bc3abfe3ba",
   "metadata": {
    "slideshow": {
     "slide_type": "subslide"
    },
    "tags": []
   },
   "source": [
    "### Is this a real problem?"
   ]
  },
  {
   "cell_type": "markdown",
   "id": "1d2c56a0-1210-4766-915c-c9c8c5dc4649",
   "metadata": {},
   "source": [
    "> Supplying high-quality water at a competitive cost is a major challenge for water utilities worldwide, especially with ever-increasing water quality standards and energy prices"
   ]
  },
  {
   "cell_type": "markdown",
   "id": "a37e5121-36f1-44a7-a3d3-09843ab35fef",
   "metadata": {
    "slideshow": {
     "slide_type": "subslide"
    }
   },
   "source": [
    "### Why is it important?"
   ]
  },
  {
   "cell_type": "markdown",
   "id": "f443ab3f-3e88-459f-acda-1cf8c49a67a9",
   "metadata": {},
   "source": [
    "> Water supply systems are among the most important parts of infrastructure necessary to provide suitable quality of life for human beings.\n",
    "\n",
    "> The issues of water production optimization and energy savings are part of the topic of sustainable development. "
   ]
  },
  {
   "cell_type": "markdown",
   "id": "3c182e04-aaac-4427-8f6c-5c405f396e4c",
   "metadata": {
    "incorrectly_encoded_metadata": "jp-MarkdownHeadingCollapsed=true",
    "slideshow": {
     "slide_type": "subslide"
    },
    "tags": []
   },
   "source": [
    "### What is the ROI of solving this problem?"
   ]
  },
  {
   "cell_type": "markdown",
   "id": "b09988d2-c741-4616-8e8f-3354c622e3f4",
   "metadata": {},
   "source": [
    "> There are many kinds of costs connected with water supplies. Among them, costs of electric power make an important share of operating costs because of using many electric-powered pumps necessary to bring water from its source or sources to customers\n",
    "\n",
    "In a previous paper the authors state that the worst case 24h cost for the given data is 334.04 PLN (= 88.77 USD in Aug 2015)which is an extremely loose upper bound on the ROI.\n",
    "There is no data to quantify other benefits of optimization, such as reduced risk of reservoir constraint violations and reduced labor costs, if the pump scheduling were manual.\n",
    "For a commercial project an accurate estimate of the current cost and potential ROI would be needed to evaluate the project."
   ]
  },
  {
   "cell_type": "markdown",
   "id": "2855c917-4027-4e49-a90b-00086798cdff",
   "metadata": {
    "slideshow": {
     "slide_type": "subslide"
    }
   },
   "source": [
    "### Is there complete data for a self contained problem instance?\n",
    "Complete data for pump capacities and power requirements as well as hourly water demand predictions and power costs are provided.\n",
    "\n",
    "> The capacities and values of the electric power of the pumps are presented in Table 1\n",
    "\n",
    "> The supplier of electric power does not use the same rate per MWh in its pricing policy all day long. Instead, it uses three tariff levels (see Table 2). \n",
    "\n",
    "> The example numerical data of the demand values for 24 timeslots of just one specific day are presented in Table 3 (along with corresponding electric power prices).\n",
    "\n",
    "This is critical to making progress on a problem."
   ]
  },
  {
   "cell_type": "markdown",
   "id": "dc7ab924-ee9a-4f84-94ee-676a50acb0e0",
   "metadata": {
    "slideshow": {
     "slide_type": "subslide"
    }
   },
   "source": [
    "### What are the sources of complexity?\n",
    "> Various prices of electric power make efficient controlling of the pumps much moredifficult because the requirements resulting from the demand levels as well as technical and safety conditions should be satisfied at the lowest cost."
   ]
  },
  {
   "cell_type": "markdown",
   "id": "419d3239-fb77-42bd-8f3a-dc289b6eaebe",
   "metadata": {
    "slideshow": {
     "slide_type": "subslide"
    }
   },
   "source": [
    "### Who is the problem owner?"
   ]
  },
  {
   "cell_type": "markdown",
   "id": "01998842-f776-4842-ad96-fb213b513464",
   "metadata": {
    "tags": []
   },
   "source": [
    "> The water supply system under consideration is that of a water supply operator based in a town with a population of about 25,000 inhabitants, located in Eastern Poland."
   ]
  },
  {
   "cell_type": "markdown",
   "id": "b42934fc-efec-44f0-9170-993857ce39bc",
   "metadata": {
    "slideshow": {
     "slide_type": "subslide"
    }
   },
   "source": [
    "### What is the current solution to this problem?\n",
    "> An example containing real-world input data was successfully solved using Microsoft Excel with a free OpenSolver add-in.\n",
    "\n",
    "This would be a red flag in a real commercial application, as there is little benefit in a quantum implementation of a problem that is solved to optimality with a free Excel plugin.\n",
    "This does affect the pedagogical value of this problem.\n",
    "In the previous paper the authors state that\n",
    "> Thus far, due to the complexity of the task, the system operators have practically neglected the issue of electricity costs\n",
    "\n",
    "and\n",
    "\n",
    "> The current practice in small and medium-sized water companies in Poland indicates that the decision-making based on the experience of the operator does not guarantee a simultaneous meeting of all the requirements set for the operation of a water intake and minimization of electricity costs\n",
    "\n",
    "For the purposes of this discussion we assume this as the starting point."
   ]
  },
  {
   "cell_type": "markdown",
   "id": "c8ee55c0-cafd-4fca-981c-f0fc442def30",
   "metadata": {
    "slideshow": {
     "slide_type": "subslide"
    }
   },
   "source": [
    "### What are the success criteria?"
   ]
  },
  {
   "cell_type": "markdown",
   "id": "4e476221-fbc6-4b03-83cb-6b4dc6e98321",
   "metadata": {},
   "source": [
    "This is critical question in a commercial setting that is not addressed in this paper."
   ]
  },
  {
   "cell_type": "markdown",
   "id": "513c5408-d718-4227-83d8-c360cfb7c407",
   "metadata": {
    "slideshow": {
     "slide_type": "slide"
    }
   },
   "source": [
    "## Problem Description"
   ]
  },
  {
   "cell_type": "markdown",
   "id": "9a94b923-4232-46c2-81df-03b3f6d99ebc",
   "metadata": {},
   "source": [
    "From [Kowalik P, Rzemieniak M. Binary Linear Programming as a Tool of Cost Optimization for a Water Supply Operator. Sustainability. 2021 13(6):3470.](https://doi.org/10.3390/su13063470)"
   ]
  },
  {
   "cell_type": "markdown",
   "id": "4fe2bf04-620e-4bb4-84c0-e315a8ea6446",
   "metadata": {},
   "source": [
    ">  In the paper, a problem of pump scheduling in regular everyday operations of a water supply operator is considered. The issues of water production optimization and energy savings are part of the topic of sustainable development. The objective of the article is the minimization of the cost of electric power used by the pumps supplying water. It is achieved thanks to the variability of both the demand for water and the price of electric power during the day combined with the possibility of storing water.\n",
    "\n",
    "> In order to optimize the operation of a water pumping station itself, it is necessary to create a pump schedule for some period of time (e.g., 24 h) that states when a given pump should be turned on and, if it is controllable, with what efficiency it should work (full capacity or below). Correct optimization requires defining many necessary constraints, including taking into account the predicted demand for water, which varies throughout the day, capacities of reservoir tanks and minimal volumes of water stored in them, costs of electrical power, etc."
   ]
  },
  {
   "cell_type": "markdown",
   "id": "9d945a55-ec0e-4a9d-8f3f-59c9ff659464",
   "metadata": {
    "slideshow": {
     "slide_type": "subslide"
    }
   },
   "source": [
    "### Detailed specification"
   ]
  },
  {
   "cell_type": "markdown",
   "id": "b5fb7075-4562-4d91-97b8-37e1c80e907b",
   "metadata": {
    "slideshow": {
     "slide_type": "-"
    }
   },
   "source": [
    "Below are quotes from the paper that contribute to the problem definition. The parts most relevant to the model formulation are highlighted\n",
    "\n",
    "> **The objective of the article is the minimization of the cost of electric power used by the pumps supplying water.**\n",
    "\n",
    "> The water supply system under consideration is that of a water supply operator based in a town with a population of about 25,000 inhabitants, located in Eastern Poland. **The main parts of the system are wells, pumps, a reservoir tank, and the distribution pipeline network.**\n",
    "\n",
    "> Supplied water is groundwater pumped from 7 wells. **The capacities and values of the electric power of the pumps are presented in Table 1*. **Water is pumped from the wells to a single reservoir tank with the capacity of Vmax = 1500 m3 (the maximal volume of stored water).**\n",
    "\n",
    "> **The demand for water varies over time**. **The outflow of water from the reservoir tank via the distribution network to customers is a continuous process.** For practical reasons, **predictions of demand are made for 24 one-hour timeslots**.\n",
    "\n",
    "> Controlling the pumps must obey the following requirements. **The pumps can operate with their nominal capacities only**, and **the amount of water pumped by any pump depends on the time of operation only**. **Each pump must operate for at least one hour per day.** Additionally, **at least one well and the pump integrated with it must be kept as a reserve at any moment of the day**. **The water inside the tank should be replaced at least once per day**. During standard operational conditions, **the volume of water in the reservoir tank cannot be less than Vmin = 523.5 m3**. It is the firefighting reserve, which is kept in order to satisfy an extra demand when a fire is extinguished by using water supplied from hydrants.\n",
    "\n",
    "> ... **the supplier of electric power does not use the same rate per MWh in its pricing** policy all day long. Instead, it uses three tariff levels ...\n",
    "\n",
    "> Various prices of electric power make efficient controlling of the pumps much more difficult because the requirements resulting from the demand levels as well as technical and safety conditions should be satisfied at the lowest cost.\n",
    "\n",
    "> As it has already been mentioned above, **a basically continuous process of water distribution is approximately described in a discrete form, namely by specifying 24 predicted values of the demand for 24 one-hour timeslots**.\n",
    "\n",
    ">  ... **in each timeslot, each pump can either be used or not**."
   ]
  },
  {
   "cell_type": "markdown",
   "id": "6642a696-a96c-4050-8e79-657210570f21",
   "metadata": {
    "slideshow": {
     "slide_type": "slide"
    },
    "tags": []
   },
   "source": [
    "## Problem instance data"
   ]
  },
  {
   "cell_type": "markdown",
   "id": "8512c015-47c6-44b0-bef5-223d29663fd6",
   "metadata": {},
   "source": [
    "From [Kowalik P, Rzemieniak M. Binary Linear Programming as a Tool of Cost Optimization for a Water Supply Operator. Sustainability. 2021 13(6):3470.](https://doi.org/10.3390/su13063470)"
   ]
  },
  {
   "cell_type": "markdown",
   "id": "5e289ed1-8a51-4f73-97ff-6525ab00817a",
   "metadata": {
    "slideshow": {
     "slide_type": "subslide"
    }
   },
   "source": [
    "### Pump data (Table 1)"
   ]
  },
  {
   "cell_type": "code",
   "execution_count": 1,
   "id": "d765313e-a05d-425e-8181-fced85871879",
   "metadata": {
    "slideshow": {
     "slide_type": "-"
    }
   },
   "outputs": [
    {
     "name": "stdout",
     "output_type": "stream",
     "text": [
      "Overwriting pumps.csv\n"
     ]
    }
   ],
   "source": [
    "%%file pumps.csv\n",
    "id capacity power_consumption\n",
    "1 75 15\n",
    "2 133 37\n",
    "3 157 33\n",
    "4 176 33\n",
    "5 59 22\n",
    "6 69 33\n",
    "7 120 22"
   ]
  },
  {
   "cell_type": "markdown",
   "id": "98ef851e-1ba0-416c-a35c-a2350e83a2f8",
   "metadata": {
    "slideshow": {
     "slide_type": "subslide"
    }
   },
   "source": [
    "### Power tariffs (Table 2)"
   ]
  },
  {
   "cell_type": "code",
   "execution_count": 2,
   "id": "776fd205-4169-4ce4-be48-8df91d7555fe",
   "metadata": {
    "slideshow": {
     "slide_type": "-"
    }
   },
   "outputs": [
    {
     "name": "stdout",
     "output_type": "stream",
     "text": [
      "Overwriting tariff.csv\n"
     ]
    }
   ],
   "source": [
    "%%file tariff.csv\n",
    "start end price\n",
    "16 21 336.00\n",
    "7 13 283.00\n",
    "0 7 169.00\n",
    "13 16 169.00\n",
    "21 24 169.00"
   ]
  },
  {
   "cell_type": "markdown",
   "id": "8aac36a8-af3f-418a-a8dd-6fd4cae5fb07",
   "metadata": {
    "slideshow": {
     "slide_type": "subslide"
    }
   },
   "source": [
    "### Exogenous variables (Table 3)"
   ]
  },
  {
   "cell_type": "code",
   "execution_count": 3,
   "id": "ce87528d-ba7e-4474-b301-2a408fdd8062",
   "metadata": {
    "slideshow": {
     "slide_type": "-"
    }
   },
   "outputs": [
    {
     "name": "stdout",
     "output_type": "stream",
     "text": [
      "Writing exogenous.csv\n"
     ]
    }
   ],
   "source": [
    "%%file exogenous.csv\n",
    "time water_demand power_price\n",
    "1 44.62 169\n",
    "2 31.27 169\n",
    "3 26.22 169\n",
    "4 27.51 169\n",
    "5 31.50 169\n",
    "6 46.18 169\n",
    "7 69.47 169\n",
    "8 100.36 283\n",
    "9 131.85 283\n",
    "10 148.51 283\n",
    "11 149.89 283\n",
    "12 142.21 283\n",
    "13 132.09 283\n",
    "14 129.29 169\n",
    "15 124.06 169\n",
    "16 114.68 169\n",
    "17 109.33 336\n",
    "18 115.76 336\n",
    "19 126.95 336\n",
    "20 131.48 336\n",
    "21 138.86 336\n",
    "22 131.91 169\n",
    "23 111.53 169\n",
    "24 70.43 169"
   ]
  },
  {
   "cell_type": "markdown",
   "id": "75cb2ffe-c593-47ed-b641-521c63fa660f",
   "metadata": {
    "slideshow": {
     "slide_type": "subslide"
    }
   },
   "source": [
    "### Reservoir parameters"
   ]
  },
  {
   "cell_type": "code",
   "execution_count": 4,
   "id": "f197210f-cd41-468b-abe1-678f34c66d17",
   "metadata": {
    "slideshow": {
     "slide_type": "-"
    }
   },
   "outputs": [
    {
     "name": "stdout",
     "output_type": "stream",
     "text": [
      "Overwriting reservoir.csv\n"
     ]
    }
   ],
   "source": [
    "%%file reservoir.csv\n",
    "Vmin Vmax Vinit\n",
    "523.5 1500 550"
   ]
  },
  {
   "cell_type": "markdown",
   "id": "c6d13a20-dbc2-40f6-adf3-6b0052660192",
   "metadata": {
    "slideshow": {
     "slide_type": "subslide"
    },
    "tags": []
   },
   "source": [
    "## Load data"
   ]
  },
  {
   "cell_type": "code",
   "execution_count": 5,
   "id": "91c633dc-f320-4925-99d5-124181007616",
   "metadata": {
    "tags": []
   },
   "outputs": [],
   "source": [
    "import itertools as it\n",
    "\n",
    "import numpy as np\n",
    "import pandas as pd\n",
    "\n",
    "import dimod\n",
    "from dimod import quicksum as Sum\n",
    "from dwave import system as dw"
   ]
  },
  {
   "cell_type": "code",
   "execution_count": 6,
   "id": "4ea9e3f1-946d-40ff-9567-81a69ed66089",
   "metadata": {},
   "outputs": [],
   "source": [
    "pumps = pd.read_csv(\"pumps.csv\", sep=' ').set_index('id', drop=False)\n",
    "exogenous = pd.read_csv(\"exogenous.csv\", sep=' ').set_index('time', drop=False)\n",
    "tariff = pd.read_csv(\"tariff.csv\", sep=' ')\n",
    "reservoir = pd.read_csv(\"reservoir.csv\", sep=' ').loc[0]"
   ]
  },
  {
   "cell_type": "markdown",
   "id": "4a0445a9-5482-4d72-8e57-eb9584054e1a",
   "metadata": {
    "slideshow": {
     "slide_type": "slide"
    },
    "tags": []
   },
   "source": [
    "## Define domain language\n",
    "\n",
    "First define and implement concepts from the problem definition to use as first class elements of the model implementation."
   ]
  },
  {
   "cell_type": "markdown",
   "id": "3098aad2-c0dc-4f24-ad91-413173ddead5",
   "metadata": {
    "slideshow": {
     "slide_type": "subslide"
    }
   },
   "source": [
    "### Inputs (Parameters)\n",
    "\n",
    "Items provide an interface to values are provided in the input data."
   ]
  },
  {
   "cell_type": "markdown",
   "id": "67cdcdf8-a746-4b55-a9e1-be6f6c5800c7",
   "metadata": {},
   "source": [
    "#### Pumps\n",
    "\n",
    "The problem definition  & data specify a number of pumps each with its pumping capacity and power requirements, which do not change over time.\n",
    "\n",
    "> **The capacities and values of the electric power of the pumps are presented in Table 1**"
   ]
  },
  {
   "cell_type": "markdown",
   "id": "031d2039-0a5a-4a20-84fd-929879bc9f89",
   "metadata": {},
   "source": [
    "##### Pump capacity"
   ]
  },
  {
   "cell_type": "code",
   "execution_count": 7,
   "id": "11d72add-a3fc-4123-a4bd-de6ce70fb867",
   "metadata": {},
   "outputs": [],
   "source": [
    "def capacity(pump):\n",
    "    return pumps.capacity[pump]"
   ]
  },
  {
   "cell_type": "markdown",
   "id": "a836c7b2-493f-465f-a094-567c68d55aee",
   "metadata": {},
   "source": [
    "##### Pump power consumption"
   ]
  },
  {
   "cell_type": "code",
   "execution_count": 8,
   "id": "67f1b40f-3e81-416c-acde-147642583c51",
   "metadata": {},
   "outputs": [],
   "source": [
    "def power_consumption(pump):\n",
    "    return pumps.power_consumption[pump]"
   ]
  },
  {
   "cell_type": "markdown",
   "id": "e0f34f20-5daa-430f-8bdd-73af78877772",
   "metadata": {},
   "source": [
    "#### Timeslots\n",
    "\n",
    "> **a basically continuous process of water distribution is approximately described in a discrete form, namely by specifying 24 predicted values of the demand for 24 one-hour timeslots**"
   ]
  },
  {
   "cell_type": "code",
   "execution_count": 9,
   "id": "b9ec1ca7-8f6b-444f-8b67-37f334eaf521",
   "metadata": {},
   "outputs": [],
   "source": [
    "timeslots = exogenous.time"
   ]
  },
  {
   "cell_type": "markdown",
   "id": "fa55dbe0-b3e2-4fff-8a77-b33807269a41",
   "metadata": {},
   "source": [
    "#### Power prices\n",
    "\n",
    "> **The supplier of electric power does not use the same rate per MWh in its pricing policy all day long. Instead, it uses three tariff levels (see Table 2).**\n",
    "\n",
    "The power tariffs from Table 2 are already provided broken out by hour in Table 3.\n",
    "\n",
    "> **So, the example numerical data of the demand values for 24 timeslots of just one specific day are presented in Table 3 (along with corresponding electric power prices)**\n",
    "\n",
    "The provided power needs to be divide by 1000 since the pump power consumption is gien in kWh."
   ]
  },
  {
   "cell_type": "code",
   "execution_count": 10,
   "id": "13ffd040-80de-4a33-a0ab-aff192c35c05",
   "metadata": {},
   "outputs": [],
   "source": [
    "def power_price(time):\n",
    "    return exogenous.power_price[time]/1000"
   ]
  },
  {
   "cell_type": "markdown",
   "id": "18211224-b346-41e7-a6dd-3e82f6886c27",
   "metadata": {
    "tags": []
   },
   "source": [
    "#### Water demand\n",
    "\n",
    "User demand varies by the hour. The projected hourly demend is give in the data.\n",
    "\n",
    "> **The demand for water varies over time**\n",
    "\n",
    "> **So, the example numerical data of the demand values for 24 timeslots of just one specific day are presented in Table 3 (along with corresponding electric power prices)**"
   ]
  },
  {
   "cell_type": "code",
   "execution_count": 11,
   "id": "8a99a53b-6d22-46fc-8fc8-42cd6ae14dfb",
   "metadata": {},
   "outputs": [],
   "source": [
    "def water_demand(time):\n",
    "    return exogenous.water_demand[time]"
   ]
  },
  {
   "cell_type": "markdown",
   "id": "6f41b34c-523a-4eca-9247-3bac9c186e34",
   "metadata": {
    "slideshow": {
     "slide_type": "subslide"
    }
   },
   "source": [
    "### Outputs (Variables)\n",
    "\n",
    "Construct variables for values computed by the model."
   ]
  },
  {
   "cell_type": "markdown",
   "id": "9112db4b-4b56-410c-9100-be775b8abd12",
   "metadata": {},
   "source": [
    "#### Pump operating schedule\n",
    "\n",
    "Which pumps are running at which times is the main decision made by the model.\n",
    "It is modeled by a binary variable for each pump-time combination.\n",
    "\n",
    "> **The pumps can operate with their nominal capacities only, and the amount of water pumped by any pump depends on the time of operation only**\n",
    "\n",
    "> **In each timeslot, each pump can either be used or not**"
   ]
  },
  {
   "cell_type": "code",
   "execution_count": 12,
   "id": "cb857197-0aef-48d9-bcf0-dccfc1641472",
   "metadata": {},
   "outputs": [],
   "source": [
    "def is_running(pump, time):\n",
    "    return dimod.Binary(f\"pump{pump}_time{time}\")"
   ]
  },
  {
   "cell_type": "markdown",
   "id": "a20c1c47-1ead-4b14-8fa2-d3cca2856a3b",
   "metadata": {
    "slideshow": {
     "slide_type": "subslide"
    }
   },
   "source": [
    "### Function & relations\n",
    "\n",
    "Derived terms expressing interactions between inputs and outputs."
   ]
  },
  {
   "cell_type": "markdown",
   "id": "9561df6b-d928-457c-b9c6-9ec7b901ed83",
   "metadata": {},
   "source": [
    "#### Resrvoir inflow\n",
    "\n",
    "The amoubt of water flowing into the reservoir is the sum of the capacities of the currently running pumps.\n",
    "\n",
    "> **Water is pumped from the wells to a single reservoir tank**"
   ]
  },
  {
   "cell_type": "code",
   "execution_count": 13,
   "id": "fd5efc26-4156-4b86-84e6-24386f0f4bd4",
   "metadata": {},
   "outputs": [],
   "source": [
    "def reservoir_inflow(time):\n",
    "    return Sum(\n",
    "            capacity(pump) * is_running(pump, time)\n",
    "            for pump in pumps.id\n",
    "        )"
   ]
  },
  {
   "cell_type": "markdown",
   "id": "be617b49-3505-491c-b5c0-438827f7ff7d",
   "metadata": {},
   "source": [
    "#### Resrvoir outflow\n",
    "The paper presents demand as the only form of outflow. A more realistic model would also account for water losses.\n",
    "\n",
    "> **The outflow of water from the reservoir tank via the distribution network to customers is a continuous process**"
   ]
  },
  {
   "cell_type": "code",
   "execution_count": 14,
   "id": "9d719d76-98f3-40f9-87b8-bd5cea605b07",
   "metadata": {},
   "outputs": [],
   "source": [
    "reservoir_outflow = water_demand"
   ]
  },
  {
   "cell_type": "markdown",
   "id": "00ef4ae4-f434-4234-bd5a-aa9b19472578",
   "metadata": {},
   "source": [
    "#### Resevoir volume\n",
    "\n",
    "Water pumped in excess of demand is retained in the reservoir to satisfy future demand.\n",
    "\n",
    "> **[The objective] is achieved thanks to the variability of both the demand for water and the price of electric power during the day combined with the possibility of storing water.**"
   ]
  },
  {
   "cell_type": "code",
   "execution_count": 15,
   "id": "206ef07f-1c94-45d5-87b3-5f9df4a3eec1",
   "metadata": {},
   "outputs": [],
   "source": [
    "def reservoir_volume(time): \n",
    "    return reservoir.Vinit + Sum(map(reservoir_inflow, range(1,time+1))) - Sum(map(reservoir_outflow, range(1,time+1)))"
   ]
  },
  {
   "cell_type": "markdown",
   "id": "06349425-ad3a-43bb-9b32-1831c5a4f180",
   "metadata": {},
   "source": [
    "#### Combined power consumption\n",
    "\n",
    "The power consumed by the pumps running at a given time."
   ]
  },
  {
   "cell_type": "code",
   "execution_count": 16,
   "id": "6ff93f2d-2ee0-48d3-bf0e-0fcf772c03fa",
   "metadata": {},
   "outputs": [],
   "source": [
    "def power_used(time):\n",
    "    return Sum(\n",
    "            power_consumption(pump) * is_running(pump, time)\n",
    "            for pump in pumps.id\n",
    "        )"
   ]
  },
  {
   "cell_type": "markdown",
   "id": "fa9a5887-12a4-418c-ae71-7dcc90a89e10",
   "metadata": {
    "slideshow": {
     "slide_type": "slide"
    }
   },
   "source": [
    "## Construct model"
   ]
  },
  {
   "cell_type": "markdown",
   "id": "349f87af-2d8d-4b6c-a07f-a7b329411757",
   "metadata": {},
   "source": [
    "With a well designed domain interface the objective and constraints should reflect statements in the problem specification."
   ]
  },
  {
   "cell_type": "markdown",
   "id": "1c36a375-28c5-4de7-a109-7835f97687cb",
   "metadata": {
    "slideshow": {
     "slide_type": "subslide"
    }
   },
   "source": [
    "### Initialize model"
   ]
  },
  {
   "cell_type": "code",
   "execution_count": 17,
   "id": "7f0e47ab-1364-43f9-84f9-0c8c26dd180b",
   "metadata": {},
   "outputs": [],
   "source": [
    "model = dimod.CQM()"
   ]
  },
  {
   "cell_type": "markdown",
   "id": "6dbf458f-0db7-45e6-b37f-d5dc3dd218c0",
   "metadata": {
    "slideshow": {
     "slide_type": "subslide"
    }
   },
   "source": [
    "### Define objective"
   ]
  },
  {
   "cell_type": "markdown",
   "id": "3aa552bc-848d-4f7e-88d1-5d962ea99173",
   "metadata": {},
   "source": [
    "#### *The objective of the article is the minimization of the cost of electric power used by the pumps supplying water*"
   ]
  },
  {
   "cell_type": "code",
   "execution_count": 18,
   "id": "fd97fddd-e97d-4a25-91f8-30621cf33ea4",
   "metadata": {},
   "outputs": [],
   "source": [
    "model.set_objective(\n",
    "    Sum(\n",
    "        power_price(time) * power_used(time)\n",
    "        for time in timeslots\n",
    "    )\n",
    ")"
   ]
  },
  {
   "cell_type": "markdown",
   "id": "1a12c967-a113-4a7d-ad12-bd78d58b5bcd",
   "metadata": {
    "slideshow": {
     "slide_type": "subslide"
    },
    "tags": []
   },
   "source": [
    "### Add constraints"
   ]
  },
  {
   "cell_type": "markdown",
   "id": "53f11388-5f8b-4da5-93f5-07291c41ab47",
   "metadata": {
    "slideshow": {
     "slide_type": "subslide"
    }
   },
   "source": [
    "#### *Each pump must operate for at least one hour per day*"
   ]
  },
  {
   "cell_type": "code",
   "execution_count": 19,
   "id": "690dd409-6aae-4515-b2ab-4d469e1d09f6",
   "metadata": {},
   "outputs": [],
   "source": [
    "for pump in pumps.id:\n",
    "    model.add_constraint(\n",
    "        Sum(\n",
    "            is_running(pump, time) for time in timeslots\n",
    "        ) >= 1,\n",
    "        f\"pump{pump}_on_at_least_1h_per_day\")"
   ]
  },
  {
   "cell_type": "markdown",
   "id": "510b699c-bf78-40b5-ba81-2c4390ac4393",
   "metadata": {
    "slideshow": {
     "slide_type": "subslide"
    }
   },
   "source": [
    "#### *At least one well and the pump integrated with it must be kept as a reserve at any moment of the day*"
   ]
  },
  {
   "cell_type": "code",
   "execution_count": 20,
   "id": "bda96643-92fa-4ae2-88ea-e5081c8fe864",
   "metadata": {},
   "outputs": [],
   "source": [
    "for time in timeslots:\n",
    "    model.add_constraint(\n",
    "        Sum(\n",
    "            is_running(pump, time) for pump in pumps.id\n",
    "        ) <= pumps.shape[0] - 1,\n",
    "        f\"at_least_one_pump_in_reserve_at_time{time}\" )"
   ]
  },
  {
   "cell_type": "markdown",
   "id": "ecddeb5c-9df6-48a4-b0e7-b9f6e3f7f4b4",
   "metadata": {
    "slideshow": {
     "slide_type": "subslide"
    }
   },
   "source": [
    "#### *The water inside the tank should be replaced at least once per day (?)*"
   ]
  },
  {
   "cell_type": "markdown",
   "id": "1289b456-7c65-4aa0-9207-ecaea46b2749",
   "metadata": {},
   "source": [
    "This constraint illustrates a common the need for working with engaged problem owners. The meaning of the constraint is unclear. The only known means of removing water from the reservoir is user demand, which is not under the control of the operator. The solution in the paper also does not explicitly enforce this constraint. In a real scenario this would require further discussion with the problem owner."
   ]
  },
  {
   "cell_type": "raw",
   "id": "888f20d7-6934-4f04-bc94-09845a7a51bd",
   "metadata": {},
   "source": [
    "for time in timeslots:\n",
    "    model.add_constraint(\n",
    "        reservoir_outflow(time) == water_demand(time),\n",
    "        f\"volume_at_time{time}\"\n",
    "    )"
   ]
  },
  {
   "cell_type": "markdown",
   "id": "5f707da3-5ed5-4db7-8cd0-52e45773a644",
   "metadata": {
    "slideshow": {
     "slide_type": "subslide"
    }
   },
   "source": [
    "#### *... a single reservoir tank with the capacity of Vmax*"
   ]
  },
  {
   "cell_type": "code",
   "execution_count": 21,
   "id": "61ef3bf2-20e6-44bf-bb3e-3954ec7a4693",
   "metadata": {},
   "outputs": [],
   "source": [
    "for time in timeslots:\n",
    "    model.add_constraint(\n",
    "        reservoir_volume(time) <= reservoir.Vmax,\n",
    "        f\"within_capacity_at_time{time}\"\n",
    "    )"
   ]
  },
  {
   "cell_type": "markdown",
   "id": "f23b820e-ded6-40f6-9ebe-d9320df658de",
   "metadata": {
    "slideshow": {
     "slide_type": "subslide"
    }
   },
   "source": [
    "#### *The volume of water in the reservoir tank cannot be less than Vmin*"
   ]
  },
  {
   "cell_type": "code",
   "execution_count": 22,
   "id": "b358fade-0453-4fab-b91a-3e666079ba99",
   "metadata": {},
   "outputs": [],
   "source": [
    "for time in timeslots:\n",
    "    model.add_constraint(\n",
    "        reservoir_volume(time) >= reservoir.Vmin,\n",
    "        f\"sufficient_reserve_at_time{time}\"\n",
    "    )"
   ]
  },
  {
   "cell_type": "markdown",
   "id": "162bc124-5a63-4f57-9d5f-65722956592c",
   "metadata": {
    "slideshow": {
     "slide_type": "slide"
    },
    "tags": []
   },
   "source": [
    "## Solve Model"
   ]
  },
  {
   "cell_type": "code",
   "execution_count": 23,
   "id": "aa3f7306-6a1d-45bf-ad30-220c1306f2fb",
   "metadata": {},
   "outputs": [],
   "source": [
    "sampler = dw.LeapHybridCQMSampler()"
   ]
  },
  {
   "cell_type": "code",
   "execution_count": 24,
   "id": "5b0dc997-2228-4e9a-a2f9-844a74029402",
   "metadata": {},
   "outputs": [
    {
     "name": "stdout",
     "output_type": "stream",
     "text": [
      "CPU times: user 3.13 s, sys: 584 ms, total: 3.71 s\n",
      "Wall time: 2min 8s\n"
     ]
    }
   ],
   "source": [
    "%%time\n",
    "samples = sampler.sample_cqm(model, time_limit=120)\n",
    "samples.resolve()"
   ]
  },
  {
   "cell_type": "code",
   "execution_count": 25,
   "id": "0f388063-96f6-456e-86fa-9f0d71e4b369",
   "metadata": {},
   "outputs": [],
   "source": [
    "feasible = samples.filter(lambda d: d.is_feasible).to_pandas_dataframe(True)"
   ]
  },
  {
   "cell_type": "code",
   "execution_count": 26,
   "id": "7f44680a-456c-48f1-8e6d-1697044aaae5",
   "metadata": {},
   "outputs": [
    {
     "data": {
      "text/plain": [
       "<AxesSubplot: >"
      ]
     },
     "execution_count": 26,
     "metadata": {},
     "output_type": "execute_result"
    },
    {
     "data": {
      "image/png": "[encoded data removed]",
      "text/plain": [
       "<Figure size 640x480 with 1 Axes>"
      ]
     },
     "metadata": {},
     "output_type": "display_data"
    }
   ],
   "source": [
    "feasible.energy.hist()"
   ]
  },
  {
   "cell_type": "code",
   "execution_count": 27,
   "id": "95f8fb49-1a2b-48ad-b6cb-2a87f3f76e76",
   "metadata": {},
   "outputs": [
    {
     "data": {
      "text/plain": [
       "82.64099999999999"
      ]
     },
     "execution_count": 27,
     "metadata": {},
     "output_type": "execute_result"
    }
   ],
   "source": [
    "feasible.energy.min()"
   ]
  },
  {
   "cell_type": "markdown",
   "id": "c93c2364-f50c-49b2-8430-01210ae8e829",
   "metadata": {
    "slideshow": {
     "slide_type": "slide"
    }
   },
   "source": [
    "## Inspect model"
   ]
  },
  {
   "cell_type": "code",
   "execution_count": 28,
   "id": "8caecf37-2f38-4afc-8a5a-321779356a41",
   "metadata": {},
   "outputs": [],
   "source": [
    "lp_dump = dimod.lp.dumps(model)"
   ]
  },
  {
   "cell_type": "code",
   "execution_count": 29,
   "id": "eb6a3f95-15af-4713-a2a8-dd3d69a6d743",
   "metadata": {
    "scrolled": true
   },
   "outputs": [
    {
     "name": "stdout",
     "output_type": "stream",
     "text": [
      "Minimize\n",
      " obj: + 2.535 pump1_time1 + 6.253 pump2_time1 + 5.577 pump3_time1 \n",
      " + 5.577 pump4_time1 + 3.7180000000000004 pump5_time1 + 5.577 pump6_time1 \n",
      " + 3.7180000000000004 pump7_time1 + 2.535 pump1_time2 + 6.253 pump2_time2 \n",
      " + 5.577 pump3_time2 + 5.577 pump4_time2 + 3.7180000000000004 pump5_time2 \n",
      " + 5.577 pump6_time2 + 3.7180000000000004 pump7_time2 + 2.535 pump1_time3 \n",
      " + 6.253 pump2_time3 + 5.577 pump3_time3 + 5.577 pump4_time3 \n",
      " + 3.7180000000000004 pump5_time3 + 5.577 pump6_time3 \n",
      " + 3.7180000000000004 pump7_time3 + 2.535 pump1_time4 + 6.253 pump2_time4 \n",
      " + 5.577 pump3_time4 + 5.577 pump4_time4 + 3.7180000000000004 pump5_time4 \n",
      " + 5.577 pump6_time4 + 3.7180000000000004 pump7_time4 + 2.535 pump1_time5 \n",
      " + 6.253 pump2_time5 + 5.577 pump3_time5 + 5.577 pump4_time5 \n",
      " + 3.7180000000000004 pump5_time5 + 5.577 pump6_time5 \n",
      " + 3.7180000000000004 pump7_time5 + 2.535 pump1_time6 + 6.253 pump2_time6 \n",
      " + 5.577 pump3_time6 + 5.577 pump4_time6 + 3.7180000000000004 pump5_time6 \n",
      " + 5.577 pump6_time6 + 3.7180000000000004 pump7_time6 + 2.535 pump1_time7 \n",
      " + 6.253 pump2_time7 + 5.577 pump3_time7 + 5.577 pump4_time7 \n",
      " + 3.7180000000000004 pump5_time7 + 5.577 pump6_time7 \n",
      " + 3.7180000000000004 pump7_time7 + 4.244999999999999 pump1_time8 \n",
      " + 10.470999999999998 pump2_time8 + 9.338999999999999 pump3_time8 \n",
      " + 9.338999999999999 pump4_time8 + 6.225999999999999 pump5_time8 \n",
      " + 9.338999999999999 pump6_time8 + 6.225999999999999 pump7_time8 \n",
      " + 4.244999999999999 pump1_time9 + 10.470999999999998 pump2_time9 \n",
      " + 9.338999999999999 pump3_time9 + 9.338999999999999 pump4_time9 \n",
      " + 6.225999999999999 pump5_time9 + 9.338999999999999 pump6_time9 \n",
      " + 6.225999999999999 pump7_time9 + 4.244999999999999 pump1_time10 \n",
      " + 10.470999999999998 pump2_time10 + 9.338999999999999 pump3_time10 \n",
      " + 9.338999999999999 pump4_time10 + 6.225999999999999 pump5_time10 \n",
      " + 9.338999999999999 pump6_time10 + 6.225999999999999 pump7_time10 \n",
      " + 4.244999999999999 pump1_time11 + 10.470999999999998 pump2_time11 \n",
      " + 9.338999999999999 pump3_time11 + 9.338999999999999 pump4_time11 \n",
      " + 6.225999999999999 pump5_time11 + 9.338999999999999 pump6_time11 \n",
      " + 6.225999999999999 pump7_time11 + 4.244999999999999 pump1_time12 \n",
      " + 10.470999999999998 pump2_time12 + 9.338999999999999 pump3_time12 \n",
      " + 9.338999999999999 pump4_time12 + 6.225999999999999 pump5_time12 \n",
      " + 9.338999999999999 pump6_time12 + 6.225999999999999 pump7_time12 \n",
      " + 4.244999999999999 pump1_time13 + 10.470999999999998 pump2_time13 \n",
      " + 9.338999999999999 pump3_time13 + 9.338999999999999 pump4_time13 \n",
      " + 6.225999999999999 pump5_time13 + 9.338999999999999 pump6_time13 \n",
      " + 6.225999999999999 pump7_time13 + 2.535 pump1_time14 + 6.253 pump2_time14 \n",
      " + 5.577 pump3_time14 + 5.577 pump4_time14 + 3.7180000000000004 pump5_time14 \n",
      " + 5.577 pump6_time14 + 3.7180000000000004 pump7_time14 + 2.535 pump1_time15 \n",
      " + 6.253 pump2_time15 + 5.577 pump3_time15 + 5.577 pump4_time15 \n",
      " + 3.7180000000000004 pump5_time15 + 5.577 pump6_time15 \n",
      " + 3.7180000000000004 pump7_time15 + 2.535 pump1_time16 + 6.253 pump2_time16 \n",
      " + 5.577 pump3_time16 + 5.577 pump4_time16 + 3.7180000000000004 pump5_time16 \n",
      " + 5.577 pump6_time16 + 3.7180000000000004 pump7_time16 + 5.04 pump1_time17 \n",
      " + 12.432 pump2_time17 + 11.088000000000001 pump3_time17 \n",
      " + 11.088000000000001 pump4_time17 + 7.392 pump5_time17 \n",
      " + 11.088000000000001 pump6_time17 + 7.392 pump7_time17 + 5.04 pump1_time18 \n",
      " + 12.432 pump2_time18 + 11.088000000000001 pump3_time18 \n",
      " + 11.088000000000001 pump4_time18 + 7.392 pump5_time18 \n",
      " + 11.088000000000001 pump6_time18 + 7.392 pump7_time18 + 5.04 pump1_time19 \n",
      " + 12.432 pump2_time19 + 11.088000000000001 pump3_time19 \n",
      " + 11.088000000000001 pump4_time19 + 7.392 pump5_time19 \n",
      " + 11.088000000000001 pump6_time19 + 7.392 pump7_time19 + 5.04 pump1_time20 \n",
      " + 12.432 pump2_time20 + 11.088000000000001 pump3_time20 \n",
      " + 11.088000000000001 pump4_time20 + 7.392 pump5_time20 \n",
      " + 11.088000000000001 pump6_time20 + 7.392 pump7_time20 + 5.04 pump1_time21 \n",
      " + 12.432 pump2_time21 + 11.088000000000001 pump3_time21 \n",
      " + 11.088000000000001 pump4_time21 + 7.392 pump5_time21 \n",
      " + 11.088000000000001 pump6_time21 + 7.392 pump7_time21 + 2.535 pump1_time22 \n",
      " + 6.253 pump2_time22 + 5.577 pump3_time22 + 5.577 pump4_time22 \n",
      " + 3.7180000000000004 pump5_time22 + 5.577 pump6_time22 \n",
      " + 3.7180000000000004 pump7_time22 + 2.535 pump1_time23 + 6.253 pump2_time23 \n",
      " + 5.577 pump3_time23 + 5.577 pump4_time23 + 3.7180000000000004 pump5_time23 \n",
      " + 5.577 pump6_time23 + 3.7180000000000004 pump7_time23 + 2.535 pump1_time24 \n",
      " + 6.253 pump2_time24 + 5.577 pump3_time24 + 5.577 pump4_time24 \n",
      " + 3.7180000000000004 pump5_time24 + 5.577 pump6_time24 \n",
      " + 3.7180000000000004 pump7_time24 \n",
      "\n",
      "Subject To \n",
      " pump1_on_at_least_1h_per_day: + 1 pump1_time1 + 1 pump1_time2 + 1 pump1_time3 \n",
      " + 1 pump1_time4 + 1 pump1_time5 + 1 pump1_time6 + 1 pump1_time7 \n",
      " + 1 pump1_time8 + 1 pump1_time9 + 1 pump1_time10 + 1 pump1_time11 \n",
      " + 1 pump1_time12 + 1 pump1_time13 + 1 pump1_time14 + 1 pump1_time15 \n",
      " + 1 pump1_time16 + 1 pump1_time17 + 1 pump1_time18 + 1 pump1_time19 \n",
      " + 1 pump1_time20 + 1 pump1_time21 + 1 pump1_time22 + 1 pump1_time23 \n",
      " + 1 pump1_time24  >= 1.0\n",
      " pump2_on_at_least_1h_per_day: + 1 pump2_time1 + 1 pump2_time2 + 1 pump2_time3 \n",
      " + 1 pump2_time4 + 1 pump2_time5 + 1 pump2_time6 + 1 pump2_time7 \n",
      " + 1 pump2_time8 + 1 pump2_time9 + 1 pump2_time10 + 1 pump2_time11 \n",
      " + 1 pump2_time12 + 1 pump2_time13 + 1 pump2_time14 + 1 pump2_time15 \n",
      " + 1 pump2_time16 + 1 pump2_time17 + 1 pump2_time18 + 1 pump2_time19 \n",
      " + 1 pump2_time20 + 1 pump2_time21 + 1 pump2_time22 + 1 pump2_time23 \n",
      " + 1 pump2_time24  >= 1.0\n",
      " pump3_on_at_least_1h_per_day: + 1 pump3_time1 + 1 pump3_time2 + 1 pump3_time3 \n",
      " + 1 pump3_time4 + 1 pump3_time5 + 1 pump3_time6 + 1 pump3_time7 \n",
      " + 1 pump3_time8 + 1 pump3_time9 + 1 pump3_time10 + 1 pump3_time11 \n",
      " + 1 pump3_time12 + 1 pump3_time13 + 1 pump3_time14 + 1 pump3_time15 \n",
      " + 1 pump3_time16 + 1 pump3_time17 + 1 pump3_time18 + 1 pump3_time19 \n",
      " + 1 pump3_time20 + 1 pump3_time21 + 1 pump3_time22 + 1 pump3_time23 \n",
      " + 1 pump3_time24  >= 1.0\n",
      " pump4_on_at_least_1h_per_day: + 1 pump4_time1 + 1 pump4_time2 + 1 pump4_time3 \n",
      " + 1 pump4_time4 + 1 pump4_time5 + 1 pump4_time6 + 1 pump4_time7 \n",
      " + 1 pump4_time8 + 1 pump4_time9 + 1 pump4_time10 + 1 pump4_time11 \n",
      " + 1 pump4_time12 + 1 pump4_time13 + 1 pump4_time14 + 1 pump4_time15 \n",
      " + 1 pump4_time16 + 1 pump4_time17 + 1 pump4_time18 + 1 pump4_time19 \n",
      " + 1 pump4_time20 + 1 pump4_time21 + 1 pump4_time22 + 1 pump4_time23 \n",
      " + 1 pump4_time24  >= 1.0\n",
      " pump5_on_at_least_1h_per_day: + 1 pump5_time1 + 1 pump5_time2 + 1 pump5_time3 \n",
      " + 1 pump5_time4 + 1 pump5_time5 + 1 pump5_time6 + 1 pump5_time7 \n",
      " + 1 pump5_time8 + 1 pump5_time9 + 1 pump5_time10 + 1 pump5_time11 \n",
      " + 1 pump5_time12 + 1 pump5_time13 + 1 pump5_time14 + 1 pump5_time15 \n",
      " + 1 pump5_time16 + 1 pump5_time17 + 1 pump5_time18 + 1 pump5_time19 \n",
      " + 1 pump5_time20 + 1 pump5_time21 + 1 pump5_time22 + 1 pump5_time23 \n",
      " + 1 pump5_time24  >= 1.0\n",
      " pump6_on_at_least_1h_per_day: + 1 pump6_time1 + 1 pump6_time2 + 1 pump6_time3 \n",
      " + 1 pump6_time4 + 1 pump6_time5 + 1 pump6_time6 + 1 pump6_time7 \n",
      " + 1 pump6_time8 + 1 pump6_time9 + 1 pump6_time10 + 1 pump6_time11 \n",
      " + 1 pump6_time12 + 1 pump6_time13 + 1 pump6_time14 + 1 pump6_time15 \n",
      " + 1 pump6_time16 + 1 pump6_time17 + 1 pump6_time18 + 1 pump6_time19 \n",
      " + 1 pump6_time20 + 1 pump6_time21 + 1 pump6_time22 + 1 pump6_time23 \n",
      " + 1 pump6_time24  >= 1.0\n",
      " pump7_on_at_least_1h_per_day: + 1 pump7_time1 + 1 pump7_time2 + 1 pump7_time3 \n",
      " + 1 pump7_time4 + 1 pump7_time5 + 1 pump7_time6 + 1 pump7_time7 \n",
      " + 1 pump7_time8 + 1 pump7_time9 + 1 pump7_time10 + 1 pump7_time11 \n",
      " + 1 pump7_time12 + 1 pump7_time13 + 1 pump7_time14 + 1 pump7_time15 \n",
      " + 1 pump7_time16 + 1 pump7_time17 + 1 pump7_time18 + 1 pump7_time19 \n",
      " + 1 pump7_time20 + 1 pump7_time21 + 1 pump7_time22 + 1 pump7_time23 \n",
      " + 1 pump7_time24  >= 1.0\n",
      " at_least_one_pump_in_reserve_at_time1: + 1 pump1_time1 + 1 pump2_time1 \n",
      " + 1 pump3_time1 + 1 pump4_time1 + 1 pump5_time1 + 1 pump6_time1 \n",
      " + 1 pump7_time1  <= 6.0\n",
      " at_least_one_pump_in_reserve_at_time2: + 1 pump1_time2 + 1 pump2_time2 \n",
      " + 1 pump3_time2 + 1 pump4_time2 + 1 pump5_time2 + 1 pump6_time2 \n",
      " + 1 pump7_time2  <= 6.0\n",
      " at_least_one_pump_in_reserve_at_time3: + 1 pump1_time3 + 1 pump2_time3 \n",
      " + 1 pump3_time3 + 1 pump4_time3 + 1 pump5_time3 + 1 pump6_time3 \n",
      " + 1 pump7_time3  <= 6.0\n",
      " at_least_one_pump_in_reserve_at_time4: + 1 pump1_time4 + 1 pump2_time4 \n",
      " + 1 pump3_time4 + 1 pump4_time4 + 1 pump5_time4 + 1 pump6_time4 \n",
      " + 1 pump7_time4  <= 6.0\n",
      " at_least_one_pump_in_reserve_at_time5: + 1 pump1_time5 + 1 pump2_time5 \n",
      " + 1 pump3_time5 + 1 pump4_time5 + 1 pump5_time5 + 1 pump6_time5 \n",
      " + 1 pump7_time5  <= 6.0\n",
      " at_least_one_pump_in_reserve_at_time6: + 1 pump1_time6 + 1 pump2_time6 \n",
      " + 1 pump3_time6 + 1 pump4_time6 + 1 pump5_time6 + 1 pump6_time6 \n",
      " + 1 pump7_time6  <= 6.0\n",
      " at_least_one_pump_in_reserve_at_time7: + 1 pump1_time7 + 1 pump2_time7 \n",
      " + 1 pump3_time7 + 1 pump4_time7 + 1 pump5_time7 + 1 pump6_time7 \n",
      " + 1 pump7_time7  <= 6.0\n",
      " at_least_one_pump_in_reserve_at_time8: + 1 pump1_time8 + 1 pump2_time8 \n",
      " + 1 pump3_time8 + 1 pump4_time8 + 1 pump5_time8 + 1 pump6_time8 \n",
      " + 1 pump7_time8  <= 6.0\n",
      " at_least_one_pump_in_reserve_at_time9: + 1 pump1_time9 + 1 pump2_time9 \n",
      " + 1 pump3_time9 + 1 pump4_time9 + 1 pump5_time9 + 1 pump6_time9 \n",
      " + 1 pump7_time9  <= 6.0\n",
      " at_least_one_pump_in_reserve_at_time10: + 1 pump1_time10 + 1 pump2_time10 \n",
      " + 1 pump3_time10 + 1 pump4_time10 + 1 pump5_time10 + 1 pump6_time10 \n",
      " + 1 pump7_time10  <= 6.0\n",
      " at_least_one_pump_in_reserve_at_time11: + 1 pump1_time11 + 1 pump2_time11 \n",
      " + 1 pump3_time11 + 1 pump4_time11 + 1 pump5_time11 + 1 pump6_time11 \n",
      " + 1 pump7_time11  <= 6.0\n",
      " at_least_one_pump_in_reserve_at_time12: + 1 pump1_time12 + 1 pump2_time12 \n",
      " + 1 pump3_time12 + 1 pump4_time12 + 1 pump5_time12 + 1 pump6_time12 \n",
      " + 1 pump7_time12  <= 6.0\n",
      " at_least_one_pump_in_reserve_at_time13: + 1 pump1_time13 + 1 pump2_time13 \n",
      " + 1 pump3_time13 + 1 pump4_time13 + 1 pump5_time13 + 1 pump6_time13 \n",
      " + 1 pump7_time13  <= 6.0\n",
      " at_least_one_pump_in_reserve_at_time14: + 1 pump1_time14 + 1 pump2_time14 \n",
      " + 1 pump3_time14 + 1 pump4_time14 + 1 pump5_time14 + 1 pump6_time14 \n",
      " + 1 pump7_time14  <= 6.0\n",
      " at_least_one_pump_in_reserve_at_time15: + 1 pump1_time15 + 1 pump2_time15 \n",
      " + 1 pump3_time15 + 1 pump4_time15 + 1 pump5_time15 + 1 pump6_time15 \n",
      " + 1 pump7_time15  <= 6.0\n",
      " at_least_one_pump_in_reserve_at_time16: + 1 pump1_time16 + 1 pump2_time16 \n",
      " + 1 pump3_time16 + 1 pump4_time16 + 1 pump5_time16 + 1 pump6_time16 \n",
      " + 1 pump7_time16  <= 6.0\n",
      " at_least_one_pump_in_reserve_at_time17: + 1 pump1_time17 + 1 pump2_time17 \n",
      " + 1 pump3_time17 + 1 pump4_time17 + 1 pump5_time17 + 1 pump6_time17 \n",
      " + 1 pump7_time17  <= 6.0\n",
      " at_least_one_pump_in_reserve_at_time18: + 1 pump1_time18 + 1 pump2_time18 \n",
      " + 1 pump3_time18 + 1 pump4_time18 + 1 pump5_time18 + 1 pump6_time18 \n",
      " + 1 pump7_time18  <= 6.0\n",
      " at_least_one_pump_in_reserve_at_time19: + 1 pump1_time19 + 1 pump2_time19 \n",
      " + 1 pump3_time19 + 1 pump4_time19 + 1 pump5_time19 + 1 pump6_time19 \n",
      " + 1 pump7_time19  <= 6.0\n",
      " at_least_one_pump_in_reserve_at_time20: + 1 pump1_time20 + 1 pump2_time20 \n",
      " + 1 pump3_time20 + 1 pump4_time20 + 1 pump5_time20 + 1 pump6_time20 \n",
      " + 1 pump7_time20  <= 6.0\n",
      " at_least_one_pump_in_reserve_at_time21: + 1 pump1_time21 + 1 pump2_time21 \n",
      " + 1 pump3_time21 + 1 pump4_time21 + 1 pump5_time21 + 1 pump6_time21 \n",
      " + 1 pump7_time21  <= 6.0\n",
      " at_least_one_pump_in_reserve_at_time22: + 1 pump1_time22 + 1 pump2_time22 \n",
      " + 1 pump3_time22 + 1 pump4_time22 + 1 pump5_time22 + 1 pump6_time22 \n",
      " + 1 pump7_time22  <= 6.0\n",
      " at_least_one_pump_in_reserve_at_time23: + 1 pump1_time23 + 1 pump2_time23 \n",
      " + 1 pump3_time23 + 1 pump4_time23 + 1 pump5_time23 + 1 pump6_time23 \n",
      " + 1 pump7_time23  <= 6.0\n",
      " at_least_one_pump_in_reserve_at_time24: + 1 pump1_time24 + 1 pump2_time24 \n",
      " + 1 pump3_time24 + 1 pump4_time24 + 1 pump5_time24 + 1 pump6_time24 \n",
      " + 1 pump7_time24  <= 6.0\n",
      " within_capacity_at_time1: + 75 pump1_time1 + 133 pump2_time1 \n",
      " + 157 pump3_time1 + 176 pump4_time1 + 59 pump5_time1 + 69 pump6_time1 \n",
      " + 120 pump7_time1  <= 994.62\n",
      " within_capacity_at_time2: + 75 pump1_time1 + 133 pump2_time1 \n",
      " + 157 pump3_time1 + 176 pump4_time1 + 59 pump5_time1 + 69 pump6_time1 \n",
      " + 120 pump7_time1 + 75 pump1_time2 + 133 pump2_time2 + 157 pump3_time2 \n",
      " + 176 pump4_time2 + 59 pump5_time2 + 69 pump6_time2 + 120 pump7_time2 \n",
      "  <= 1025.8899999999999\n",
      " within_capacity_at_time3: + 75 pump1_time1 + 133 pump2_time1 \n",
      " + 157 pump3_time1 + 176 pump4_time1 + 59 pump5_time1 + 69 pump6_time1 \n",
      " + 120 pump7_time1 + 75 pump1_time2 + 133 pump2_time2 + 157 pump3_time2 \n",
      " + 176 pump4_time2 + 59 pump5_time2 + 69 pump6_time2 + 120 pump7_time2 \n",
      " + 75 pump1_time3 + 133 pump2_time3 + 157 pump3_time3 + 176 pump4_time3 \n",
      " + 59 pump5_time3 + 69 pump6_time3 + 120 pump7_time3  <= 1052.1100000000001\n",
      " within_capacity_at_time4: + 75 pump1_time1 + 133 pump2_time1 \n",
      " + 157 pump3_time1 + 176 pump4_time1 + 59 pump5_time1 + 69 pump6_time1 \n",
      " + 120 pump7_time1 + 75 pump1_time2 + 133 pump2_time2 + 157 pump3_time2 \n",
      " + 176 pump4_time2 + 59 pump5_time2 + 69 pump6_time2 + 120 pump7_time2 \n",
      " + 75 pump1_time3 + 133 pump2_time3 + 157 pump3_time3 + 176 pump4_time3 \n",
      " + 59 pump5_time3 + 69 pump6_time3 + 120 pump7_time3 + 75 pump1_time4 \n",
      " + 133 pump2_time4 + 157 pump3_time4 + 176 pump4_time4 + 59 pump5_time4 \n",
      " + 69 pump6_time4 + 120 pump7_time4  <= 1079.62\n",
      " within_capacity_at_time5: + 75 pump1_time1 + 133 pump2_time1 \n",
      " + 157 pump3_time1 + 176 pump4_time1 + 59 pump5_time1 + 69 pump6_time1 \n",
      " + 120 pump7_time1 + 75 pump1_time2 + 133 pump2_time2 + 157 pump3_time2 \n",
      " + 176 pump4_time2 + 59 pump5_time2 + 69 pump6_time2 + 120 pump7_time2 \n",
      " + 75 pump1_time3 + 133 pump2_time3 + 157 pump3_time3 + 176 pump4_time3 \n",
      " + 59 pump5_time3 + 69 pump6_time3 + 120 pump7_time3 + 75 pump1_time4 \n",
      " + 133 pump2_time4 + 157 pump3_time4 + 176 pump4_time4 + 59 pump5_time4 \n",
      " + 69 pump6_time4 + 120 pump7_time4 + 75 pump1_time5 + 133 pump2_time5 \n",
      " + 157 pump3_time5 + 176 pump4_time5 + 59 pump5_time5 + 69 pump6_time5 \n",
      " + 120 pump7_time5  <= 1111.12\n",
      " within_capacity_at_time6: + 75 pump1_time1 + 133 pump2_time1 \n",
      " + 157 pump3_time1 + 176 pump4_time1 + 59 pump5_time1 + 69 pump6_time1 \n",
      " + 120 pump7_time1 + 75 pump1_time2 + 133 pump2_time2 + 157 pump3_time2 \n",
      " + 176 pump4_time2 + 59 pump5_time2 + 69 pump6_time2 + 120 pump7_time2 \n",
      " + 75 pump1_time3 + 133 pump2_time3 + 157 pump3_time3 + 176 pump4_time3 \n",
      " + 59 pump5_time3 + 69 pump6_time3 + 120 pump7_time3 + 75 pump1_time4 \n",
      " + 133 pump2_time4 + 157 pump3_time4 + 176 pump4_time4 + 59 pump5_time4 \n",
      " + 69 pump6_time4 + 120 pump7_time4 + 75 pump1_time5 + 133 pump2_time5 \n",
      " + 157 pump3_time5 + 176 pump4_time5 + 59 pump5_time5 + 69 pump6_time5 \n",
      " + 120 pump7_time5 + 75 pump1_time6 + 133 pump2_time6 + 157 pump3_time6 \n",
      " + 176 pump4_time6 + 59 pump5_time6 + 69 pump6_time6 + 120 pump7_time6 \n",
      "  <= 1157.3\n",
      " within_capacity_at_time7: + 75 pump1_time1 + 133 pump2_time1 \n",
      " + 157 pump3_time1 + 176 pump4_time1 + 59 pump5_time1 + 69 pump6_time1 \n",
      " + 120 pump7_time1 + 75 pump1_time2 + 133 pump2_time2 + 157 pump3_time2 \n",
      " + 176 pump4_time2 + 59 pump5_time2 + 69 pump6_time2 + 120 pump7_time2 \n",
      " + 75 pump1_time3 + 133 pump2_time3 + 157 pump3_time3 + 176 pump4_time3 \n",
      " + 59 pump5_time3 + 69 pump6_time3 + 120 pump7_time3 + 75 pump1_time4 \n",
      " + 133 pump2_time4 + 157 pump3_time4 + 176 pump4_time4 + 59 pump5_time4 \n",
      " + 69 pump6_time4 + 120 pump7_time4 + 75 pump1_time5 + 133 pump2_time5 \n",
      " + 157 pump3_time5 + 176 pump4_time5 + 59 pump5_time5 + 69 pump6_time5 \n",
      " + 120 pump7_time5 + 75 pump1_time6 + 133 pump2_time6 + 157 pump3_time6 \n",
      " + 176 pump4_time6 + 59 pump5_time6 + 69 pump6_time6 + 120 pump7_time6 \n",
      " + 75 pump1_time7 + 133 pump2_time7 + 157 pump3_time7 + 176 pump4_time7 \n",
      " + 59 pump5_time7 + 69 pump6_time7 + 120 pump7_time7  <= 1226.77\n",
      " within_capacity_at_time8: + 75 pump1_time1 + 133 pump2_time1 \n",
      " + 157 pump3_time1 + 176 pump4_time1 + 59 pump5_time1 + 69 pump6_time1 \n",
      " + 120 pump7_time1 + 75 pump1_time2 + 133 pump2_time2 + 157 pump3_time2 \n",
      " + 176 pump4_time2 + 59 pump5_time2 + 69 pump6_time2 + 120 pump7_time2 \n",
      " + 75 pump1_time3 + 133 pump2_time3 + 157 pump3_time3 + 176 pump4_time3 \n",
      " + 59 pump5_time3 + 69 pump6_time3 + 120 pump7_time3 + 75 pump1_time4 \n",
      " + 133 pump2_time4 + 157 pump3_time4 + 176 pump4_time4 + 59 pump5_time4 \n",
      " + 69 pump6_time4 + 120 pump7_time4 + 75 pump1_time5 + 133 pump2_time5 \n",
      " + 157 pump3_time5 + 176 pump4_time5 + 59 pump5_time5 + 69 pump6_time5 \n",
      " + 120 pump7_time5 + 75 pump1_time6 + 133 pump2_time6 + 157 pump3_time6 \n",
      " + 176 pump4_time6 + 59 pump5_time6 + 69 pump6_time6 + 120 pump7_time6 \n",
      " + 75 pump1_time7 + 133 pump2_time7 + 157 pump3_time7 + 176 pump4_time7 \n",
      " + 59 pump5_time7 + 69 pump6_time7 + 120 pump7_time7 + 75 pump1_time8 \n",
      " + 133 pump2_time8 + 157 pump3_time8 + 176 pump4_time8 + 59 pump5_time8 \n",
      " + 69 pump6_time8 + 120 pump7_time8  <= 1327.13\n",
      " within_capacity_at_time9: + 75 pump1_time1 + 133 pump2_time1 \n",
      " + 157 pump3_time1 + 176 pump4_time1 + 59 pump5_time1 + 69 pump6_time1 \n",
      " + 120 pump7_time1 + 75 pump1_time2 + 133 pump2_time2 + 157 pump3_time2 \n",
      " + 176 pump4_time2 + 59 pump5_time2 + 69 pump6_time2 + 120 pump7_time2 \n",
      " + 75 pump1_time3 + 133 pump2_time3 + 157 pump3_time3 + 176 pump4_time3 \n",
      " + 59 pump5_time3 + 69 pump6_time3 + 120 pump7_time3 + 75 pump1_time4 \n",
      " + 133 pump2_time4 + 157 pump3_time4 + 176 pump4_time4 + 59 pump5_time4 \n",
      " + 69 pump6_time4 + 120 pump7_time4 + 75 pump1_time5 + 133 pump2_time5 \n",
      " + 157 pump3_time5 + 176 pump4_time5 + 59 pump5_time5 + 69 pump6_time5 \n",
      " + 120 pump7_time5 + 75 pump1_time6 + 133 pump2_time6 + 157 pump3_time6 \n",
      " + 176 pump4_time6 + 59 pump5_time6 + 69 pump6_time6 + 120 pump7_time6 \n",
      " + 75 pump1_time7 + 133 pump2_time7 + 157 pump3_time7 + 176 pump4_time7 \n",
      " + 59 pump5_time7 + 69 pump6_time7 + 120 pump7_time7 + 75 pump1_time8 \n",
      " + 133 pump2_time8 + 157 pump3_time8 + 176 pump4_time8 + 59 pump5_time8 \n",
      " + 69 pump6_time8 + 120 pump7_time8 + 75 pump1_time9 + 133 pump2_time9 \n",
      " + 157 pump3_time9 + 176 pump4_time9 + 59 pump5_time9 + 69 pump6_time9 \n",
      " + 120 pump7_time9  <= 1458.98\n",
      " within_capacity_at_time10: + 75 pump1_time1 + 133 pump2_time1 \n",
      " + 157 pump3_time1 + 176 pump4_time1 + 59 pump5_time1 + 69 pump6_time1 \n",
      " + 120 pump7_time1 + 75 pump1_time2 + 133 pump2_time2 + 157 pump3_time2 \n",
      " + 176 pump4_time2 + 59 pump5_time2 + 69 pump6_time2 + 120 pump7_time2 \n",
      " + 75 pump1_time3 + 133 pump2_time3 + 157 pump3_time3 + 176 pump4_time3 \n",
      " + 59 pump5_time3 + 69 pump6_time3 + 120 pump7_time3 + 75 pump1_time4 \n",
      " + 133 pump2_time4 + 157 pump3_time4 + 176 pump4_time4 + 59 pump5_time4 \n",
      " + 69 pump6_time4 + 120 pump7_time4 + 75 pump1_time5 + 133 pump2_time5 \n",
      " + 157 pump3_time5 + 176 pump4_time5 + 59 pump5_time5 + 69 pump6_time5 \n",
      " + 120 pump7_time5 + 75 pump1_time6 + 133 pump2_time6 + 157 pump3_time6 \n",
      " + 176 pump4_time6 + 59 pump5_time6 + 69 pump6_time6 + 120 pump7_time6 \n",
      " + 75 pump1_time7 + 133 pump2_time7 + 157 pump3_time7 + 176 pump4_time7 \n",
      " + 59 pump5_time7 + 69 pump6_time7 + 120 pump7_time7 + 75 pump1_time8 \n",
      " + 133 pump2_time8 + 157 pump3_time8 + 176 pump4_time8 + 59 pump5_time8 \n",
      " + 69 pump6_time8 + 120 pump7_time8 + 75 pump1_time9 + 133 pump2_time9 \n",
      " + 157 pump3_time9 + 176 pump4_time9 + 59 pump5_time9 + 69 pump6_time9 \n",
      " + 120 pump7_time9 + 75 pump1_time10 + 133 pump2_time10 + 157 pump3_time10 \n",
      " + 176 pump4_time10 + 59 pump5_time10 + 69 pump6_time10 + 120 pump7_time10 \n",
      "  <= 1607.49\n",
      " within_capacity_at_time11: + 75 pump1_time1 + 133 pump2_time1 \n",
      " + 157 pump3_time1 + 176 pump4_time1 + 59 pump5_time1 + 69 pump6_time1 \n",
      " + 120 pump7_time1 + 75 pump1_time2 + 133 pump2_time2 + 157 pump3_time2 \n",
      " + 176 pump4_time2 + 59 pump5_time2 + 69 pump6_time2 + 120 pump7_time2 \n",
      " + 75 pump1_time3 + 133 pump2_time3 + 157 pump3_time3 + 176 pump4_time3 \n",
      " + 59 pump5_time3 + 69 pump6_time3 + 120 pump7_time3 + 75 pump1_time4 \n",
      " + 133 pump2_time4 + 157 pump3_time4 + 176 pump4_time4 + 59 pump5_time4 \n",
      " + 69 pump6_time4 + 120 pump7_time4 + 75 pump1_time5 + 133 pump2_time5 \n",
      " + 157 pump3_time5 + 176 pump4_time5 + 59 pump5_time5 + 69 pump6_time5 \n",
      " + 120 pump7_time5 + 75 pump1_time6 + 133 pump2_time6 + 157 pump3_time6 \n",
      " + 176 pump4_time6 + 59 pump5_time6 + 69 pump6_time6 + 120 pump7_time6 \n",
      " + 75 pump1_time7 + 133 pump2_time7 + 157 pump3_time7 + 176 pump4_time7 \n",
      " + 59 pump5_time7 + 69 pump6_time7 + 120 pump7_time7 + 75 pump1_time8 \n",
      " + 133 pump2_time8 + 157 pump3_time8 + 176 pump4_time8 + 59 pump5_time8 \n",
      " + 69 pump6_time8 + 120 pump7_time8 + 75 pump1_time9 + 133 pump2_time9 \n",
      " + 157 pump3_time9 + 176 pump4_time9 + 59 pump5_time9 + 69 pump6_time9 \n",
      " + 120 pump7_time9 + 75 pump1_time10 + 133 pump2_time10 + 157 pump3_time10 \n",
      " + 176 pump4_time10 + 59 pump5_time10 + 69 pump6_time10 + 120 pump7_time10 \n",
      " + 75 pump1_time11 + 133 pump2_time11 + 157 pump3_time11 + 176 pump4_time11 \n",
      " + 59 pump5_time11 + 69 pump6_time11 + 120 pump7_time11  <= 1757.38\n",
      " within_capacity_at_time12: + 75 pump1_time1 + 133 pump2_time1 \n",
      " + 157 pump3_time1 + 176 pump4_time1 + 59 pump5_time1 + 69 pump6_time1 \n",
      " + 120 pump7_time1 + 75 pump1_time2 + 133 pump2_time2 + 157 pump3_time2 \n",
      " + 176 pump4_time2 + 59 pump5_time2 + 69 pump6_time2 + 120 pump7_time2 \n",
      " + 75 pump1_time3 + 133 pump2_time3 + 157 pump3_time3 + 176 pump4_time3 \n",
      " + 59 pump5_time3 + 69 pump6_time3 + 120 pump7_time3 + 75 pump1_time4 \n",
      " + 133 pump2_time4 + 157 pump3_time4 + 176 pump4_time4 + 59 pump5_time4 \n",
      " + 69 pump6_time4 + 120 pump7_time4 + 75 pump1_time5 + 133 pump2_time5 \n",
      " + 157 pump3_time5 + 176 pump4_time5 + 59 pump5_time5 + 69 pump6_time5 \n",
      " + 120 pump7_time5 + 75 pump1_time6 + 133 pump2_time6 + 157 pump3_time6 \n",
      " + 176 pump4_time6 + 59 pump5_time6 + 69 pump6_time6 + 120 pump7_time6 \n",
      " + 75 pump1_time7 + 133 pump2_time7 + 157 pump3_time7 + 176 pump4_time7 \n",
      " + 59 pump5_time7 + 69 pump6_time7 + 120 pump7_time7 + 75 pump1_time8 \n",
      " + 133 pump2_time8 + 157 pump3_time8 + 176 pump4_time8 + 59 pump5_time8 \n",
      " + 69 pump6_time8 + 120 pump7_time8 + 75 pump1_time9 + 133 pump2_time9 \n",
      " + 157 pump3_time9 + 176 pump4_time9 + 59 pump5_time9 + 69 pump6_time9 \n",
      " + 120 pump7_time9 + 75 pump1_time10 + 133 pump2_time10 + 157 pump3_time10 \n",
      " + 176 pump4_time10 + 59 pump5_time10 + 69 pump6_time10 + 120 pump7_time10 \n",
      " + 75 pump1_time11 + 133 pump2_time11 + 157 pump3_time11 + 176 pump4_time11 \n",
      " + 59 pump5_time11 + 69 pump6_time11 + 120 pump7_time11 + 75 pump1_time12 \n",
      " + 133 pump2_time12 + 157 pump3_time12 + 176 pump4_time12 + 59 pump5_time12 \n",
      " + 69 pump6_time12 + 120 pump7_time12  <= 1899.5900000000001\n",
      " within_capacity_at_time13: + 75 pump1_time1 + 133 pump2_time1 \n",
      " + 157 pump3_time1 + 176 pump4_time1 + 59 pump5_time1 + 69 pump6_time1 \n",
      " + 120 pump7_time1 + 75 pump1_time2 + 133 pump2_time2 + 157 pump3_time2 \n",
      " + 176 pump4_time2 + 59 pump5_time2 + 69 pump6_time2 + 120 pump7_time2 \n",
      " + 75 pump1_time3 + 133 pump2_time3 + 157 pump3_time3 + 176 pump4_time3 \n",
      " + 59 pump5_time3 + 69 pump6_time3 + 120 pump7_time3 + 75 pump1_time4 \n",
      " + 133 pump2_time4 + 157 pump3_time4 + 176 pump4_time4 + 59 pump5_time4 \n",
      " + 69 pump6_time4 + 120 pump7_time4 + 75 pump1_time5 + 133 pump2_time5 \n",
      " + 157 pump3_time5 + 176 pump4_time5 + 59 pump5_time5 + 69 pump6_time5 \n",
      " + 120 pump7_time5 + 75 pump1_time6 + 133 pump2_time6 + 157 pump3_time6 \n",
      " + 176 pump4_time6 + 59 pump5_time6 + 69 pump6_time6 + 120 pump7_time6 \n",
      " + 75 pump1_time7 + 133 pump2_time7 + 157 pump3_time7 + 176 pump4_time7 \n",
      " + 59 pump5_time7 + 69 pump6_time7 + 120 pump7_time7 + 75 pump1_time8 \n",
      " + 133 pump2_time8 + 157 pump3_time8 + 176 pump4_time8 + 59 pump5_time8 \n",
      " + 69 pump6_time8 + 120 pump7_time8 + 75 pump1_time9 + 133 pump2_time9 \n",
      " + 157 pump3_time9 + 176 pump4_time9 + 59 pump5_time9 + 69 pump6_time9 \n",
      " + 120 pump7_time9 + 75 pump1_time10 + 133 pump2_time10 + 157 pump3_time10 \n",
      " + 176 pump4_time10 + 59 pump5_time10 + 69 pump6_time10 + 120 pump7_time10 \n",
      " + 75 pump1_time11 + 133 pump2_time11 + 157 pump3_time11 + 176 pump4_time11 \n",
      " + 59 pump5_time11 + 69 pump6_time11 + 120 pump7_time11 + 75 pump1_time12 \n",
      " + 133 pump2_time12 + 157 pump3_time12 + 176 pump4_time12 + 59 pump5_time12 \n",
      " + 69 pump6_time12 + 120 pump7_time12 + 75 pump1_time13 + 133 pump2_time13 \n",
      " + 157 pump3_time13 + 176 pump4_time13 + 59 pump5_time13 + 69 pump6_time13 \n",
      " + 120 pump7_time13  <= 2031.68\n",
      " within_capacity_at_time14: + 75 pump1_time1 + 133 pump2_time1 \n",
      " + 157 pump3_time1 + 176 pump4_time1 + 59 pump5_time1 + 69 pump6_time1 \n",
      " + 120 pump7_time1 + 75 pump1_time2 + 133 pump2_time2 + 157 pump3_time2 \n",
      " + 176 pump4_time2 + 59 pump5_time2 + 69 pump6_time2 + 120 pump7_time2 \n",
      " + 75 pump1_time3 + 133 pump2_time3 + 157 pump3_time3 + 176 pump4_time3 \n",
      " + 59 pump5_time3 + 69 pump6_time3 + 120 pump7_time3 + 75 pump1_time4 \n",
      " + 133 pump2_time4 + 157 pump3_time4 + 176 pump4_time4 + 59 pump5_time4 \n",
      " + 69 pump6_time4 + 120 pump7_time4 + 75 pump1_time5 + 133 pump2_time5 \n",
      " + 157 pump3_time5 + 176 pump4_time5 + 59 pump5_time5 + 69 pump6_time5 \n",
      " + 120 pump7_time5 + 75 pump1_time6 + 133 pump2_time6 + 157 pump3_time6 \n",
      " + 176 pump4_time6 + 59 pump5_time6 + 69 pump6_time6 + 120 pump7_time6 \n",
      " + 75 pump1_time7 + 133 pump2_time7 + 157 pump3_time7 + 176 pump4_time7 \n",
      " + 59 pump5_time7 + 69 pump6_time7 + 120 pump7_time7 + 75 pump1_time8 \n",
      " + 133 pump2_time8 + 157 pump3_time8 + 176 pump4_time8 + 59 pump5_time8 \n",
      " + 69 pump6_time8 + 120 pump7_time8 + 75 pump1_time9 + 133 pump2_time9 \n",
      " + 157 pump3_time9 + 176 pump4_time9 + 59 pump5_time9 + 69 pump6_time9 \n",
      " + 120 pump7_time9 + 75 pump1_time10 + 133 pump2_time10 + 157 pump3_time10 \n",
      " + 176 pump4_time10 + 59 pump5_time10 + 69 pump6_time10 + 120 pump7_time10 \n",
      " + 75 pump1_time11 + 133 pump2_time11 + 157 pump3_time11 + 176 pump4_time11 \n",
      " + 59 pump5_time11 + 69 pump6_time11 + 120 pump7_time11 + 75 pump1_time12 \n",
      " + 133 pump2_time12 + 157 pump3_time12 + 176 pump4_time12 + 59 pump5_time12 \n",
      " + 69 pump6_time12 + 120 pump7_time12 + 75 pump1_time13 + 133 pump2_time13 \n",
      " + 157 pump3_time13 + 176 pump4_time13 + 59 pump5_time13 + 69 pump6_time13 \n",
      " + 120 pump7_time13 + 75 pump1_time14 + 133 pump2_time14 + 157 pump3_time14 \n",
      " + 176 pump4_time14 + 59 pump5_time14 + 69 pump6_time14 + 120 pump7_time14 \n",
      "  <= 2160.9700000000003\n",
      " within_capacity_at_time15: + 75 pump1_time1 + 133 pump2_time1 \n",
      " + 157 pump3_time1 + 176 pump4_time1 + 59 pump5_time1 + 69 pump6_time1 \n",
      " + 120 pump7_time1 + 75 pump1_time2 + 133 pump2_time2 + 157 pump3_time2 \n",
      " + 176 pump4_time2 + 59 pump5_time2 + 69 pump6_time2 + 120 pump7_time2 \n",
      " + 75 pump1_time3 + 133 pump2_time3 + 157 pump3_time3 + 176 pump4_time3 \n",
      " + 59 pump5_time3 + 69 pump6_time3 + 120 pump7_time3 + 75 pump1_time4 \n",
      " + 133 pump2_time4 + 157 pump3_time4 + 176 pump4_time4 + 59 pump5_time4 \n",
      " + 69 pump6_time4 + 120 pump7_time4 + 75 pump1_time5 + 133 pump2_time5 \n",
      " + 157 pump3_time5 + 176 pump4_time5 + 59 pump5_time5 + 69 pump6_time5 \n",
      " + 120 pump7_time5 + 75 pump1_time6 + 133 pump2_time6 + 157 pump3_time6 \n",
      " + 176 pump4_time6 + 59 pump5_time6 + 69 pump6_time6 + 120 pump7_time6 \n",
      " + 75 pump1_time7 + 133 pump2_time7 + 157 pump3_time7 + 176 pump4_time7 \n",
      " + 59 pump5_time7 + 69 pump6_time7 + 120 pump7_time7 + 75 pump1_time8 \n",
      " + 133 pump2_time8 + 157 pump3_time8 + 176 pump4_time8 + 59 pump5_time8 \n",
      " + 69 pump6_time8 + 120 pump7_time8 + 75 pump1_time9 + 133 pump2_time9 \n",
      " + 157 pump3_time9 + 176 pump4_time9 + 59 pump5_time9 + 69 pump6_time9 \n",
      " + 120 pump7_time9 + 75 pump1_time10 + 133 pump2_time10 + 157 pump3_time10 \n",
      " + 176 pump4_time10 + 59 pump5_time10 + 69 pump6_time10 + 120 pump7_time10 \n",
      " + 75 pump1_time11 + 133 pump2_time11 + 157 pump3_time11 + 176 pump4_time11 \n",
      " + 59 pump5_time11 + 69 pump6_time11 + 120 pump7_time11 + 75 pump1_time12 \n",
      " + 133 pump2_time12 + 157 pump3_time12 + 176 pump4_time12 + 59 pump5_time12 \n",
      " + 69 pump6_time12 + 120 pump7_time12 + 75 pump1_time13 + 133 pump2_time13 \n",
      " + 157 pump3_time13 + 176 pump4_time13 + 59 pump5_time13 + 69 pump6_time13 \n",
      " + 120 pump7_time13 + 75 pump1_time14 + 133 pump2_time14 + 157 pump3_time14 \n",
      " + 176 pump4_time14 + 59 pump5_time14 + 69 pump6_time14 + 120 pump7_time14 \n",
      " + 75 pump1_time15 + 133 pump2_time15 + 157 pump3_time15 + 176 pump4_time15 \n",
      " + 59 pump5_time15 + 69 pump6_time15 + 120 pump7_time15  <= 2285.0299999999997\n",
      " within_capacity_at_time16: + 75 pump1_time1 + 133 pump2_time1 \n",
      " + 157 pump3_time1 + 176 pump4_time1 + 59 pump5_time1 + 69 pump6_time1 \n",
      " + 120 pump7_time1 + 75 pump1_time2 + 133 pump2_time2 + 157 pump3_time2 \n",
      " + 176 pump4_time2 + 59 pump5_time2 + 69 pump6_time2 + 120 pump7_time2 \n",
      " + 75 pump1_time3 + 133 pump2_time3 + 157 pump3_time3 + 176 pump4_time3 \n",
      " + 59 pump5_time3 + 69 pump6_time3 + 120 pump7_time3 + 75 pump1_time4 \n",
      " + 133 pump2_time4 + 157 pump3_time4 + 176 pump4_time4 + 59 pump5_time4 \n",
      " + 69 pump6_time4 + 120 pump7_time4 + 75 pump1_time5 + 133 pump2_time5 \n",
      " + 157 pump3_time5 + 176 pump4_time5 + 59 pump5_time5 + 69 pump6_time5 \n",
      " + 120 pump7_time5 + 75 pump1_time6 + 133 pump2_time6 + 157 pump3_time6 \n",
      " + 176 pump4_time6 + 59 pump5_time6 + 69 pump6_time6 + 120 pump7_time6 \n",
      " + 75 pump1_time7 + 133 pump2_time7 + 157 pump3_time7 + 176 pump4_time7 \n",
      " + 59 pump5_time7 + 69 pump6_time7 + 120 pump7_time7 + 75 pump1_time8 \n",
      " + 133 pump2_time8 + 157 pump3_time8 + 176 pump4_time8 + 59 pump5_time8 \n",
      " + 69 pump6_time8 + 120 pump7_time8 + 75 pump1_time9 + 133 pump2_time9 \n",
      " + 157 pump3_time9 + 176 pump4_time9 + 59 pump5_time9 + 69 pump6_time9 \n",
      " + 120 pump7_time9 + 75 pump1_time10 + 133 pump2_time10 + 157 pump3_time10 \n",
      " + 176 pump4_time10 + 59 pump5_time10 + 69 pump6_time10 + 120 pump7_time10 \n",
      " + 75 pump1_time11 + 133 pump2_time11 + 157 pump3_time11 + 176 pump4_time11 \n",
      " + 59 pump5_time11 + 69 pump6_time11 + 120 pump7_time11 + 75 pump1_time12 \n",
      " + 133 pump2_time12 + 157 pump3_time12 + 176 pump4_time12 + 59 pump5_time12 \n",
      " + 69 pump6_time12 + 120 pump7_time12 + 75 pump1_time13 + 133 pump2_time13 \n",
      " + 157 pump3_time13 + 176 pump4_time13 + 59 pump5_time13 + 69 pump6_time13 \n",
      " + 120 pump7_time13 + 75 pump1_time14 + 133 pump2_time14 + 157 pump3_time14 \n",
      " + 176 pump4_time14 + 59 pump5_time14 + 69 pump6_time14 + 120 pump7_time14 \n",
      " + 75 pump1_time15 + 133 pump2_time15 + 157 pump3_time15 + 176 pump4_time15 \n",
      " + 59 pump5_time15 + 69 pump6_time15 + 120 pump7_time15 + 75 pump1_time16 \n",
      " + 133 pump2_time16 + 157 pump3_time16 + 176 pump4_time16 + 59 pump5_time16 \n",
      " + 69 pump6_time16 + 120 pump7_time16  <= 2399.71\n",
      " within_capacity_at_time17: + 75 pump1_time1 + 133 pump2_time1 \n",
      " + 157 pump3_time1 + 176 pump4_time1 + 59 pump5_time1 + 69 pump6_time1 \n",
      " + 120 pump7_time1 + 75 pump1_time2 + 133 pump2_time2 + 157 pump3_time2 \n",
      " + 176 pump4_time2 + 59 pump5_time2 + 69 pump6_time2 + 120 pump7_time2 \n",
      " + 75 pump1_time3 + 133 pump2_time3 + 157 pump3_time3 + 176 pump4_time3 \n",
      " + 59 pump5_time3 + 69 pump6_time3 + 120 pump7_time3 + 75 pump1_time4 \n",
      " + 133 pump2_time4 + 157 pump3_time4 + 176 pump4_time4 + 59 pump5_time4 \n",
      " + 69 pump6_time4 + 120 pump7_time4 + 75 pump1_time5 + 133 pump2_time5 \n",
      " + 157 pump3_time5 + 176 pump4_time5 + 59 pump5_time5 + 69 pump6_time5 \n",
      " + 120 pump7_time5 + 75 pump1_time6 + 133 pump2_time6 + 157 pump3_time6 \n",
      " + 176 pump4_time6 + 59 pump5_time6 + 69 pump6_time6 + 120 pump7_time6 \n",
      " + 75 pump1_time7 + 133 pump2_time7 + 157 pump3_time7 + 176 pump4_time7 \n",
      " + 59 pump5_time7 + 69 pump6_time7 + 120 pump7_time7 + 75 pump1_time8 \n",
      " + 133 pump2_time8 + 157 pump3_time8 + 176 pump4_time8 + 59 pump5_time8 \n",
      " + 69 pump6_time8 + 120 pump7_time8 + 75 pump1_time9 + 133 pump2_time9 \n",
      " + 157 pump3_time9 + 176 pump4_time9 + 59 pump5_time9 + 69 pump6_time9 \n",
      " + 120 pump7_time9 + 75 pump1_time10 + 133 pump2_time10 + 157 pump3_time10 \n",
      " + 176 pump4_time10 + 59 pump5_time10 + 69 pump6_time10 + 120 pump7_time10 \n",
      " + 75 pump1_time11 + 133 pump2_time11 + 157 pump3_time11 + 176 pump4_time11 \n",
      " + 59 pump5_time11 + 69 pump6_time11 + 120 pump7_time11 + 75 pump1_time12 \n",
      " + 133 pump2_time12 + 157 pump3_time12 + 176 pump4_time12 + 59 pump5_time12 \n",
      " + 69 pump6_time12 + 120 pump7_time12 + 75 pump1_time13 + 133 pump2_time13 \n",
      " + 157 pump3_time13 + 176 pump4_time13 + 59 pump5_time13 + 69 pump6_time13 \n",
      " + 120 pump7_time13 + 75 pump1_time14 + 133 pump2_time14 + 157 pump3_time14 \n",
      " + 176 pump4_time14 + 59 pump5_time14 + 69 pump6_time14 + 120 pump7_time14 \n",
      " + 75 pump1_time15 + 133 pump2_time15 + 157 pump3_time15 + 176 pump4_time15 \n",
      " + 59 pump5_time15 + 69 pump6_time15 + 120 pump7_time15 + 75 pump1_time16 \n",
      " + 133 pump2_time16 + 157 pump3_time16 + 176 pump4_time16 + 59 pump5_time16 \n",
      " + 69 pump6_time16 + 120 pump7_time16 + 75 pump1_time17 + 133 pump2_time17 \n",
      " + 157 pump3_time17 + 176 pump4_time17 + 59 pump5_time17 + 69 pump6_time17 \n",
      " + 120 pump7_time17  <= 2509.04\n",
      " within_capacity_at_time18: + 75 pump1_time1 + 133 pump2_time1 \n",
      " + 157 pump3_time1 + 176 pump4_time1 + 59 pump5_time1 + 69 pump6_time1 \n",
      " + 120 pump7_time1 + 75 pump1_time2 + 133 pump2_time2 + 157 pump3_time2 \n",
      " + 176 pump4_time2 + 59 pump5_time2 + 69 pump6_time2 + 120 pump7_time2 \n",
      " + 75 pump1_time3 + 133 pump2_time3 + 157 pump3_time3 + 176 pump4_time3 \n",
      " + 59 pump5_time3 + 69 pump6_time3 + 120 pump7_time3 + 75 pump1_time4 \n",
      " + 133 pump2_time4 + 157 pump3_time4 + 176 pump4_time4 + 59 pump5_time4 \n",
      " + 69 pump6_time4 + 120 pump7_time4 + 75 pump1_time5 + 133 pump2_time5 \n",
      " + 157 pump3_time5 + 176 pump4_time5 + 59 pump5_time5 + 69 pump6_time5 \n",
      " + 120 pump7_time5 + 75 pump1_time6 + 133 pump2_time6 + 157 pump3_time6 \n",
      " + 176 pump4_time6 + 59 pump5_time6 + 69 pump6_time6 + 120 pump7_time6 \n",
      " + 75 pump1_time7 + 133 pump2_time7 + 157 pump3_time7 + 176 pump4_time7 \n",
      " + 59 pump5_time7 + 69 pump6_time7 + 120 pump7_time7 + 75 pump1_time8 \n",
      " + 133 pump2_time8 + 157 pump3_time8 + 176 pump4_time8 + 59 pump5_time8 \n",
      " + 69 pump6_time8 + 120 pump7_time8 + 75 pump1_time9 + 133 pump2_time9 \n",
      " + 157 pump3_time9 + 176 pump4_time9 + 59 pump5_time9 + 69 pump6_time9 \n",
      " + 120 pump7_time9 + 75 pump1_time10 + 133 pump2_time10 + 157 pump3_time10 \n",
      " + 176 pump4_time10 + 59 pump5_time10 + 69 pump6_time10 + 120 pump7_time10 \n",
      " + 75 pump1_time11 + 133 pump2_time11 + 157 pump3_time11 + 176 pump4_time11 \n",
      " + 59 pump5_time11 + 69 pump6_time11 + 120 pump7_time11 + 75 pump1_time12 \n",
      " + 133 pump2_time12 + 157 pump3_time12 + 176 pump4_time12 + 59 pump5_time12 \n",
      " + 69 pump6_time12 + 120 pump7_time12 + 75 pump1_time13 + 133 pump2_time13 \n",
      " + 157 pump3_time13 + 176 pump4_time13 + 59 pump5_time13 + 69 pump6_time13 \n",
      " + 120 pump7_time13 + 75 pump1_time14 + 133 pump2_time14 + 157 pump3_time14 \n",
      " + 176 pump4_time14 + 59 pump5_time14 + 69 pump6_time14 + 120 pump7_time14 \n",
      " + 75 pump1_time15 + 133 pump2_time15 + 157 pump3_time15 + 176 pump4_time15 \n",
      " + 59 pump5_time15 + 69 pump6_time15 + 120 pump7_time15 + 75 pump1_time16 \n",
      " + 133 pump2_time16 + 157 pump3_time16 + 176 pump4_time16 + 59 pump5_time16 \n",
      " + 69 pump6_time16 + 120 pump7_time16 + 75 pump1_time17 + 133 pump2_time17 \n",
      " + 157 pump3_time17 + 176 pump4_time17 + 59 pump5_time17 + 69 pump6_time17 \n",
      " + 120 pump7_time17 + 75 pump1_time18 + 133 pump2_time18 + 157 pump3_time18 \n",
      " + 176 pump4_time18 + 59 pump5_time18 + 69 pump6_time18 + 120 pump7_time18 \n",
      "  <= 2624.8\n",
      " within_capacity_at_time19: + 75 pump1_time1 + 133 pump2_time1 \n",
      " + 157 pump3_time1 + 176 pump4_time1 + 59 pump5_time1 + 69 pump6_time1 \n",
      " + 120 pump7_time1 + 75 pump1_time2 + 133 pump2_time2 + 157 pump3_time2 \n",
      " + 176 pump4_time2 + 59 pump5_time2 + 69 pump6_time2 + 120 pump7_time2 \n",
      " + 75 pump1_time3 + 133 pump2_time3 + 157 pump3_time3 + 176 pump4_time3 \n",
      " + 59 pump5_time3 + 69 pump6_time3 + 120 pump7_time3 + 75 pump1_time4 \n",
      " + 133 pump2_time4 + 157 pump3_time4 + 176 pump4_time4 + 59 pump5_time4 \n",
      " + 69 pump6_time4 + 120 pump7_time4 + 75 pump1_time5 + 133 pump2_time5 \n",
      " + 157 pump3_time5 + 176 pump4_time5 + 59 pump5_time5 + 69 pump6_time5 \n",
      " + 120 pump7_time5 + 75 pump1_time6 + 133 pump2_time6 + 157 pump3_time6 \n",
      " + 176 pump4_time6 + 59 pump5_time6 + 69 pump6_time6 + 120 pump7_time6 \n",
      " + 75 pump1_time7 + 133 pump2_time7 + 157 pump3_time7 + 176 pump4_time7 \n",
      " + 59 pump5_time7 + 69 pump6_time7 + 120 pump7_time7 + 75 pump1_time8 \n",
      " + 133 pump2_time8 + 157 pump3_time8 + 176 pump4_time8 + 59 pump5_time8 \n",
      " + 69 pump6_time8 + 120 pump7_time8 + 75 pump1_time9 + 133 pump2_time9 \n",
      " + 157 pump3_time9 + 176 pump4_time9 + 59 pump5_time9 + 69 pump6_time9 \n",
      " + 120 pump7_time9 + 75 pump1_time10 + 133 pump2_time10 + 157 pump3_time10 \n",
      " + 176 pump4_time10 + 59 pump5_time10 + 69 pump6_time10 + 120 pump7_time10 \n",
      " + 75 pump1_time11 + 133 pump2_time11 + 157 pump3_time11 + 176 pump4_time11 \n",
      " + 59 pump5_time11 + 69 pump6_time11 + 120 pump7_time11 + 75 pump1_time12 \n",
      " + 133 pump2_time12 + 157 pump3_time12 + 176 pump4_time12 + 59 pump5_time12 \n",
      " + 69 pump6_time12 + 120 pump7_time12 + 75 pump1_time13 + 133 pump2_time13 \n",
      " + 157 pump3_time13 + 176 pump4_time13 + 59 pump5_time13 + 69 pump6_time13 \n",
      " + 120 pump7_time13 + 75 pump1_time14 + 133 pump2_time14 + 157 pump3_time14 \n",
      " + 176 pump4_time14 + 59 pump5_time14 + 69 pump6_time14 + 120 pump7_time14 \n",
      " + 75 pump1_time15 + 133 pump2_time15 + 157 pump3_time15 + 176 pump4_time15 \n",
      " + 59 pump5_time15 + 69 pump6_time15 + 120 pump7_time15 + 75 pump1_time16 \n",
      " + 133 pump2_time16 + 157 pump3_time16 + 176 pump4_time16 + 59 pump5_time16 \n",
      " + 69 pump6_time16 + 120 pump7_time16 + 75 pump1_time17 + 133 pump2_time17 \n",
      " + 157 pump3_time17 + 176 pump4_time17 + 59 pump5_time17 + 69 pump6_time17 \n",
      " + 120 pump7_time17 + 75 pump1_time18 + 133 pump2_time18 + 157 pump3_time18 \n",
      " + 176 pump4_time18 + 59 pump5_time18 + 69 pump6_time18 + 120 pump7_time18 \n",
      " + 75 pump1_time19 + 133 pump2_time19 + 157 pump3_time19 + 176 pump4_time19 \n",
      " + 59 pump5_time19 + 69 pump6_time19 + 120 pump7_time19  <= 2751.75\n",
      " within_capacity_at_time20: + 75 pump1_time1 + 133 pump2_time1 \n",
      " + 157 pump3_time1 + 176 pump4_time1 + 59 pump5_time1 + 69 pump6_time1 \n",
      " + 120 pump7_time1 + 75 pump1_time2 + 133 pump2_time2 + 157 pump3_time2 \n",
      " + 176 pump4_time2 + 59 pump5_time2 + 69 pump6_time2 + 120 pump7_time2 \n",
      " + 75 pump1_time3 + 133 pump2_time3 + 157 pump3_time3 + 176 pump4_time3 \n",
      " + 59 pump5_time3 + 69 pump6_time3 + 120 pump7_time3 + 75 pump1_time4 \n",
      " + 133 pump2_time4 + 157 pump3_time4 + 176 pump4_time4 + 59 pump5_time4 \n",
      " + 69 pump6_time4 + 120 pump7_time4 + 75 pump1_time5 + 133 pump2_time5 \n",
      " + 157 pump3_time5 + 176 pump4_time5 + 59 pump5_time5 + 69 pump6_time5 \n",
      " + 120 pump7_time5 + 75 pump1_time6 + 133 pump2_time6 + 157 pump3_time6 \n",
      " + 176 pump4_time6 + 59 pump5_time6 + 69 pump6_time6 + 120 pump7_time6 \n",
      " + 75 pump1_time7 + 133 pump2_time7 + 157 pump3_time7 + 176 pump4_time7 \n",
      " + 59 pump5_time7 + 69 pump6_time7 + 120 pump7_time7 + 75 pump1_time8 \n",
      " + 133 pump2_time8 + 157 pump3_time8 + 176 pump4_time8 + 59 pump5_time8 \n",
      " + 69 pump6_time8 + 120 pump7_time8 + 75 pump1_time9 + 133 pump2_time9 \n",
      " + 157 pump3_time9 + 176 pump4_time9 + 59 pump5_time9 + 69 pump6_time9 \n",
      " + 120 pump7_time9 + 75 pump1_time10 + 133 pump2_time10 + 157 pump3_time10 \n",
      " + 176 pump4_time10 + 59 pump5_time10 + 69 pump6_time10 + 120 pump7_time10 \n",
      " + 75 pump1_time11 + 133 pump2_time11 + 157 pump3_time11 + 176 pump4_time11 \n",
      " + 59 pump5_time11 + 69 pump6_time11 + 120 pump7_time11 + 75 pump1_time12 \n",
      " + 133 pump2_time12 + 157 pump3_time12 + 176 pump4_time12 + 59 pump5_time12 \n",
      " + 69 pump6_time12 + 120 pump7_time12 + 75 pump1_time13 + 133 pump2_time13 \n",
      " + 157 pump3_time13 + 176 pump4_time13 + 59 pump5_time13 + 69 pump6_time13 \n",
      " + 120 pump7_time13 + 75 pump1_time14 + 133 pump2_time14 + 157 pump3_time14 \n",
      " + 176 pump4_time14 + 59 pump5_time14 + 69 pump6_time14 + 120 pump7_time14 \n",
      " + 75 pump1_time15 + 133 pump2_time15 + 157 pump3_time15 + 176 pump4_time15 \n",
      " + 59 pump5_time15 + 69 pump6_time15 + 120 pump7_time15 + 75 pump1_time16 \n",
      " + 133 pump2_time16 + 157 pump3_time16 + 176 pump4_time16 + 59 pump5_time16 \n",
      " + 69 pump6_time16 + 120 pump7_time16 + 75 pump1_time17 + 133 pump2_time17 \n",
      " + 157 pump3_time17 + 176 pump4_time17 + 59 pump5_time17 + 69 pump6_time17 \n",
      " + 120 pump7_time17 + 75 pump1_time18 + 133 pump2_time18 + 157 pump3_time18 \n",
      " + 176 pump4_time18 + 59 pump5_time18 + 69 pump6_time18 + 120 pump7_time18 \n",
      " + 75 pump1_time19 + 133 pump2_time19 + 157 pump3_time19 + 176 pump4_time19 \n",
      " + 59 pump5_time19 + 69 pump6_time19 + 120 pump7_time19 + 75 pump1_time20 \n",
      " + 133 pump2_time20 + 157 pump3_time20 + 176 pump4_time20 + 59 pump5_time20 \n",
      " + 69 pump6_time20 + 120 pump7_time20  <= 2883.23\n",
      " within_capacity_at_time21: + 75 pump1_time1 + 133 pump2_time1 \n",
      " + 157 pump3_time1 + 176 pump4_time1 + 59 pump5_time1 + 69 pump6_time1 \n",
      " + 120 pump7_time1 + 75 pump1_time2 + 133 pump2_time2 + 157 pump3_time2 \n",
      " + 176 pump4_time2 + 59 pump5_time2 + 69 pump6_time2 + 120 pump7_time2 \n",
      " + 75 pump1_time3 + 133 pump2_time3 + 157 pump3_time3 + 176 pump4_time3 \n",
      " + 59 pump5_time3 + 69 pump6_time3 + 120 pump7_time3 + 75 pump1_time4 \n",
      " + 133 pump2_time4 + 157 pump3_time4 + 176 pump4_time4 + 59 pump5_time4 \n",
      " + 69 pump6_time4 + 120 pump7_time4 + 75 pump1_time5 + 133 pump2_time5 \n",
      " + 157 pump3_time5 + 176 pump4_time5 + 59 pump5_time5 + 69 pump6_time5 \n",
      " + 120 pump7_time5 + 75 pump1_time6 + 133 pump2_time6 + 157 pump3_time6 \n",
      " + 176 pump4_time6 + 59 pump5_time6 + 69 pump6_time6 + 120 pump7_time6 \n",
      " + 75 pump1_time7 + 133 pump2_time7 + 157 pump3_time7 + 176 pump4_time7 \n",
      " + 59 pump5_time7 + 69 pump6_time7 + 120 pump7_time7 + 75 pump1_time8 \n",
      " + 133 pump2_time8 + 157 pump3_time8 + 176 pump4_time8 + 59 pump5_time8 \n",
      " + 69 pump6_time8 + 120 pump7_time8 + 75 pump1_time9 + 133 pump2_time9 \n",
      " + 157 pump3_time9 + 176 pump4_time9 + 59 pump5_time9 + 69 pump6_time9 \n",
      " + 120 pump7_time9 + 75 pump1_time10 + 133 pump2_time10 + 157 pump3_time10 \n",
      " + 176 pump4_time10 + 59 pump5_time10 + 69 pump6_time10 + 120 pump7_time10 \n",
      " + 75 pump1_time11 + 133 pump2_time11 + 157 pump3_time11 + 176 pump4_time11 \n",
      " + 59 pump5_time11 + 69 pump6_time11 + 120 pump7_time11 + 75 pump1_time12 \n",
      " + 133 pump2_time12 + 157 pump3_time12 + 176 pump4_time12 + 59 pump5_time12 \n",
      " + 69 pump6_time12 + 120 pump7_time12 + 75 pump1_time13 + 133 pump2_time13 \n",
      " + 157 pump3_time13 + 176 pump4_time13 + 59 pump5_time13 + 69 pump6_time13 \n",
      " + 120 pump7_time13 + 75 pump1_time14 + 133 pump2_time14 + 157 pump3_time14 \n",
      " + 176 pump4_time14 + 59 pump5_time14 + 69 pump6_time14 + 120 pump7_time14 \n",
      " + 75 pump1_time15 + 133 pump2_time15 + 157 pump3_time15 + 176 pump4_time15 \n",
      " + 59 pump5_time15 + 69 pump6_time15 + 120 pump7_time15 + 75 pump1_time16 \n",
      " + 133 pump2_time16 + 157 pump3_time16 + 176 pump4_time16 + 59 pump5_time16 \n",
      " + 69 pump6_time16 + 120 pump7_time16 + 75 pump1_time17 + 133 pump2_time17 \n",
      " + 157 pump3_time17 + 176 pump4_time17 + 59 pump5_time17 + 69 pump6_time17 \n",
      " + 120 pump7_time17 + 75 pump1_time18 + 133 pump2_time18 + 157 pump3_time18 \n",
      " + 176 pump4_time18 + 59 pump5_time18 + 69 pump6_time18 + 120 pump7_time18 \n",
      " + 75 pump1_time19 + 133 pump2_time19 + 157 pump3_time19 + 176 pump4_time19 \n",
      " + 59 pump5_time19 + 69 pump6_time19 + 120 pump7_time19 + 75 pump1_time20 \n",
      " + 133 pump2_time20 + 157 pump3_time20 + 176 pump4_time20 + 59 pump5_time20 \n",
      " + 69 pump6_time20 + 120 pump7_time20 + 75 pump1_time21 + 133 pump2_time21 \n",
      " + 157 pump3_time21 + 176 pump4_time21 + 59 pump5_time21 + 69 pump6_time21 \n",
      " + 120 pump7_time21  <= 3022.09\n",
      " within_capacity_at_time22: + 75 pump1_time1 + 133 pump2_time1 \n",
      " + 157 pump3_time1 + 176 pump4_time1 + 59 pump5_time1 + 69 pump6_time1 \n",
      " + 120 pump7_time1 + 75 pump1_time2 + 133 pump2_time2 + 157 pump3_time2 \n",
      " + 176 pump4_time2 + 59 pump5_time2 + 69 pump6_time2 + 120 pump7_time2 \n",
      " + 75 pump1_time3 + 133 pump2_time3 + 157 pump3_time3 + 176 pump4_time3 \n",
      " + 59 pump5_time3 + 69 pump6_time3 + 120 pump7_time3 + 75 pump1_time4 \n",
      " + 133 pump2_time4 + 157 pump3_time4 + 176 pump4_time4 + 59 pump5_time4 \n",
      " + 69 pump6_time4 + 120 pump7_time4 + 75 pump1_time5 + 133 pump2_time5 \n",
      " + 157 pump3_time5 + 176 pump4_time5 + 59 pump5_time5 + 69 pump6_time5 \n",
      " + 120 pump7_time5 + 75 pump1_time6 + 133 pump2_time6 + 157 pump3_time6 \n",
      " + 176 pump4_time6 + 59 pump5_time6 + 69 pump6_time6 + 120 pump7_time6 \n",
      " + 75 pump1_time7 + 133 pump2_time7 + 157 pump3_time7 + 176 pump4_time7 \n",
      " + 59 pump5_time7 + 69 pump6_time7 + 120 pump7_time7 + 75 pump1_time8 \n",
      " + 133 pump2_time8 + 157 pump3_time8 + 176 pump4_time8 + 59 pump5_time8 \n",
      " + 69 pump6_time8 + 120 pump7_time8 + 75 pump1_time9 + 133 pump2_time9 \n",
      " + 157 pump3_time9 + 176 pump4_time9 + 59 pump5_time9 + 69 pump6_time9 \n",
      " + 120 pump7_time9 + 75 pump1_time10 + 133 pump2_time10 + 157 pump3_time10 \n",
      " + 176 pump4_time10 + 59 pump5_time10 + 69 pump6_time10 + 120 pump7_time10 \n",
      " + 75 pump1_time11 + 133 pump2_time11 + 157 pump3_time11 + 176 pump4_time11 \n",
      " + 59 pump5_time11 + 69 pump6_time11 + 120 pump7_time11 + 75 pump1_time12 \n",
      " + 133 pump2_time12 + 157 pump3_time12 + 176 pump4_time12 + 59 pump5_time12 \n",
      " + 69 pump6_time12 + 120 pump7_time12 + 75 pump1_time13 + 133 pump2_time13 \n",
      " + 157 pump3_time13 + 176 pump4_time13 + 59 pump5_time13 + 69 pump6_time13 \n",
      " + 120 pump7_time13 + 75 pump1_time14 + 133 pump2_time14 + 157 pump3_time14 \n",
      " + 176 pump4_time14 + 59 pump5_time14 + 69 pump6_time14 + 120 pump7_time14 \n",
      " + 75 pump1_time15 + 133 pump2_time15 + 157 pump3_time15 + 176 pump4_time15 \n",
      " + 59 pump5_time15 + 69 pump6_time15 + 120 pump7_time15 + 75 pump1_time16 \n",
      " + 133 pump2_time16 + 157 pump3_time16 + 176 pump4_time16 + 59 pump5_time16 \n",
      " + 69 pump6_time16 + 120 pump7_time16 + 75 pump1_time17 + 133 pump2_time17 \n",
      " + 157 pump3_time17 + 176 pump4_time17 + 59 pump5_time17 + 69 pump6_time17 \n",
      " + 120 pump7_time17 + 75 pump1_time18 + 133 pump2_time18 + 157 pump3_time18 \n",
      " + 176 pump4_time18 + 59 pump5_time18 + 69 pump6_time18 + 120 pump7_time18 \n",
      " + 75 pump1_time19 + 133 pump2_time19 + 157 pump3_time19 + 176 pump4_time19 \n",
      " + 59 pump5_time19 + 69 pump6_time19 + 120 pump7_time19 + 75 pump1_time20 \n",
      " + 133 pump2_time20 + 157 pump3_time20 + 176 pump4_time20 + 59 pump5_time20 \n",
      " + 69 pump6_time20 + 120 pump7_time20 + 75 pump1_time21 + 133 pump2_time21 \n",
      " + 157 pump3_time21 + 176 pump4_time21 + 59 pump5_time21 + 69 pump6_time21 \n",
      " + 120 pump7_time21 + 75 pump1_time22 + 133 pump2_time22 + 157 pump3_time22 \n",
      " + 176 pump4_time22 + 59 pump5_time22 + 69 pump6_time22 + 120 pump7_time22 \n",
      "  <= 3154.0\n",
      " within_capacity_at_time23: + 75 pump1_time1 + 133 pump2_time1 \n",
      " + 157 pump3_time1 + 176 pump4_time1 + 59 pump5_time1 + 69 pump6_time1 \n",
      " + 120 pump7_time1 + 75 pump1_time2 + 133 pump2_time2 + 157 pump3_time2 \n",
      " + 176 pump4_time2 + 59 pump5_time2 + 69 pump6_time2 + 120 pump7_time2 \n",
      " + 75 pump1_time3 + 133 pump2_time3 + 157 pump3_time3 + 176 pump4_time3 \n",
      " + 59 pump5_time3 + 69 pump6_time3 + 120 pump7_time3 + 75 pump1_time4 \n",
      " + 133 pump2_time4 + 157 pump3_time4 + 176 pump4_time4 + 59 pump5_time4 \n",
      " + 69 pump6_time4 + 120 pump7_time4 + 75 pump1_time5 + 133 pump2_time5 \n",
      " + 157 pump3_time5 + 176 pump4_time5 + 59 pump5_time5 + 69 pump6_time5 \n",
      " + 120 pump7_time5 + 75 pump1_time6 + 133 pump2_time6 + 157 pump3_time6 \n",
      " + 176 pump4_time6 + 59 pump5_time6 + 69 pump6_time6 + 120 pump7_time6 \n",
      " + 75 pump1_time7 + 133 pump2_time7 + 157 pump3_time7 + 176 pump4_time7 \n",
      " + 59 pump5_time7 + 69 pump6_time7 + 120 pump7_time7 + 75 pump1_time8 \n",
      " + 133 pump2_time8 + 157 pump3_time8 + 176 pump4_time8 + 59 pump5_time8 \n",
      " + 69 pump6_time8 + 120 pump7_time8 + 75 pump1_time9 + 133 pump2_time9 \n",
      " + 157 pump3_time9 + 176 pump4_time9 + 59 pump5_time9 + 69 pump6_time9 \n",
      " + 120 pump7_time9 + 75 pump1_time10 + 133 pump2_time10 + 157 pump3_time10 \n",
      " + 176 pump4_time10 + 59 pump5_time10 + 69 pump6_time10 + 120 pump7_time10 \n",
      " + 75 pump1_time11 + 133 pump2_time11 + 157 pump3_time11 + 176 pump4_time11 \n",
      " + 59 pump5_time11 + 69 pump6_time11 + 120 pump7_time11 + 75 pump1_time12 \n",
      " + 133 pump2_time12 + 157 pump3_time12 + 176 pump4_time12 + 59 pump5_time12 \n",
      " + 69 pump6_time12 + 120 pump7_time12 + 75 pump1_time13 + 133 pump2_time13 \n",
      " + 157 pump3_time13 + 176 pump4_time13 + 59 pump5_time13 + 69 pump6_time13 \n",
      " + 120 pump7_time13 + 75 pump1_time14 + 133 pump2_time14 + 157 pump3_time14 \n",
      " + 176 pump4_time14 + 59 pump5_time14 + 69 pump6_time14 + 120 pump7_time14 \n",
      " + 75 pump1_time15 + 133 pump2_time15 + 157 pump3_time15 + 176 pump4_time15 \n",
      " + 59 pump5_time15 + 69 pump6_time15 + 120 pump7_time15 + 75 pump1_time16 \n",
      " + 133 pump2_time16 + 157 pump3_time16 + 176 pump4_time16 + 59 pump5_time16 \n",
      " + 69 pump6_time16 + 120 pump7_time16 + 75 pump1_time17 + 133 pump2_time17 \n",
      " + 157 pump3_time17 + 176 pump4_time17 + 59 pump5_time17 + 69 pump6_time17 \n",
      " + 120 pump7_time17 + 75 pump1_time18 + 133 pump2_time18 + 157 pump3_time18 \n",
      " + 176 pump4_time18 + 59 pump5_time18 + 69 pump6_time18 + 120 pump7_time18 \n",
      " + 75 pump1_time19 + 133 pump2_time19 + 157 pump3_time19 + 176 pump4_time19 \n",
      " + 59 pump5_time19 + 69 pump6_time19 + 120 pump7_time19 + 75 pump1_time20 \n",
      " + 133 pump2_time20 + 157 pump3_time20 + 176 pump4_time20 + 59 pump5_time20 \n",
      " + 69 pump6_time20 + 120 pump7_time20 + 75 pump1_time21 + 133 pump2_time21 \n",
      " + 157 pump3_time21 + 176 pump4_time21 + 59 pump5_time21 + 69 pump6_time21 \n",
      " + 120 pump7_time21 + 75 pump1_time22 + 133 pump2_time22 + 157 pump3_time22 \n",
      " + 176 pump4_time22 + 59 pump5_time22 + 69 pump6_time22 + 120 pump7_time22 \n",
      " + 75 pump1_time23 + 133 pump2_time23 + 157 pump3_time23 + 176 pump4_time23 \n",
      " + 59 pump5_time23 + 69 pump6_time23 + 120 pump7_time23  <= 3265.53\n",
      " within_capacity_at_time24: + 75 pump1_time1 + 133 pump2_time1 \n",
      " + 157 pump3_time1 + 176 pump4_time1 + 59 pump5_time1 + 69 pump6_time1 \n",
      " + 120 pump7_time1 + 75 pump1_time2 + 133 pump2_time2 + 157 pump3_time2 \n",
      " + 176 pump4_time2 + 59 pump5_time2 + 69 pump6_time2 + 120 pump7_time2 \n",
      " + 75 pump1_time3 + 133 pump2_time3 + 157 pump3_time3 + 176 pump4_time3 \n",
      " + 59 pump5_time3 + 69 pump6_time3 + 120 pump7_time3 + 75 pump1_time4 \n",
      " + 133 pump2_time4 + 157 pump3_time4 + 176 pump4_time4 + 59 pump5_time4 \n",
      " + 69 pump6_time4 + 120 pump7_time4 + 75 pump1_time5 + 133 pump2_time5 \n",
      " + 157 pump3_time5 + 176 pump4_time5 + 59 pump5_time5 + 69 pump6_time5 \n",
      " + 120 pump7_time5 + 75 pump1_time6 + 133 pump2_time6 + 157 pump3_time6 \n",
      " + 176 pump4_time6 + 59 pump5_time6 + 69 pump6_time6 + 120 pump7_time6 \n",
      " + 75 pump1_time7 + 133 pump2_time7 + 157 pump3_time7 + 176 pump4_time7 \n",
      " + 59 pump5_time7 + 69 pump6_time7 + 120 pump7_time7 + 75 pump1_time8 \n",
      " + 133 pump2_time8 + 157 pump3_time8 + 176 pump4_time8 + 59 pump5_time8 \n",
      " + 69 pump6_time8 + 120 pump7_time8 + 75 pump1_time9 + 133 pump2_time9 \n",
      " + 157 pump3_time9 + 176 pump4_time9 + 59 pump5_time9 + 69 pump6_time9 \n",
      " + 120 pump7_time9 + 75 pump1_time10 + 133 pump2_time10 + 157 pump3_time10 \n",
      " + 176 pump4_time10 + 59 pump5_time10 + 69 pump6_time10 + 120 pump7_time10 \n",
      " + 75 pump1_time11 + 133 pump2_time11 + 157 pump3_time11 + 176 pump4_time11 \n",
      " + 59 pump5_time11 + 69 pump6_time11 + 120 pump7_time11 + 75 pump1_time12 \n",
      " + 133 pump2_time12 + 157 pump3_time12 + 176 pump4_time12 + 59 pump5_time12 \n",
      " + 69 pump6_time12 + 120 pump7_time12 + 75 pump1_time13 + 133 pump2_time13 \n",
      " + 157 pump3_time13 + 176 pump4_time13 + 59 pump5_time13 + 69 pump6_time13 \n",
      " + 120 pump7_time13 + 75 pump1_time14 + 133 pump2_time14 + 157 pump3_time14 \n",
      " + 176 pump4_time14 + 59 pump5_time14 + 69 pump6_time14 + 120 pump7_time14 \n",
      " + 75 pump1_time15 + 133 pump2_time15 + 157 pump3_time15 + 176 pump4_time15 \n",
      " + 59 pump5_time15 + 69 pump6_time15 + 120 pump7_time15 + 75 pump1_time16 \n",
      " + 133 pump2_time16 + 157 pump3_time16 + 176 pump4_time16 + 59 pump5_time16 \n",
      " + 69 pump6_time16 + 120 pump7_time16 + 75 pump1_time17 + 133 pump2_time17 \n",
      " + 157 pump3_time17 + 176 pump4_time17 + 59 pump5_time17 + 69 pump6_time17 \n",
      " + 120 pump7_time17 + 75 pump1_time18 + 133 pump2_time18 + 157 pump3_time18 \n",
      " + 176 pump4_time18 + 59 pump5_time18 + 69 pump6_time18 + 120 pump7_time18 \n",
      " + 75 pump1_time19 + 133 pump2_time19 + 157 pump3_time19 + 176 pump4_time19 \n",
      " + 59 pump5_time19 + 69 pump6_time19 + 120 pump7_time19 + 75 pump1_time20 \n",
      " + 133 pump2_time20 + 157 pump3_time20 + 176 pump4_time20 + 59 pump5_time20 \n",
      " + 69 pump6_time20 + 120 pump7_time20 + 75 pump1_time21 + 133 pump2_time21 \n",
      " + 157 pump3_time21 + 176 pump4_time21 + 59 pump5_time21 + 69 pump6_time21 \n",
      " + 120 pump7_time21 + 75 pump1_time22 + 133 pump2_time22 + 157 pump3_time22 \n",
      " + 176 pump4_time22 + 59 pump5_time22 + 69 pump6_time22 + 120 pump7_time22 \n",
      " + 75 pump1_time23 + 133 pump2_time23 + 157 pump3_time23 + 176 pump4_time23 \n",
      " + 59 pump5_time23 + 69 pump6_time23 + 120 pump7_time23 + 75 pump1_time24 \n",
      " + 133 pump2_time24 + 157 pump3_time24 + 176 pump4_time24 + 59 pump5_time24 \n",
      " + 69 pump6_time24 + 120 pump7_time24  <= 3335.96\n",
      " sufficient_reserve_at_time1: + 75 pump1_time1 + 133 pump2_time1 \n",
      " + 157 pump3_time1 + 176 pump4_time1 + 59 pump5_time1 + 69 pump6_time1 \n",
      " + 120 pump7_time1  >= 18.120000000000005\n",
      " sufficient_reserve_at_time2: + 75 pump1_time1 + 133 pump2_time1 \n",
      " + 157 pump3_time1 + 176 pump4_time1 + 59 pump5_time1 + 69 pump6_time1 \n",
      " + 120 pump7_time1 + 75 pump1_time2 + 133 pump2_time2 + 157 pump3_time2 \n",
      " + 176 pump4_time2 + 59 pump5_time2 + 69 pump6_time2 + 120 pump7_time2 \n",
      "  >= 49.389999999999986\n",
      " sufficient_reserve_at_time3: + 75 pump1_time1 + 133 pump2_time1 \n",
      " + 157 pump3_time1 + 176 pump4_time1 + 59 pump5_time1 + 69 pump6_time1 \n",
      " + 120 pump7_time1 + 75 pump1_time2 + 133 pump2_time2 + 157 pump3_time2 \n",
      " + 176 pump4_time2 + 59 pump5_time2 + 69 pump6_time2 + 120 pump7_time2 \n",
      " + 75 pump1_time3 + 133 pump2_time3 + 157 pump3_time3 + 176 pump4_time3 \n",
      " + 59 pump5_time3 + 69 pump6_time3 + 120 pump7_time3  >= 75.61000000000001\n",
      " sufficient_reserve_at_time4: + 75 pump1_time1 + 133 pump2_time1 \n",
      " + 157 pump3_time1 + 176 pump4_time1 + 59 pump5_time1 + 69 pump6_time1 \n",
      " + 120 pump7_time1 + 75 pump1_time2 + 133 pump2_time2 + 157 pump3_time2 \n",
      " + 176 pump4_time2 + 59 pump5_time2 + 69 pump6_time2 + 120 pump7_time2 \n",
      " + 75 pump1_time3 + 133 pump2_time3 + 157 pump3_time3 + 176 pump4_time3 \n",
      " + 59 pump5_time3 + 69 pump6_time3 + 120 pump7_time3 + 75 pump1_time4 \n",
      " + 133 pump2_time4 + 157 pump3_time4 + 176 pump4_time4 + 59 pump5_time4 \n",
      " + 69 pump6_time4 + 120 pump7_time4  >= 103.12\n",
      " sufficient_reserve_at_time5: + 75 pump1_time1 + 133 pump2_time1 \n",
      " + 157 pump3_time1 + 176 pump4_time1 + 59 pump5_time1 + 69 pump6_time1 \n",
      " + 120 pump7_time1 + 75 pump1_time2 + 133 pump2_time2 + 157 pump3_time2 \n",
      " + 176 pump4_time2 + 59 pump5_time2 + 69 pump6_time2 + 120 pump7_time2 \n",
      " + 75 pump1_time3 + 133 pump2_time3 + 157 pump3_time3 + 176 pump4_time3 \n",
      " + 59 pump5_time3 + 69 pump6_time3 + 120 pump7_time3 + 75 pump1_time4 \n",
      " + 133 pump2_time4 + 157 pump3_time4 + 176 pump4_time4 + 59 pump5_time4 \n",
      " + 69 pump6_time4 + 120 pump7_time4 + 75 pump1_time5 + 133 pump2_time5 \n",
      " + 157 pump3_time5 + 176 pump4_time5 + 59 pump5_time5 + 69 pump6_time5 \n",
      " + 120 pump7_time5  >= 134.62\n",
      " sufficient_reserve_at_time6: + 75 pump1_time1 + 133 pump2_time1 \n",
      " + 157 pump3_time1 + 176 pump4_time1 + 59 pump5_time1 + 69 pump6_time1 \n",
      " + 120 pump7_time1 + 75 pump1_time2 + 133 pump2_time2 + 157 pump3_time2 \n",
      " + 176 pump4_time2 + 59 pump5_time2 + 69 pump6_time2 + 120 pump7_time2 \n",
      " + 75 pump1_time3 + 133 pump2_time3 + 157 pump3_time3 + 176 pump4_time3 \n",
      " + 59 pump5_time3 + 69 pump6_time3 + 120 pump7_time3 + 75 pump1_time4 \n",
      " + 133 pump2_time4 + 157 pump3_time4 + 176 pump4_time4 + 59 pump5_time4 \n",
      " + 69 pump6_time4 + 120 pump7_time4 + 75 pump1_time5 + 133 pump2_time5 \n",
      " + 157 pump3_time5 + 176 pump4_time5 + 59 pump5_time5 + 69 pump6_time5 \n",
      " + 120 pump7_time5 + 75 pump1_time6 + 133 pump2_time6 + 157 pump3_time6 \n",
      " + 176 pump4_time6 + 59 pump5_time6 + 69 pump6_time6 + 120 pump7_time6 \n",
      "  >= 180.8\n",
      " sufficient_reserve_at_time7: + 75 pump1_time1 + 133 pump2_time1 \n",
      " + 157 pump3_time1 + 176 pump4_time1 + 59 pump5_time1 + 69 pump6_time1 \n",
      " + 120 pump7_time1 + 75 pump1_time2 + 133 pump2_time2 + 157 pump3_time2 \n",
      " + 176 pump4_time2 + 59 pump5_time2 + 69 pump6_time2 + 120 pump7_time2 \n",
      " + 75 pump1_time3 + 133 pump2_time3 + 157 pump3_time3 + 176 pump4_time3 \n",
      " + 59 pump5_time3 + 69 pump6_time3 + 120 pump7_time3 + 75 pump1_time4 \n",
      " + 133 pump2_time4 + 157 pump3_time4 + 176 pump4_time4 + 59 pump5_time4 \n",
      " + 69 pump6_time4 + 120 pump7_time4 + 75 pump1_time5 + 133 pump2_time5 \n",
      " + 157 pump3_time5 + 176 pump4_time5 + 59 pump5_time5 + 69 pump6_time5 \n",
      " + 120 pump7_time5 + 75 pump1_time6 + 133 pump2_time6 + 157 pump3_time6 \n",
      " + 176 pump4_time6 + 59 pump5_time6 + 69 pump6_time6 + 120 pump7_time6 \n",
      " + 75 pump1_time7 + 133 pump2_time7 + 157 pump3_time7 + 176 pump4_time7 \n",
      " + 59 pump5_time7 + 69 pump6_time7 + 120 pump7_time7  >= 250.26999999999998\n",
      " sufficient_reserve_at_time8: + 75 pump1_time1 + 133 pump2_time1 \n",
      " + 157 pump3_time1 + 176 pump4_time1 + 59 pump5_time1 + 69 pump6_time1 \n",
      " + 120 pump7_time1 + 75 pump1_time2 + 133 pump2_time2 + 157 pump3_time2 \n",
      " + 176 pump4_time2 + 59 pump5_time2 + 69 pump6_time2 + 120 pump7_time2 \n",
      " + 75 pump1_time3 + 133 pump2_time3 + 157 pump3_time3 + 176 pump4_time3 \n",
      " + 59 pump5_time3 + 69 pump6_time3 + 120 pump7_time3 + 75 pump1_time4 \n",
      " + 133 pump2_time4 + 157 pump3_time4 + 176 pump4_time4 + 59 pump5_time4 \n",
      " + 69 pump6_time4 + 120 pump7_time4 + 75 pump1_time5 + 133 pump2_time5 \n",
      " + 157 pump3_time5 + 176 pump4_time5 + 59 pump5_time5 + 69 pump6_time5 \n",
      " + 120 pump7_time5 + 75 pump1_time6 + 133 pump2_time6 + 157 pump3_time6 \n",
      " + 176 pump4_time6 + 59 pump5_time6 + 69 pump6_time6 + 120 pump7_time6 \n",
      " + 75 pump1_time7 + 133 pump2_time7 + 157 pump3_time7 + 176 pump4_time7 \n",
      " + 59 pump5_time7 + 69 pump6_time7 + 120 pump7_time7 + 75 pump1_time8 \n",
      " + 133 pump2_time8 + 157 pump3_time8 + 176 pump4_time8 + 59 pump5_time8 \n",
      " + 69 pump6_time8 + 120 pump7_time8  >= 350.63\n",
      " sufficient_reserve_at_time9: + 75 pump1_time1 + 133 pump2_time1 \n",
      " + 157 pump3_time1 + 176 pump4_time1 + 59 pump5_time1 + 69 pump6_time1 \n",
      " + 120 pump7_time1 + 75 pump1_time2 + 133 pump2_time2 + 157 pump3_time2 \n",
      " + 176 pump4_time2 + 59 pump5_time2 + 69 pump6_time2 + 120 pump7_time2 \n",
      " + 75 pump1_time3 + 133 pump2_time3 + 157 pump3_time3 + 176 pump4_time3 \n",
      " + 59 pump5_time3 + 69 pump6_time3 + 120 pump7_time3 + 75 pump1_time4 \n",
      " + 133 pump2_time4 + 157 pump3_time4 + 176 pump4_time4 + 59 pump5_time4 \n",
      " + 69 pump6_time4 + 120 pump7_time4 + 75 pump1_time5 + 133 pump2_time5 \n",
      " + 157 pump3_time5 + 176 pump4_time5 + 59 pump5_time5 + 69 pump6_time5 \n",
      " + 120 pump7_time5 + 75 pump1_time6 + 133 pump2_time6 + 157 pump3_time6 \n",
      " + 176 pump4_time6 + 59 pump5_time6 + 69 pump6_time6 + 120 pump7_time6 \n",
      " + 75 pump1_time7 + 133 pump2_time7 + 157 pump3_time7 + 176 pump4_time7 \n",
      " + 59 pump5_time7 + 69 pump6_time7 + 120 pump7_time7 + 75 pump1_time8 \n",
      " + 133 pump2_time8 + 157 pump3_time8 + 176 pump4_time8 + 59 pump5_time8 \n",
      " + 69 pump6_time8 + 120 pump7_time8 + 75 pump1_time9 + 133 pump2_time9 \n",
      " + 157 pump3_time9 + 176 pump4_time9 + 59 pump5_time9 + 69 pump6_time9 \n",
      " + 120 pump7_time9  >= 482.48\n",
      " sufficient_reserve_at_time10: + 75 pump1_time1 + 133 pump2_time1 \n",
      " + 157 pump3_time1 + 176 pump4_time1 + 59 pump5_time1 + 69 pump6_time1 \n",
      " + 120 pump7_time1 + 75 pump1_time2 + 133 pump2_time2 + 157 pump3_time2 \n",
      " + 176 pump4_time2 + 59 pump5_time2 + 69 pump6_time2 + 120 pump7_time2 \n",
      " + 75 pump1_time3 + 133 pump2_time3 + 157 pump3_time3 + 176 pump4_time3 \n",
      " + 59 pump5_time3 + 69 pump6_time3 + 120 pump7_time3 + 75 pump1_time4 \n",
      " + 133 pump2_time4 + 157 pump3_time4 + 176 pump4_time4 + 59 pump5_time4 \n",
      " + 69 pump6_time4 + 120 pump7_time4 + 75 pump1_time5 + 133 pump2_time5 \n",
      " + 157 pump3_time5 + 176 pump4_time5 + 59 pump5_time5 + 69 pump6_time5 \n",
      " + 120 pump7_time5 + 75 pump1_time6 + 133 pump2_time6 + 157 pump3_time6 \n",
      " + 176 pump4_time6 + 59 pump5_time6 + 69 pump6_time6 + 120 pump7_time6 \n",
      " + 75 pump1_time7 + 133 pump2_time7 + 157 pump3_time7 + 176 pump4_time7 \n",
      " + 59 pump5_time7 + 69 pump6_time7 + 120 pump7_time7 + 75 pump1_time8 \n",
      " + 133 pump2_time8 + 157 pump3_time8 + 176 pump4_time8 + 59 pump5_time8 \n",
      " + 69 pump6_time8 + 120 pump7_time8 + 75 pump1_time9 + 133 pump2_time9 \n",
      " + 157 pump3_time9 + 176 pump4_time9 + 59 pump5_time9 + 69 pump6_time9 \n",
      " + 120 pump7_time9 + 75 pump1_time10 + 133 pump2_time10 + 157 pump3_time10 \n",
      " + 176 pump4_time10 + 59 pump5_time10 + 69 pump6_time10 + 120 pump7_time10 \n",
      "  >= 630.99\n",
      " sufficient_reserve_at_time11: + 75 pump1_time1 + 133 pump2_time1 \n",
      " + 157 pump3_time1 + 176 pump4_time1 + 59 pump5_time1 + 69 pump6_time1 \n",
      " + 120 pump7_time1 + 75 pump1_time2 + 133 pump2_time2 + 157 pump3_time2 \n",
      " + 176 pump4_time2 + 59 pump5_time2 + 69 pump6_time2 + 120 pump7_time2 \n",
      " + 75 pump1_time3 + 133 pump2_time3 + 157 pump3_time3 + 176 pump4_time3 \n",
      " + 59 pump5_time3 + 69 pump6_time3 + 120 pump7_time3 + 75 pump1_time4 \n",
      " + 133 pump2_time4 + 157 pump3_time4 + 176 pump4_time4 + 59 pump5_time4 \n",
      " + 69 pump6_time4 + 120 pump7_time4 + 75 pump1_time5 + 133 pump2_time5 \n",
      " + 157 pump3_time5 + 176 pump4_time5 + 59 pump5_time5 + 69 pump6_time5 \n",
      " + 120 pump7_time5 + 75 pump1_time6 + 133 pump2_time6 + 157 pump3_time6 \n",
      " + 176 pump4_time6 + 59 pump5_time6 + 69 pump6_time6 + 120 pump7_time6 \n",
      " + 75 pump1_time7 + 133 pump2_time7 + 157 pump3_time7 + 176 pump4_time7 \n",
      " + 59 pump5_time7 + 69 pump6_time7 + 120 pump7_time7 + 75 pump1_time8 \n",
      " + 133 pump2_time8 + 157 pump3_time8 + 176 pump4_time8 + 59 pump5_time8 \n",
      " + 69 pump6_time8 + 120 pump7_time8 + 75 pump1_time9 + 133 pump2_time9 \n",
      " + 157 pump3_time9 + 176 pump4_time9 + 59 pump5_time9 + 69 pump6_time9 \n",
      " + 120 pump7_time9 + 75 pump1_time10 + 133 pump2_time10 + 157 pump3_time10 \n",
      " + 176 pump4_time10 + 59 pump5_time10 + 69 pump6_time10 + 120 pump7_time10 \n",
      " + 75 pump1_time11 + 133 pump2_time11 + 157 pump3_time11 + 176 pump4_time11 \n",
      " + 59 pump5_time11 + 69 pump6_time11 + 120 pump7_time11  >= 780.88\n",
      " sufficient_reserve_at_time12: + 75 pump1_time1 + 133 pump2_time1 \n",
      " + 157 pump3_time1 + 176 pump4_time1 + 59 pump5_time1 + 69 pump6_time1 \n",
      " + 120 pump7_time1 + 75 pump1_time2 + 133 pump2_time2 + 157 pump3_time2 \n",
      " + 176 pump4_time2 + 59 pump5_time2 + 69 pump6_time2 + 120 pump7_time2 \n",
      " + 75 pump1_time3 + 133 pump2_time3 + 157 pump3_time3 + 176 pump4_time3 \n",
      " + 59 pump5_time3 + 69 pump6_time3 + 120 pump7_time3 + 75 pump1_time4 \n",
      " + 133 pump2_time4 + 157 pump3_time4 + 176 pump4_time4 + 59 pump5_time4 \n",
      " + 69 pump6_time4 + 120 pump7_time4 + 75 pump1_time5 + 133 pump2_time5 \n",
      " + 157 pump3_time5 + 176 pump4_time5 + 59 pump5_time5 + 69 pump6_time5 \n",
      " + 120 pump7_time5 + 75 pump1_time6 + 133 pump2_time6 + 157 pump3_time6 \n",
      " + 176 pump4_time6 + 59 pump5_time6 + 69 pump6_time6 + 120 pump7_time6 \n",
      " + 75 pump1_time7 + 133 pump2_time7 + 157 pump3_time7 + 176 pump4_time7 \n",
      " + 59 pump5_time7 + 69 pump6_time7 + 120 pump7_time7 + 75 pump1_time8 \n",
      " + 133 pump2_time8 + 157 pump3_time8 + 176 pump4_time8 + 59 pump5_time8 \n",
      " + 69 pump6_time8 + 120 pump7_time8 + 75 pump1_time9 + 133 pump2_time9 \n",
      " + 157 pump3_time9 + 176 pump4_time9 + 59 pump5_time9 + 69 pump6_time9 \n",
      " + 120 pump7_time9 + 75 pump1_time10 + 133 pump2_time10 + 157 pump3_time10 \n",
      " + 176 pump4_time10 + 59 pump5_time10 + 69 pump6_time10 + 120 pump7_time10 \n",
      " + 75 pump1_time11 + 133 pump2_time11 + 157 pump3_time11 + 176 pump4_time11 \n",
      " + 59 pump5_time11 + 69 pump6_time11 + 120 pump7_time11 + 75 pump1_time12 \n",
      " + 133 pump2_time12 + 157 pump3_time12 + 176 pump4_time12 + 59 pump5_time12 \n",
      " + 69 pump6_time12 + 120 pump7_time12  >= 923.09\n",
      " sufficient_reserve_at_time13: + 75 pump1_time1 + 133 pump2_time1 \n",
      " + 157 pump3_time1 + 176 pump4_time1 + 59 pump5_time1 + 69 pump6_time1 \n",
      " + 120 pump7_time1 + 75 pump1_time2 + 133 pump2_time2 + 157 pump3_time2 \n",
      " + 176 pump4_time2 + 59 pump5_time2 + 69 pump6_time2 + 120 pump7_time2 \n",
      " + 75 pump1_time3 + 133 pump2_time3 + 157 pump3_time3 + 176 pump4_time3 \n",
      " + 59 pump5_time3 + 69 pump6_time3 + 120 pump7_time3 + 75 pump1_time4 \n",
      " + 133 pump2_time4 + 157 pump3_time4 + 176 pump4_time4 + 59 pump5_time4 \n",
      " + 69 pump6_time4 + 120 pump7_time4 + 75 pump1_time5 + 133 pump2_time5 \n",
      " + 157 pump3_time5 + 176 pump4_time5 + 59 pump5_time5 + 69 pump6_time5 \n",
      " + 120 pump7_time5 + 75 pump1_time6 + 133 pump2_time6 + 157 pump3_time6 \n",
      " + 176 pump4_time6 + 59 pump5_time6 + 69 pump6_time6 + 120 pump7_time6 \n",
      " + 75 pump1_time7 + 133 pump2_time7 + 157 pump3_time7 + 176 pump4_time7 \n",
      " + 59 pump5_time7 + 69 pump6_time7 + 120 pump7_time7 + 75 pump1_time8 \n",
      " + 133 pump2_time8 + 157 pump3_time8 + 176 pump4_time8 + 59 pump5_time8 \n",
      " + 69 pump6_time8 + 120 pump7_time8 + 75 pump1_time9 + 133 pump2_time9 \n",
      " + 157 pump3_time9 + 176 pump4_time9 + 59 pump5_time9 + 69 pump6_time9 \n",
      " + 120 pump7_time9 + 75 pump1_time10 + 133 pump2_time10 + 157 pump3_time10 \n",
      " + 176 pump4_time10 + 59 pump5_time10 + 69 pump6_time10 + 120 pump7_time10 \n",
      " + 75 pump1_time11 + 133 pump2_time11 + 157 pump3_time11 + 176 pump4_time11 \n",
      " + 59 pump5_time11 + 69 pump6_time11 + 120 pump7_time11 + 75 pump1_time12 \n",
      " + 133 pump2_time12 + 157 pump3_time12 + 176 pump4_time12 + 59 pump5_time12 \n",
      " + 69 pump6_time12 + 120 pump7_time12 + 75 pump1_time13 + 133 pump2_time13 \n",
      " + 157 pump3_time13 + 176 pump4_time13 + 59 pump5_time13 + 69 pump6_time13 \n",
      " + 120 pump7_time13  >= 1055.18\n",
      " sufficient_reserve_at_time14: + 75 pump1_time1 + 133 pump2_time1 \n",
      " + 157 pump3_time1 + 176 pump4_time1 + 59 pump5_time1 + 69 pump6_time1 \n",
      " + 120 pump7_time1 + 75 pump1_time2 + 133 pump2_time2 + 157 pump3_time2 \n",
      " + 176 pump4_time2 + 59 pump5_time2 + 69 pump6_time2 + 120 pump7_time2 \n",
      " + 75 pump1_time3 + 133 pump2_time3 + 157 pump3_time3 + 176 pump4_time3 \n",
      " + 59 pump5_time3 + 69 pump6_time3 + 120 pump7_time3 + 75 pump1_time4 \n",
      " + 133 pump2_time4 + 157 pump3_time4 + 176 pump4_time4 + 59 pump5_time4 \n",
      " + 69 pump6_time4 + 120 pump7_time4 + 75 pump1_time5 + 133 pump2_time5 \n",
      " + 157 pump3_time5 + 176 pump4_time5 + 59 pump5_time5 + 69 pump6_time5 \n",
      " + 120 pump7_time5 + 75 pump1_time6 + 133 pump2_time6 + 157 pump3_time6 \n",
      " + 176 pump4_time6 + 59 pump5_time6 + 69 pump6_time6 + 120 pump7_time6 \n",
      " + 75 pump1_time7 + 133 pump2_time7 + 157 pump3_time7 + 176 pump4_time7 \n",
      " + 59 pump5_time7 + 69 pump6_time7 + 120 pump7_time7 + 75 pump1_time8 \n",
      " + 133 pump2_time8 + 157 pump3_time8 + 176 pump4_time8 + 59 pump5_time8 \n",
      " + 69 pump6_time8 + 120 pump7_time8 + 75 pump1_time9 + 133 pump2_time9 \n",
      " + 157 pump3_time9 + 176 pump4_time9 + 59 pump5_time9 + 69 pump6_time9 \n",
      " + 120 pump7_time9 + 75 pump1_time10 + 133 pump2_time10 + 157 pump3_time10 \n",
      " + 176 pump4_time10 + 59 pump5_time10 + 69 pump6_time10 + 120 pump7_time10 \n",
      " + 75 pump1_time11 + 133 pump2_time11 + 157 pump3_time11 + 176 pump4_time11 \n",
      " + 59 pump5_time11 + 69 pump6_time11 + 120 pump7_time11 + 75 pump1_time12 \n",
      " + 133 pump2_time12 + 157 pump3_time12 + 176 pump4_time12 + 59 pump5_time12 \n",
      " + 69 pump6_time12 + 120 pump7_time12 + 75 pump1_time13 + 133 pump2_time13 \n",
      " + 157 pump3_time13 + 176 pump4_time13 + 59 pump5_time13 + 69 pump6_time13 \n",
      " + 120 pump7_time13 + 75 pump1_time14 + 133 pump2_time14 + 157 pump3_time14 \n",
      " + 176 pump4_time14 + 59 pump5_time14 + 69 pump6_time14 + 120 pump7_time14 \n",
      "  >= 1184.47\n",
      " sufficient_reserve_at_time15: + 75 pump1_time1 + 133 pump2_time1 \n",
      " + 157 pump3_time1 + 176 pump4_time1 + 59 pump5_time1 + 69 pump6_time1 \n",
      " + 120 pump7_time1 + 75 pump1_time2 + 133 pump2_time2 + 157 pump3_time2 \n",
      " + 176 pump4_time2 + 59 pump5_time2 + 69 pump6_time2 + 120 pump7_time2 \n",
      " + 75 pump1_time3 + 133 pump2_time3 + 157 pump3_time3 + 176 pump4_time3 \n",
      " + 59 pump5_time3 + 69 pump6_time3 + 120 pump7_time3 + 75 pump1_time4 \n",
      " + 133 pump2_time4 + 157 pump3_time4 + 176 pump4_time4 + 59 pump5_time4 \n",
      " + 69 pump6_time4 + 120 pump7_time4 + 75 pump1_time5 + 133 pump2_time5 \n",
      " + 157 pump3_time5 + 176 pump4_time5 + 59 pump5_time5 + 69 pump6_time5 \n",
      " + 120 pump7_time5 + 75 pump1_time6 + 133 pump2_time6 + 157 pump3_time6 \n",
      " + 176 pump4_time6 + 59 pump5_time6 + 69 pump6_time6 + 120 pump7_time6 \n",
      " + 75 pump1_time7 + 133 pump2_time7 + 157 pump3_time7 + 176 pump4_time7 \n",
      " + 59 pump5_time7 + 69 pump6_time7 + 120 pump7_time7 + 75 pump1_time8 \n",
      " + 133 pump2_time8 + 157 pump3_time8 + 176 pump4_time8 + 59 pump5_time8 \n",
      " + 69 pump6_time8 + 120 pump7_time8 + 75 pump1_time9 + 133 pump2_time9 \n",
      " + 157 pump3_time9 + 176 pump4_time9 + 59 pump5_time9 + 69 pump6_time9 \n",
      " + 120 pump7_time9 + 75 pump1_time10 + 133 pump2_time10 + 157 pump3_time10 \n",
      " + 176 pump4_time10 + 59 pump5_time10 + 69 pump6_time10 + 120 pump7_time10 \n",
      " + 75 pump1_time11 + 133 pump2_time11 + 157 pump3_time11 + 176 pump4_time11 \n",
      " + 59 pump5_time11 + 69 pump6_time11 + 120 pump7_time11 + 75 pump1_time12 \n",
      " + 133 pump2_time12 + 157 pump3_time12 + 176 pump4_time12 + 59 pump5_time12 \n",
      " + 69 pump6_time12 + 120 pump7_time12 + 75 pump1_time13 + 133 pump2_time13 \n",
      " + 157 pump3_time13 + 176 pump4_time13 + 59 pump5_time13 + 69 pump6_time13 \n",
      " + 120 pump7_time13 + 75 pump1_time14 + 133 pump2_time14 + 157 pump3_time14 \n",
      " + 176 pump4_time14 + 59 pump5_time14 + 69 pump6_time14 + 120 pump7_time14 \n",
      " + 75 pump1_time15 + 133 pump2_time15 + 157 pump3_time15 + 176 pump4_time15 \n",
      " + 59 pump5_time15 + 69 pump6_time15 + 120 pump7_time15  >= 1308.53\n",
      " sufficient_reserve_at_time16: + 75 pump1_time1 + 133 pump2_time1 \n",
      " + 157 pump3_time1 + 176 pump4_time1 + 59 pump5_time1 + 69 pump6_time1 \n",
      " + 120 pump7_time1 + 75 pump1_time2 + 133 pump2_time2 + 157 pump3_time2 \n",
      " + 176 pump4_time2 + 59 pump5_time2 + 69 pump6_time2 + 120 pump7_time2 \n",
      " + 75 pump1_time3 + 133 pump2_time3 + 157 pump3_time3 + 176 pump4_time3 \n",
      " + 59 pump5_time3 + 69 pump6_time3 + 120 pump7_time3 + 75 pump1_time4 \n",
      " + 133 pump2_time4 + 157 pump3_time4 + 176 pump4_time4 + 59 pump5_time4 \n",
      " + 69 pump6_time4 + 120 pump7_time4 + 75 pump1_time5 + 133 pump2_time5 \n",
      " + 157 pump3_time5 + 176 pump4_time5 + 59 pump5_time5 + 69 pump6_time5 \n",
      " + 120 pump7_time5 + 75 pump1_time6 + 133 pump2_time6 + 157 pump3_time6 \n",
      " + 176 pump4_time6 + 59 pump5_time6 + 69 pump6_time6 + 120 pump7_time6 \n",
      " + 75 pump1_time7 + 133 pump2_time7 + 157 pump3_time7 + 176 pump4_time7 \n",
      " + 59 pump5_time7 + 69 pump6_time7 + 120 pump7_time7 + 75 pump1_time8 \n",
      " + 133 pump2_time8 + 157 pump3_time8 + 176 pump4_time8 + 59 pump5_time8 \n",
      " + 69 pump6_time8 + 120 pump7_time8 + 75 pump1_time9 + 133 pump2_time9 \n",
      " + 157 pump3_time9 + 176 pump4_time9 + 59 pump5_time9 + 69 pump6_time9 \n",
      " + 120 pump7_time9 + 75 pump1_time10 + 133 pump2_time10 + 157 pump3_time10 \n",
      " + 176 pump4_time10 + 59 pump5_time10 + 69 pump6_time10 + 120 pump7_time10 \n",
      " + 75 pump1_time11 + 133 pump2_time11 + 157 pump3_time11 + 176 pump4_time11 \n",
      " + 59 pump5_time11 + 69 pump6_time11 + 120 pump7_time11 + 75 pump1_time12 \n",
      " + 133 pump2_time12 + 157 pump3_time12 + 176 pump4_time12 + 59 pump5_time12 \n",
      " + 69 pump6_time12 + 120 pump7_time12 + 75 pump1_time13 + 133 pump2_time13 \n",
      " + 157 pump3_time13 + 176 pump4_time13 + 59 pump5_time13 + 69 pump6_time13 \n",
      " + 120 pump7_time13 + 75 pump1_time14 + 133 pump2_time14 + 157 pump3_time14 \n",
      " + 176 pump4_time14 + 59 pump5_time14 + 69 pump6_time14 + 120 pump7_time14 \n",
      " + 75 pump1_time15 + 133 pump2_time15 + 157 pump3_time15 + 176 pump4_time15 \n",
      " + 59 pump5_time15 + 69 pump6_time15 + 120 pump7_time15 + 75 pump1_time16 \n",
      " + 133 pump2_time16 + 157 pump3_time16 + 176 pump4_time16 + 59 pump5_time16 \n",
      " + 69 pump6_time16 + 120 pump7_time16  >= 1423.21\n",
      " sufficient_reserve_at_time17: + 75 pump1_time1 + 133 pump2_time1 \n",
      " + 157 pump3_time1 + 176 pump4_time1 + 59 pump5_time1 + 69 pump6_time1 \n",
      " + 120 pump7_time1 + 75 pump1_time2 + 133 pump2_time2 + 157 pump3_time2 \n",
      " + 176 pump4_time2 + 59 pump5_time2 + 69 pump6_time2 + 120 pump7_time2 \n",
      " + 75 pump1_time3 + 133 pump2_time3 + 157 pump3_time3 + 176 pump4_time3 \n",
      " + 59 pump5_time3 + 69 pump6_time3 + 120 pump7_time3 + 75 pump1_time4 \n",
      " + 133 pump2_time4 + 157 pump3_time4 + 176 pump4_time4 + 59 pump5_time4 \n",
      " + 69 pump6_time4 + 120 pump7_time4 + 75 pump1_time5 + 133 pump2_time5 \n",
      " + 157 pump3_time5 + 176 pump4_time5 + 59 pump5_time5 + 69 pump6_time5 \n",
      " + 120 pump7_time5 + 75 pump1_time6 + 133 pump2_time6 + 157 pump3_time6 \n",
      " + 176 pump4_time6 + 59 pump5_time6 + 69 pump6_time6 + 120 pump7_time6 \n",
      " + 75 pump1_time7 + 133 pump2_time7 + 157 pump3_time7 + 176 pump4_time7 \n",
      " + 59 pump5_time7 + 69 pump6_time7 + 120 pump7_time7 + 75 pump1_time8 \n",
      " + 133 pump2_time8 + 157 pump3_time8 + 176 pump4_time8 + 59 pump5_time8 \n",
      " + 69 pump6_time8 + 120 pump7_time8 + 75 pump1_time9 + 133 pump2_time9 \n",
      " + 157 pump3_time9 + 176 pump4_time9 + 59 pump5_time9 + 69 pump6_time9 \n",
      " + 120 pump7_time9 + 75 pump1_time10 + 133 pump2_time10 + 157 pump3_time10 \n",
      " + 176 pump4_time10 + 59 pump5_time10 + 69 pump6_time10 + 120 pump7_time10 \n",
      " + 75 pump1_time11 + 133 pump2_time11 + 157 pump3_time11 + 176 pump4_time11 \n",
      " + 59 pump5_time11 + 69 pump6_time11 + 120 pump7_time11 + 75 pump1_time12 \n",
      " + 133 pump2_time12 + 157 pump3_time12 + 176 pump4_time12 + 59 pump5_time12 \n",
      " + 69 pump6_time12 + 120 pump7_time12 + 75 pump1_time13 + 133 pump2_time13 \n",
      " + 157 pump3_time13 + 176 pump4_time13 + 59 pump5_time13 + 69 pump6_time13 \n",
      " + 120 pump7_time13 + 75 pump1_time14 + 133 pump2_time14 + 157 pump3_time14 \n",
      " + 176 pump4_time14 + 59 pump5_time14 + 69 pump6_time14 + 120 pump7_time14 \n",
      " + 75 pump1_time15 + 133 pump2_time15 + 157 pump3_time15 + 176 pump4_time15 \n",
      " + 59 pump5_time15 + 69 pump6_time15 + 120 pump7_time15 + 75 pump1_time16 \n",
      " + 133 pump2_time16 + 157 pump3_time16 + 176 pump4_time16 + 59 pump5_time16 \n",
      " + 69 pump6_time16 + 120 pump7_time16 + 75 pump1_time17 + 133 pump2_time17 \n",
      " + 157 pump3_time17 + 176 pump4_time17 + 59 pump5_time17 + 69 pump6_time17 \n",
      " + 120 pump7_time17  >= 1532.54\n",
      " sufficient_reserve_at_time18: + 75 pump1_time1 + 133 pump2_time1 \n",
      " + 157 pump3_time1 + 176 pump4_time1 + 59 pump5_time1 + 69 pump6_time1 \n",
      " + 120 pump7_time1 + 75 pump1_time2 + 133 pump2_time2 + 157 pump3_time2 \n",
      " + 176 pump4_time2 + 59 pump5_time2 + 69 pump6_time2 + 120 pump7_time2 \n",
      " + 75 pump1_time3 + 133 pump2_time3 + 157 pump3_time3 + 176 pump4_time3 \n",
      " + 59 pump5_time3 + 69 pump6_time3 + 120 pump7_time3 + 75 pump1_time4 \n",
      " + 133 pump2_time4 + 157 pump3_time4 + 176 pump4_time4 + 59 pump5_time4 \n",
      " + 69 pump6_time4 + 120 pump7_time4 + 75 pump1_time5 + 133 pump2_time5 \n",
      " + 157 pump3_time5 + 176 pump4_time5 + 59 pump5_time5 + 69 pump6_time5 \n",
      " + 120 pump7_time5 + 75 pump1_time6 + 133 pump2_time6 + 157 pump3_time6 \n",
      " + 176 pump4_time6 + 59 pump5_time6 + 69 pump6_time6 + 120 pump7_time6 \n",
      " + 75 pump1_time7 + 133 pump2_time7 + 157 pump3_time7 + 176 pump4_time7 \n",
      " + 59 pump5_time7 + 69 pump6_time7 + 120 pump7_time7 + 75 pump1_time8 \n",
      " + 133 pump2_time8 + 157 pump3_time8 + 176 pump4_time8 + 59 pump5_time8 \n",
      " + 69 pump6_time8 + 120 pump7_time8 + 75 pump1_time9 + 133 pump2_time9 \n",
      " + 157 pump3_time9 + 176 pump4_time9 + 59 pump5_time9 + 69 pump6_time9 \n",
      " + 120 pump7_time9 + 75 pump1_time10 + 133 pump2_time10 + 157 pump3_time10 \n",
      " + 176 pump4_time10 + 59 pump5_time10 + 69 pump6_time10 + 120 pump7_time10 \n",
      " + 75 pump1_time11 + 133 pump2_time11 + 157 pump3_time11 + 176 pump4_time11 \n",
      " + 59 pump5_time11 + 69 pump6_time11 + 120 pump7_time11 + 75 pump1_time12 \n",
      " + 133 pump2_time12 + 157 pump3_time12 + 176 pump4_time12 + 59 pump5_time12 \n",
      " + 69 pump6_time12 + 120 pump7_time12 + 75 pump1_time13 + 133 pump2_time13 \n",
      " + 157 pump3_time13 + 176 pump4_time13 + 59 pump5_time13 + 69 pump6_time13 \n",
      " + 120 pump7_time13 + 75 pump1_time14 + 133 pump2_time14 + 157 pump3_time14 \n",
      " + 176 pump4_time14 + 59 pump5_time14 + 69 pump6_time14 + 120 pump7_time14 \n",
      " + 75 pump1_time15 + 133 pump2_time15 + 157 pump3_time15 + 176 pump4_time15 \n",
      " + 59 pump5_time15 + 69 pump6_time15 + 120 pump7_time15 + 75 pump1_time16 \n",
      " + 133 pump2_time16 + 157 pump3_time16 + 176 pump4_time16 + 59 pump5_time16 \n",
      " + 69 pump6_time16 + 120 pump7_time16 + 75 pump1_time17 + 133 pump2_time17 \n",
      " + 157 pump3_time17 + 176 pump4_time17 + 59 pump5_time17 + 69 pump6_time17 \n",
      " + 120 pump7_time17 + 75 pump1_time18 + 133 pump2_time18 + 157 pump3_time18 \n",
      " + 176 pump4_time18 + 59 pump5_time18 + 69 pump6_time18 + 120 pump7_time18 \n",
      "  >= 1648.3\n",
      " sufficient_reserve_at_time19: + 75 pump1_time1 + 133 pump2_time1 \n",
      " + 157 pump3_time1 + 176 pump4_time1 + 59 pump5_time1 + 69 pump6_time1 \n",
      " + 120 pump7_time1 + 75 pump1_time2 + 133 pump2_time2 + 157 pump3_time2 \n",
      " + 176 pump4_time2 + 59 pump5_time2 + 69 pump6_time2 + 120 pump7_time2 \n",
      " + 75 pump1_time3 + 133 pump2_time3 + 157 pump3_time3 + 176 pump4_time3 \n",
      " + 59 pump5_time3 + 69 pump6_time3 + 120 pump7_time3 + 75 pump1_time4 \n",
      " + 133 pump2_time4 + 157 pump3_time4 + 176 pump4_time4 + 59 pump5_time4 \n",
      " + 69 pump6_time4 + 120 pump7_time4 + 75 pump1_time5 + 133 pump2_time5 \n",
      " + 157 pump3_time5 + 176 pump4_time5 + 59 pump5_time5 + 69 pump6_time5 \n",
      " + 120 pump7_time5 + 75 pump1_time6 + 133 pump2_time6 + 157 pump3_time6 \n",
      " + 176 pump4_time6 + 59 pump5_time6 + 69 pump6_time6 + 120 pump7_time6 \n",
      " + 75 pump1_time7 + 133 pump2_time7 + 157 pump3_time7 + 176 pump4_time7 \n",
      " + 59 pump5_time7 + 69 pump6_time7 + 120 pump7_time7 + 75 pump1_time8 \n",
      " + 133 pump2_time8 + 157 pump3_time8 + 176 pump4_time8 + 59 pump5_time8 \n",
      " + 69 pump6_time8 + 120 pump7_time8 + 75 pump1_time9 + 133 pump2_time9 \n",
      " + 157 pump3_time9 + 176 pump4_time9 + 59 pump5_time9 + 69 pump6_time9 \n",
      " + 120 pump7_time9 + 75 pump1_time10 + 133 pump2_time10 + 157 pump3_time10 \n",
      " + 176 pump4_time10 + 59 pump5_time10 + 69 pump6_time10 + 120 pump7_time10 \n",
      " + 75 pump1_time11 + 133 pump2_time11 + 157 pump3_time11 + 176 pump4_time11 \n",
      " + 59 pump5_time11 + 69 pump6_time11 + 120 pump7_time11 + 75 pump1_time12 \n",
      " + 133 pump2_time12 + 157 pump3_time12 + 176 pump4_time12 + 59 pump5_time12 \n",
      " + 69 pump6_time12 + 120 pump7_time12 + 75 pump1_time13 + 133 pump2_time13 \n",
      " + 157 pump3_time13 + 176 pump4_time13 + 59 pump5_time13 + 69 pump6_time13 \n",
      " + 120 pump7_time13 + 75 pump1_time14 + 133 pump2_time14 + 157 pump3_time14 \n",
      " + 176 pump4_time14 + 59 pump5_time14 + 69 pump6_time14 + 120 pump7_time14 \n",
      " + 75 pump1_time15 + 133 pump2_time15 + 157 pump3_time15 + 176 pump4_time15 \n",
      " + 59 pump5_time15 + 69 pump6_time15 + 120 pump7_time15 + 75 pump1_time16 \n",
      " + 133 pump2_time16 + 157 pump3_time16 + 176 pump4_time16 + 59 pump5_time16 \n",
      " + 69 pump6_time16 + 120 pump7_time16 + 75 pump1_time17 + 133 pump2_time17 \n",
      " + 157 pump3_time17 + 176 pump4_time17 + 59 pump5_time17 + 69 pump6_time17 \n",
      " + 120 pump7_time17 + 75 pump1_time18 + 133 pump2_time18 + 157 pump3_time18 \n",
      " + 176 pump4_time18 + 59 pump5_time18 + 69 pump6_time18 + 120 pump7_time18 \n",
      " + 75 pump1_time19 + 133 pump2_time19 + 157 pump3_time19 + 176 pump4_time19 \n",
      " + 59 pump5_time19 + 69 pump6_time19 + 120 pump7_time19  >= 1775.25\n",
      " sufficient_reserve_at_time20: + 75 pump1_time1 + 133 pump2_time1 \n",
      " + 157 pump3_time1 + 176 pump4_time1 + 59 pump5_time1 + 69 pump6_time1 \n",
      " + 120 pump7_time1 + 75 pump1_time2 + 133 pump2_time2 + 157 pump3_time2 \n",
      " + 176 pump4_time2 + 59 pump5_time2 + 69 pump6_time2 + 120 pump7_time2 \n",
      " + 75 pump1_time3 + 133 pump2_time3 + 157 pump3_time3 + 176 pump4_time3 \n",
      " + 59 pump5_time3 + 69 pump6_time3 + 120 pump7_time3 + 75 pump1_time4 \n",
      " + 133 pump2_time4 + 157 pump3_time4 + 176 pump4_time4 + 59 pump5_time4 \n",
      " + 69 pump6_time4 + 120 pump7_time4 + 75 pump1_time5 + 133 pump2_time5 \n",
      " + 157 pump3_time5 + 176 pump4_time5 + 59 pump5_time5 + 69 pump6_time5 \n",
      " + 120 pump7_time5 + 75 pump1_time6 + 133 pump2_time6 + 157 pump3_time6 \n",
      " + 176 pump4_time6 + 59 pump5_time6 + 69 pump6_time6 + 120 pump7_time6 \n",
      " + 75 pump1_time7 + 133 pump2_time7 + 157 pump3_time7 + 176 pump4_time7 \n",
      " + 59 pump5_time7 + 69 pump6_time7 + 120 pump7_time7 + 75 pump1_time8 \n",
      " + 133 pump2_time8 + 157 pump3_time8 + 176 pump4_time8 + 59 pump5_time8 \n",
      " + 69 pump6_time8 + 120 pump7_time8 + 75 pump1_time9 + 133 pump2_time9 \n",
      " + 157 pump3_time9 + 176 pump4_time9 + 59 pump5_time9 + 69 pump6_time9 \n",
      " + 120 pump7_time9 + 75 pump1_time10 + 133 pump2_time10 + 157 pump3_time10 \n",
      " + 176 pump4_time10 + 59 pump5_time10 + 69 pump6_time10 + 120 pump7_time10 \n",
      " + 75 pump1_time11 + 133 pump2_time11 + 157 pump3_time11 + 176 pump4_time11 \n",
      " + 59 pump5_time11 + 69 pump6_time11 + 120 pump7_time11 + 75 pump1_time12 \n",
      " + 133 pump2_time12 + 157 pump3_time12 + 176 pump4_time12 + 59 pump5_time12 \n",
      " + 69 pump6_time12 + 120 pump7_time12 + 75 pump1_time13 + 133 pump2_time13 \n",
      " + 157 pump3_time13 + 176 pump4_time13 + 59 pump5_time13 + 69 pump6_time13 \n",
      " + 120 pump7_time13 + 75 pump1_time14 + 133 pump2_time14 + 157 pump3_time14 \n",
      " + 176 pump4_time14 + 59 pump5_time14 + 69 pump6_time14 + 120 pump7_time14 \n",
      " + 75 pump1_time15 + 133 pump2_time15 + 157 pump3_time15 + 176 pump4_time15 \n",
      " + 59 pump5_time15 + 69 pump6_time15 + 120 pump7_time15 + 75 pump1_time16 \n",
      " + 133 pump2_time16 + 157 pump3_time16 + 176 pump4_time16 + 59 pump5_time16 \n",
      " + 69 pump6_time16 + 120 pump7_time16 + 75 pump1_time17 + 133 pump2_time17 \n",
      " + 157 pump3_time17 + 176 pump4_time17 + 59 pump5_time17 + 69 pump6_time17 \n",
      " + 120 pump7_time17 + 75 pump1_time18 + 133 pump2_time18 + 157 pump3_time18 \n",
      " + 176 pump4_time18 + 59 pump5_time18 + 69 pump6_time18 + 120 pump7_time18 \n",
      " + 75 pump1_time19 + 133 pump2_time19 + 157 pump3_time19 + 176 pump4_time19 \n",
      " + 59 pump5_time19 + 69 pump6_time19 + 120 pump7_time19 + 75 pump1_time20 \n",
      " + 133 pump2_time20 + 157 pump3_time20 + 176 pump4_time20 + 59 pump5_time20 \n",
      " + 69 pump6_time20 + 120 pump7_time20  >= 1906.73\n",
      " sufficient_reserve_at_time21: + 75 pump1_time1 + 133 pump2_time1 \n",
      " + 157 pump3_time1 + 176 pump4_time1 + 59 pump5_time1 + 69 pump6_time1 \n",
      " + 120 pump7_time1 + 75 pump1_time2 + 133 pump2_time2 + 157 pump3_time2 \n",
      " + 176 pump4_time2 + 59 pump5_time2 + 69 pump6_time2 + 120 pump7_time2 \n",
      " + 75 pump1_time3 + 133 pump2_time3 + 157 pump3_time3 + 176 pump4_time3 \n",
      " + 59 pump5_time3 + 69 pump6_time3 + 120 pump7_time3 + 75 pump1_time4 \n",
      " + 133 pump2_time4 + 157 pump3_time4 + 176 pump4_time4 + 59 pump5_time4 \n",
      " + 69 pump6_time4 + 120 pump7_time4 + 75 pump1_time5 + 133 pump2_time5 \n",
      " + 157 pump3_time5 + 176 pump4_time5 + 59 pump5_time5 + 69 pump6_time5 \n",
      " + 120 pump7_time5 + 75 pump1_time6 + 133 pump2_time6 + 157 pump3_time6 \n",
      " + 176 pump4_time6 + 59 pump5_time6 + 69 pump6_time6 + 120 pump7_time6 \n",
      " + 75 pump1_time7 + 133 pump2_time7 + 157 pump3_time7 + 176 pump4_time7 \n",
      " + 59 pump5_time7 + 69 pump6_time7 + 120 pump7_time7 + 75 pump1_time8 \n",
      " + 133 pump2_time8 + 157 pump3_time8 + 176 pump4_time8 + 59 pump5_time8 \n",
      " + 69 pump6_time8 + 120 pump7_time8 + 75 pump1_time9 + 133 pump2_time9 \n",
      " + 157 pump3_time9 + 176 pump4_time9 + 59 pump5_time9 + 69 pump6_time9 \n",
      " + 120 pump7_time9 + 75 pump1_time10 + 133 pump2_time10 + 157 pump3_time10 \n",
      " + 176 pump4_time10 + 59 pump5_time10 + 69 pump6_time10 + 120 pump7_time10 \n",
      " + 75 pump1_time11 + 133 pump2_time11 + 157 pump3_time11 + 176 pump4_time11 \n",
      " + 59 pump5_time11 + 69 pump6_time11 + 120 pump7_time11 + 75 pump1_time12 \n",
      " + 133 pump2_time12 + 157 pump3_time12 + 176 pump4_time12 + 59 pump5_time12 \n",
      " + 69 pump6_time12 + 120 pump7_time12 + 75 pump1_time13 + 133 pump2_time13 \n",
      " + 157 pump3_time13 + 176 pump4_time13 + 59 pump5_time13 + 69 pump6_time13 \n",
      " + 120 pump7_time13 + 75 pump1_time14 + 133 pump2_time14 + 157 pump3_time14 \n",
      " + 176 pump4_time14 + 59 pump5_time14 + 69 pump6_time14 + 120 pump7_time14 \n",
      " + 75 pump1_time15 + 133 pump2_time15 + 157 pump3_time15 + 176 pump4_time15 \n",
      " + 59 pump5_time15 + 69 pump6_time15 + 120 pump7_time15 + 75 pump1_time16 \n",
      " + 133 pump2_time16 + 157 pump3_time16 + 176 pump4_time16 + 59 pump5_time16 \n",
      " + 69 pump6_time16 + 120 pump7_time16 + 75 pump1_time17 + 133 pump2_time17 \n",
      " + 157 pump3_time17 + 176 pump4_time17 + 59 pump5_time17 + 69 pump6_time17 \n",
      " + 120 pump7_time17 + 75 pump1_time18 + 133 pump2_time18 + 157 pump3_time18 \n",
      " + 176 pump4_time18 + 59 pump5_time18 + 69 pump6_time18 + 120 pump7_time18 \n",
      " + 75 pump1_time19 + 133 pump2_time19 + 157 pump3_time19 + 176 pump4_time19 \n",
      " + 59 pump5_time19 + 69 pump6_time19 + 120 pump7_time19 + 75 pump1_time20 \n",
      " + 133 pump2_time20 + 157 pump3_time20 + 176 pump4_time20 + 59 pump5_time20 \n",
      " + 69 pump6_time20 + 120 pump7_time20 + 75 pump1_time21 + 133 pump2_time21 \n",
      " + 157 pump3_time21 + 176 pump4_time21 + 59 pump5_time21 + 69 pump6_time21 \n",
      " + 120 pump7_time21  >= 2045.5900000000001\n",
      " sufficient_reserve_at_time22: + 75 pump1_time1 + 133 pump2_time1 \n",
      " + 157 pump3_time1 + 176 pump4_time1 + 59 pump5_time1 + 69 pump6_time1 \n",
      " + 120 pump7_time1 + 75 pump1_time2 + 133 pump2_time2 + 157 pump3_time2 \n",
      " + 176 pump4_time2 + 59 pump5_time2 + 69 pump6_time2 + 120 pump7_time2 \n",
      " + 75 pump1_time3 + 133 pump2_time3 + 157 pump3_time3 + 176 pump4_time3 \n",
      " + 59 pump5_time3 + 69 pump6_time3 + 120 pump7_time3 + 75 pump1_time4 \n",
      " + 133 pump2_time4 + 157 pump3_time4 + 176 pump4_time4 + 59 pump5_time4 \n",
      " + 69 pump6_time4 + 120 pump7_time4 + 75 pump1_time5 + 133 pump2_time5 \n",
      " + 157 pump3_time5 + 176 pump4_time5 + 59 pump5_time5 + 69 pump6_time5 \n",
      " + 120 pump7_time5 + 75 pump1_time6 + 133 pump2_time6 + 157 pump3_time6 \n",
      " + 176 pump4_time6 + 59 pump5_time6 + 69 pump6_time6 + 120 pump7_time6 \n",
      " + 75 pump1_time7 + 133 pump2_time7 + 157 pump3_time7 + 176 pump4_time7 \n",
      " + 59 pump5_time7 + 69 pump6_time7 + 120 pump7_time7 + 75 pump1_time8 \n",
      " + 133 pump2_time8 + 157 pump3_time8 + 176 pump4_time8 + 59 pump5_time8 \n",
      " + 69 pump6_time8 + 120 pump7_time8 + 75 pump1_time9 + 133 pump2_time9 \n",
      " + 157 pump3_time9 + 176 pump4_time9 + 59 pump5_time9 + 69 pump6_time9 \n",
      " + 120 pump7_time9 + 75 pump1_time10 + 133 pump2_time10 + 157 pump3_time10 \n",
      " + 176 pump4_time10 + 59 pump5_time10 + 69 pump6_time10 + 120 pump7_time10 \n",
      " + 75 pump1_time11 + 133 pump2_time11 + 157 pump3_time11 + 176 pump4_time11 \n",
      " + 59 pump5_time11 + 69 pump6_time11 + 120 pump7_time11 + 75 pump1_time12 \n",
      " + 133 pump2_time12 + 157 pump3_time12 + 176 pump4_time12 + 59 pump5_time12 \n",
      " + 69 pump6_time12 + 120 pump7_time12 + 75 pump1_time13 + 133 pump2_time13 \n",
      " + 157 pump3_time13 + 176 pump4_time13 + 59 pump5_time13 + 69 pump6_time13 \n",
      " + 120 pump7_time13 + 75 pump1_time14 + 133 pump2_time14 + 157 pump3_time14 \n",
      " + 176 pump4_time14 + 59 pump5_time14 + 69 pump6_time14 + 120 pump7_time14 \n",
      " + 75 pump1_time15 + 133 pump2_time15 + 157 pump3_time15 + 176 pump4_time15 \n",
      " + 59 pump5_time15 + 69 pump6_time15 + 120 pump7_time15 + 75 pump1_time16 \n",
      " + 133 pump2_time16 + 157 pump3_time16 + 176 pump4_time16 + 59 pump5_time16 \n",
      " + 69 pump6_time16 + 120 pump7_time16 + 75 pump1_time17 + 133 pump2_time17 \n",
      " + 157 pump3_time17 + 176 pump4_time17 + 59 pump5_time17 + 69 pump6_time17 \n",
      " + 120 pump7_time17 + 75 pump1_time18 + 133 pump2_time18 + 157 pump3_time18 \n",
      " + 176 pump4_time18 + 59 pump5_time18 + 69 pump6_time18 + 120 pump7_time18 \n",
      " + 75 pump1_time19 + 133 pump2_time19 + 157 pump3_time19 + 176 pump4_time19 \n",
      " + 59 pump5_time19 + 69 pump6_time19 + 120 pump7_time19 + 75 pump1_time20 \n",
      " + 133 pump2_time20 + 157 pump3_time20 + 176 pump4_time20 + 59 pump5_time20 \n",
      " + 69 pump6_time20 + 120 pump7_time20 + 75 pump1_time21 + 133 pump2_time21 \n",
      " + 157 pump3_time21 + 176 pump4_time21 + 59 pump5_time21 + 69 pump6_time21 \n",
      " + 120 pump7_time21 + 75 pump1_time22 + 133 pump2_time22 + 157 pump3_time22 \n",
      " + 176 pump4_time22 + 59 pump5_time22 + 69 pump6_time22 + 120 pump7_time22 \n",
      "  >= 2177.5\n",
      " sufficient_reserve_at_time23: + 75 pump1_time1 + 133 pump2_time1 \n",
      " + 157 pump3_time1 + 176 pump4_time1 + 59 pump5_time1 + 69 pump6_time1 \n",
      " + 120 pump7_time1 + 75 pump1_time2 + 133 pump2_time2 + 157 pump3_time2 \n",
      " + 176 pump4_time2 + 59 pump5_time2 + 69 pump6_time2 + 120 pump7_time2 \n",
      " + 75 pump1_time3 + 133 pump2_time3 + 157 pump3_time3 + 176 pump4_time3 \n",
      " + 59 pump5_time3 + 69 pump6_time3 + 120 pump7_time3 + 75 pump1_time4 \n",
      " + 133 pump2_time4 + 157 pump3_time4 + 176 pump4_time4 + 59 pump5_time4 \n",
      " + 69 pump6_time4 + 120 pump7_time4 + 75 pump1_time5 + 133 pump2_time5 \n",
      " + 157 pump3_time5 + 176 pump4_time5 + 59 pump5_time5 + 69 pump6_time5 \n",
      " + 120 pump7_time5 + 75 pump1_time6 + 133 pump2_time6 + 157 pump3_time6 \n",
      " + 176 pump4_time6 + 59 pump5_time6 + 69 pump6_time6 + 120 pump7_time6 \n",
      " + 75 pump1_time7 + 133 pump2_time7 + 157 pump3_time7 + 176 pump4_time7 \n",
      " + 59 pump5_time7 + 69 pump6_time7 + 120 pump7_time7 + 75 pump1_time8 \n",
      " + 133 pump2_time8 + 157 pump3_time8 + 176 pump4_time8 + 59 pump5_time8 \n",
      " + 69 pump6_time8 + 120 pump7_time8 + 75 pump1_time9 + 133 pump2_time9 \n",
      " + 157 pump3_time9 + 176 pump4_time9 + 59 pump5_time9 + 69 pump6_time9 \n",
      " + 120 pump7_time9 + 75 pump1_time10 + 133 pump2_time10 + 157 pump3_time10 \n",
      " + 176 pump4_time10 + 59 pump5_time10 + 69 pump6_time10 + 120 pump7_time10 \n",
      " + 75 pump1_time11 + 133 pump2_time11 + 157 pump3_time11 + 176 pump4_time11 \n",
      " + 59 pump5_time11 + 69 pump6_time11 + 120 pump7_time11 + 75 pump1_time12 \n",
      " + 133 pump2_time12 + 157 pump3_time12 + 176 pump4_time12 + 59 pump5_time12 \n",
      " + 69 pump6_time12 + 120 pump7_time12 + 75 pump1_time13 + 133 pump2_time13 \n",
      " + 157 pump3_time13 + 176 pump4_time13 + 59 pump5_time13 + 69 pump6_time13 \n",
      " + 120 pump7_time13 + 75 pump1_time14 + 133 pump2_time14 + 157 pump3_time14 \n",
      " + 176 pump4_time14 + 59 pump5_time14 + 69 pump6_time14 + 120 pump7_time14 \n",
      " + 75 pump1_time15 + 133 pump2_time15 + 157 pump3_time15 + 176 pump4_time15 \n",
      " + 59 pump5_time15 + 69 pump6_time15 + 120 pump7_time15 + 75 pump1_time16 \n",
      " + 133 pump2_time16 + 157 pump3_time16 + 176 pump4_time16 + 59 pump5_time16 \n",
      " + 69 pump6_time16 + 120 pump7_time16 + 75 pump1_time17 + 133 pump2_time17 \n",
      " + 157 pump3_time17 + 176 pump4_time17 + 59 pump5_time17 + 69 pump6_time17 \n",
      " + 120 pump7_time17 + 75 pump1_time18 + 133 pump2_time18 + 157 pump3_time18 \n",
      " + 176 pump4_time18 + 59 pump5_time18 + 69 pump6_time18 + 120 pump7_time18 \n",
      " + 75 pump1_time19 + 133 pump2_time19 + 157 pump3_time19 + 176 pump4_time19 \n",
      " + 59 pump5_time19 + 69 pump6_time19 + 120 pump7_time19 + 75 pump1_time20 \n",
      " + 133 pump2_time20 + 157 pump3_time20 + 176 pump4_time20 + 59 pump5_time20 \n",
      " + 69 pump6_time20 + 120 pump7_time20 + 75 pump1_time21 + 133 pump2_time21 \n",
      " + 157 pump3_time21 + 176 pump4_time21 + 59 pump5_time21 + 69 pump6_time21 \n",
      " + 120 pump7_time21 + 75 pump1_time22 + 133 pump2_time22 + 157 pump3_time22 \n",
      " + 176 pump4_time22 + 59 pump5_time22 + 69 pump6_time22 + 120 pump7_time22 \n",
      " + 75 pump1_time23 + 133 pump2_time23 + 157 pump3_time23 + 176 pump4_time23 \n",
      " + 59 pump5_time23 + 69 pump6_time23 + 120 pump7_time23  >= 2289.03\n",
      " sufficient_reserve_at_time24: + 75 pump1_time1 + 133 pump2_time1 \n",
      " + 157 pump3_time1 + 176 pump4_time1 + 59 pump5_time1 + 69 pump6_time1 \n",
      " + 120 pump7_time1 + 75 pump1_time2 + 133 pump2_time2 + 157 pump3_time2 \n",
      " + 176 pump4_time2 + 59 pump5_time2 + 69 pump6_time2 + 120 pump7_time2 \n",
      " + 75 pump1_time3 + 133 pump2_time3 + 157 pump3_time3 + 176 pump4_time3 \n",
      " + 59 pump5_time3 + 69 pump6_time3 + 120 pump7_time3 + 75 pump1_time4 \n",
      " + 133 pump2_time4 + 157 pump3_time4 + 176 pump4_time4 + 59 pump5_time4 \n",
      " + 69 pump6_time4 + 120 pump7_time4 + 75 pump1_time5 + 133 pump2_time5 \n",
      " + 157 pump3_time5 + 176 pump4_time5 + 59 pump5_time5 + 69 pump6_time5 \n",
      " + 120 pump7_time5 + 75 pump1_time6 + 133 pump2_time6 + 157 pump3_time6 \n",
      " + 176 pump4_time6 + 59 pump5_time6 + 69 pump6_time6 + 120 pump7_time6 \n",
      " + 75 pump1_time7 + 133 pump2_time7 + 157 pump3_time7 + 176 pump4_time7 \n",
      " + 59 pump5_time7 + 69 pump6_time7 + 120 pump7_time7 + 75 pump1_time8 \n",
      " + 133 pump2_time8 + 157 pump3_time8 + 176 pump4_time8 + 59 pump5_time8 \n",
      " + 69 pump6_time8 + 120 pump7_time8 + 75 pump1_time9 + 133 pump2_time9 \n",
      " + 157 pump3_time9 + 176 pump4_time9 + 59 pump5_time9 + 69 pump6_time9 \n",
      " + 120 pump7_time9 + 75 pump1_time10 + 133 pump2_time10 + 157 pump3_time10 \n",
      " + 176 pump4_time10 + 59 pump5_time10 + 69 pump6_time10 + 120 pump7_time10 \n",
      " + 75 pump1_time11 + 133 pump2_time11 + 157 pump3_time11 + 176 pump4_time11 \n",
      " + 59 pump5_time11 + 69 pump6_time11 + 120 pump7_time11 + 75 pump1_time12 \n",
      " + 133 pump2_time12 + 157 pump3_time12 + 176 pump4_time12 + 59 pump5_time12 \n",
      " + 69 pump6_time12 + 120 pump7_time12 + 75 pump1_time13 + 133 pump2_time13 \n",
      " + 157 pump3_time13 + 176 pump4_time13 + 59 pump5_time13 + 69 pump6_time13 \n",
      " + 120 pump7_time13 + 75 pump1_time14 + 133 pump2_time14 + 157 pump3_time14 \n",
      " + 176 pump4_time14 + 59 pump5_time14 + 69 pump6_time14 + 120 pump7_time14 \n",
      " + 75 pump1_time15 + 133 pump2_time15 + 157 pump3_time15 + 176 pump4_time15 \n",
      " + 59 pump5_time15 + 69 pump6_time15 + 120 pump7_time15 + 75 pump1_time16 \n",
      " + 133 pump2_time16 + 157 pump3_time16 + 176 pump4_time16 + 59 pump5_time16 \n",
      " + 69 pump6_time16 + 120 pump7_time16 + 75 pump1_time17 + 133 pump2_time17 \n",
      " + 157 pump3_time17 + 176 pump4_time17 + 59 pump5_time17 + 69 pump6_time17 \n",
      " + 120 pump7_time17 + 75 pump1_time18 + 133 pump2_time18 + 157 pump3_time18 \n",
      " + 176 pump4_time18 + 59 pump5_time18 + 69 pump6_time18 + 120 pump7_time18 \n",
      " + 75 pump1_time19 + 133 pump2_time19 + 157 pump3_time19 + 176 pump4_time19 \n",
      " + 59 pump5_time19 + 69 pump6_time19 + 120 pump7_time19 + 75 pump1_time20 \n",
      " + 133 pump2_time20 + 157 pump3_time20 + 176 pump4_time20 + 59 pump5_time20 \n",
      " + 69 pump6_time20 + 120 pump7_time20 + 75 pump1_time21 + 133 pump2_time21 \n",
      " + 157 pump3_time21 + 176 pump4_time21 + 59 pump5_time21 + 69 pump6_time21 \n",
      " + 120 pump7_time21 + 75 pump1_time22 + 133 pump2_time22 + 157 pump3_time22 \n",
      " + 176 pump4_time22 + 59 pump5_time22 + 69 pump6_time22 + 120 pump7_time22 \n",
      " + 75 pump1_time23 + 133 pump2_time23 + 157 pump3_time23 + 176 pump4_time23 \n",
      " + 59 pump5_time23 + 69 pump6_time23 + 120 pump7_time23 + 75 pump1_time24 \n",
      " + 133 pump2_time24 + 157 pump3_time24 + 176 pump4_time24 + 59 pump5_time24 \n",
      " + 69 pump6_time24 + 120 pump7_time24  >= 2359.46\n",
      "\n",
      "Bounds\n",
      "\n",
      "Binary\n",
      " pump1_time1 pump2_time1 pump3_time1 pump4_time1 pump5_time1 pump6_time1\n",
      "  pump7_time1 pump1_time2 pump2_time2 pump3_time2 pump4_time2 pump5_time2\n",
      "  pump6_time2 pump7_time2 pump1_time3 pump2_time3 pump3_time3 pump4_time3\n",
      "  pump5_time3 pump6_time3 pump7_time3 pump1_time4 pump2_time4 pump3_time4\n",
      "  pump4_time4 pump5_time4 pump6_time4 pump7_time4 pump1_time5 pump2_time5\n",
      "  pump3_time5 pump4_time5 pump5_time5 pump6_time5 pump7_time5 pump1_time6\n",
      "  pump2_time6 pump3_time6 pump4_time6 pump5_time6 pump6_time6 pump7_time6\n",
      "  pump1_time7 pump2_time7 pump3_time7 pump4_time7 pump5_time7 pump6_time7\n",
      "  pump7_time7 pump1_time8 pump2_time8 pump3_time8 pump4_time8 pump5_time8\n",
      "  pump6_time8 pump7_time8 pump1_time9 pump2_time9 pump3_time9 pump4_time9\n",
      "  pump5_time9 pump6_time9 pump7_time9 pump1_time10 pump2_time10 pump3_time10\n",
      "  pump4_time10 pump5_time10 pump6_time10 pump7_time10 pump1_time11 pump2_time11\n",
      "  pump3_time11 pump4_time11 pump5_time11 pump6_time11 pump7_time11 pump1_time12\n",
      "  pump2_time12 pump3_time12 pump4_time12 pump5_time12 pump6_time12 pump7_time12\n",
      "  pump1_time13 pump2_time13 pump3_time13 pump4_time13 pump5_time13 pump6_time13\n",
      "  pump7_time13 pump1_time14 pump2_time14 pump3_time14 pump4_time14 pump5_time14\n",
      "  pump6_time14 pump7_time14 pump1_time15 pump2_time15 pump3_time15 pump4_time15\n",
      "  pump5_time15 pump6_time15 pump7_time15 pump1_time16 pump2_time16 pump3_time16\n",
      "  pump4_time16 pump5_time16 pump6_time16 pump7_time16 pump1_time17 pump2_time17\n",
      "  pump3_time17 pump4_time17 pump5_time17 pump6_time17 pump7_time17 pump1_time18\n",
      "  pump2_time18 pump3_time18 pump4_time18 pump5_time18 pump6_time18 pump7_time18\n",
      "  pump1_time19 pump2_time19 pump3_time19 pump4_time19 pump5_time19 pump6_time19\n",
      "  pump7_time19 pump1_time20 pump2_time20 pump3_time20 pump4_time20 pump5_time20\n",
      "  pump6_time20 pump7_time20 pump1_time21 pump2_time21 pump3_time21 pump4_time21\n",
      "  pump5_time21 pump6_time21 pump7_time21 pump1_time22 pump2_time22 pump3_time22\n",
      "  pump4_time22 pump5_time22 pump6_time22 pump7_time22 pump1_time23 pump2_time23\n",
      "  pump3_time23 pump4_time23 pump5_time23 pump6_time23 pump7_time23 pump1_time24\n",
      "  pump2_time24 pump3_time24 pump4_time24 pump5_time24 pump6_time24 pump7_time24\n",
      "General\n",
      "\n",
      "End\n"
     ]
    }
   ],
   "source": [
    "print(lp_dump)"
   ]
  },
  {
   "cell_type": "code",
   "execution_count": 30,
   "id": "94b5c5ee-9aee-401a-8ceb-f998c1dae6bb",
   "metadata": {},
   "outputs": [],
   "source": [
    "with open(\"reservoir.lp\", \"w\") as f:\n",
    "    print(lp_dump, file=f)"
   ]
  },
  {
   "cell_type": "markdown",
   "id": "a780f3d5-5cf9-400b-8197-688f53c5571e",
   "metadata": {
    "slideshow": {
     "slide_type": "slide"
    }
   },
   "source": [
    "## Formulation from paper\n",
    "\n",
    "Do not start by trying to write this:"
   ]
  },
  {
   "attachments": {
    "f7d47661-2f6d-4736-b946-dea72d7b64d3.png": {
     "image/png": "[encoded data removed]"
    }
   },
   "cell_type": "markdown",
   "id": "c37de281-3886-4798-94b8-22ea9a4e3203",
   "metadata": {},
   "source": [
    "![image.png](attachment:f7d47661-2f6d-4736-b946-dea72d7b64d3.png)\n",
    "\n",
    "- Note the that the highlighted 1 in cconstraint (3) should be a 0 since the $v_i$ represent volumes at the end of the hour.\n",
    "\n",
    "- The volume at the end of hour 1 would already be mdoified by the inflow and demand during the first hour."
   ]
  }
 ],
 "metadata": {
  "celltoolbar": "Slideshow",
  "kernelspec": {
   "display_name": "Python 3 (ipykernel)",
   "language": "python",
   "name": "python3"
  },
  "language_info": {
   "codemirror_mode": {
    "name": "ipython",
    "version": 3
   },
   "file_extension": ".py",
   "mimetype": "text/x-python",
   "name": "python",
   "nbconvert_exporter": "python",
   "pygments_lexer": "ipython3",
   "version": "3.9.15"
  },
  "toc-autonumbering": false,
  "toc-showcode": false,
  "toc-showmarkdowntxt": false
 },
 "nbformat": 4,
 "nbformat_minor": 5
}
