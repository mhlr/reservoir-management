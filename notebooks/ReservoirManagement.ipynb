{
 "cells": [
  {
   "cell_type": "markdown",
   "id": "ece4c920-bfd9-46a5-9f6a-d1ec272b317c",
   "metadata": {},
   "source": [
    "# Reservoir Management"
   ]
  },
  {
   "cell_type": "markdown",
   "id": "513c5408-d718-4227-83d8-c360cfb7c407",
   "metadata": {},
   "source": [
    "## Problem Description"
   ]
  },
  {
   "cell_type": "markdown",
   "id": "9a94b923-4232-46c2-81df-03b3f6d99ebc",
   "metadata": {},
   "source": [
    "From [Kowalik P, Rzemieniak M. Binary Linear Programming as a Tool of Cost Optimization for a Water Supply Operator. Sustainability. 2021 13(6):3470.](https://doi.org/10.3390/su13063470)"
   ]
  },
  {
   "cell_type": "markdown",
   "id": "b5fb7075-4562-4d91-97b8-37e1c80e907b",
   "metadata": {},
   "source": [
    "> The water supply system under consideration is that of a water supply operator based\n",
    "in a town with a population of about 25,000 inhabitants, located in Eastern Poland. **The\n",
    "main parts of the system are wells, pumps, a reservoir tank, and the distribution pipeline\n",
    "network.**\n",
    "\n",
    "> Supplied water is groundwater pumped from 7 wells. The capacities and values of\n",
    "the electric power of the pumps are presented in Table 1. **Water is pumped from the wells\n",
    "to a single reservoir tank with the capacity of Vmax = 1500 m3\n",
    "(the maximal volume of\n",
    "stored water)**.\n",
    "\n",
    "> **The demand for water varies over time**. The outflow of water from the reservoir\n",
    "tank via the distribution network to customers is a continuous process. For practical\n",
    "reasons, **predictions of demand are made for 24 one-hour timeslots**.\n",
    "\n",
    "> Controlling the pumps must obey the following requirements. **The pumps can operate\n",
    "with their nominal capacities only**, and the amount of water pumped by any pump depends\n",
    "on the time of operation only. **Each pump must operate for at least one hour per day.**\n",
    "Additionally, **at least one well and the pump integrated with it must be kept as a reserve at\n",
    "any moment of the day**. The water inside the tank should be replaced at least once per day.\n",
    "During standard operational conditions, **the volume of water in the reservoir tank cannot\n",
    "be less than Vmin = 523.5 m3**.\n",
    "It is the firefighting reserve, which is kept in order to satisfy\n",
    "an extra demand when a fire is extinguished by using water supplied from hydrants.\n",
    "\n",
    "> ... the supplier of electric\n",
    "power does not use the same rate per MWh in its pricing policy all day long. Instead, it\n",
    "uses three tariff levels ..."
   ]
  },
  {
   "cell_type": "markdown",
   "id": "6642a696-a96c-4050-8e79-657210570f21",
   "metadata": {
    "tags": []
   },
   "source": [
    "## Problem instance data"
   ]
  },
  {
   "cell_type": "markdown",
   "id": "8512c015-47c6-44b0-bef5-223d29663fd6",
   "metadata": {},
   "source": [
    "From [Kowalik P, Rzemieniak M. Binary Linear Programming as a Tool of Cost Optimization for a Water Supply Operator. Sustainability. 2021 13(6):3470.](https://doi.org/10.3390/su13063470)"
   ]
  },
  {
   "cell_type": "code",
   "execution_count": 1,
   "id": "d765313e-a05d-425e-8181-fced85871879",
   "metadata": {},
   "outputs": [
    {
     "name": "stdout",
     "output_type": "stream",
     "text": [
      "Overwriting pumps.csv\n"
     ]
    }
   ],
   "source": [
    "%%file pumps.csv\n",
    "id capacity power_consumption\n",
    "1 75 15\n",
    "2 133 37\n",
    "3 157 33\n",
    "4 176 33\n",
    "5 59 22\n",
    "6 69 33\n",
    "7 120 22"
   ]
  },
  {
   "cell_type": "code",
   "execution_count": 2,
   "id": "776fd205-4169-4ce4-be48-8df91d7555fe",
   "metadata": {},
   "outputs": [
    {
     "name": "stdout",
     "output_type": "stream",
     "text": [
      "Overwriting tariff.csv\n"
     ]
    }
   ],
   "source": [
    "%%file tariff.csv\n",
    "start end price\n",
    "16 21 336.00\n",
    "7 13 283.00\n",
    "0 7 169.00\n",
    "13 16 169.00\n",
    "21 24 169.00"
   ]
  },
  {
   "cell_type": "code",
   "execution_count": 3,
   "id": "ce87528d-ba7e-4474-b301-2a408fdd8062",
   "metadata": {},
   "outputs": [
    {
     "name": "stdout",
     "output_type": "stream",
     "text": [
      "Overwriting schedule.csv\n"
     ]
    }
   ],
   "source": [
    "%%file schedule.csv\n",
    "time water_demand power_price\n",
    "1 44.62 169\n",
    "2 31.27 169\n",
    "3 26.22 169\n",
    "4 27.51 169\n",
    "5 31.50 169\n",
    "6 46.18 169\n",
    "7 69.47 169\n",
    "8 100.36 283\n",
    "9 131.85 283\n",
    "10 148.51 283\n",
    "11 149.89 283\n",
    "12 142.21 283\n",
    "13 132.09 283\n",
    "14 129.29 169\n",
    "15 124.06 169\n",
    "16 114.68 169\n",
    "17 109.33 336\n",
    "18 115.76 336\n",
    "19 126.95 336\n",
    "20 131.48 336\n",
    "21 138.86 336\n",
    "22 131.91 169\n",
    "23 111.53 169\n",
    "24 70.43 169"
   ]
  },
  {
   "cell_type": "code",
   "execution_count": 4,
   "id": "f197210f-cd41-468b-abe1-678f34c66d17",
   "metadata": {},
   "outputs": [
    {
     "name": "stdout",
     "output_type": "stream",
     "text": [
      "Overwriting reservoir.csv\n"
     ]
    }
   ],
   "source": [
    "%%file reservoir.csv\n",
    "Vmin Vmax Vinit\n",
    "523.5 1500 550"
   ]
  },
  {
   "cell_type": "markdown",
   "id": "c6d13a20-dbc2-40f6-adf3-6b0052660192",
   "metadata": {
    "tags": []
   },
   "source": [
    "## Load data"
   ]
  },
  {
   "cell_type": "code",
   "execution_count": 5,
   "id": "91c633dc-f320-4925-99d5-124181007616",
   "metadata": {
    "jupyter": {
     "source_hidden": true
    },
    "tags": []
   },
   "outputs": [],
   "source": [
    "import itertools as it\n",
    "import functools as ft\n",
    "import collections as coll\n",
    "import random, json, string, sys, pickle, shutil, string\n",
    "\n",
    "import numpy as np\n",
    "import pandas as pd\n",
    "import networkx as nx\n",
    "from cytoolz import curried as tl\n",
    "import janitor\n",
    "\n",
    "from icecream import ic\n",
    "from prettyprinter import pprint as pp, install_extras\n",
    "\n",
    "import dimod"
   ]
  },
  {
   "cell_type": "code",
   "execution_count": 6,
   "id": "4ea9e3f1-946d-40ff-9567-81a69ed66089",
   "metadata": {},
   "outputs": [],
   "source": [
    "pumps = pd.read_csv(\"pumps.csv\", sep=' ').set_index('id', drop=False)\n",
    "schedule = pd.read_csv(\"schedule.csv\", sep=' ').set_index('time', drop=False)\n",
    "tariff = pd.read_csv(\"tariff.csv\", sep=' ')\n",
    "reservoir = pd.read_csv(\"reservoir.csv\", sep=' ').loc[0]"
   ]
  },
  {
   "cell_type": "markdown",
   "id": "4a0445a9-5482-4d72-8e57-eb9584054e1a",
   "metadata": {
    "tags": []
   },
   "source": [
    "## Define domain language"
   ]
  },
  {
   "cell_type": "code",
   "execution_count": 7,
   "id": "70a56b4a-2705-4ac5-aaa9-551518108908",
   "metadata": {},
   "outputs": [],
   "source": [
    "Sum = dimod.quicksum\n",
    "\n",
    "def capacity(pump):\n",
    "    return pumps.capacity[pump]\n",
    "\n",
    "def power_consumption(pump):\n",
    "    return pumps.power_consumption[pump]\n",
    "\n",
    "def power_price(time):\n",
    "    return schedule.power_price[time]/1000\n",
    "\n",
    "def water_demand(time):\n",
    "    return schedule.water_demand[time]\n",
    "\n",
    "def is_running(pump, time):\n",
    "    return dimod.Binary(f\"pump{pump}_time{time}\")\n",
    "\n",
    "def volume(time): \n",
    "    return (\n",
    "        dimod.Binary(f\"volume_time{time}\")\n",
    "        if time >= schedule.time.min()\n",
    "        else reservoir.Vinit\n",
    "    )\n",
    "\n",
    "def inflow(time):\n",
    "    return Sum(\n",
    "            pumps.capacity[pump] * is_running(pump, time)\n",
    "            for pump in pumps.id\n",
    "        )"
   ]
  },
  {
   "cell_type": "markdown",
   "id": "fa9a5887-12a4-418c-ae71-7dcc90a89e10",
   "metadata": {},
   "source": [
    "## Construct model"
   ]
  },
  {
   "cell_type": "code",
   "execution_count": 8,
   "id": "7f0e47ab-1364-43f9-84f9-0c8c26dd180b",
   "metadata": {},
   "outputs": [],
   "source": [
    "model = dimod.CQM()"
   ]
  },
  {
   "cell_type": "markdown",
   "id": "6dbf458f-0db7-45e6-b37f-d5dc3dd218c0",
   "metadata": {},
   "source": [
    "### Define objective"
   ]
  },
  {
   "cell_type": "markdown",
   "id": "3aa552bc-848d-4f7e-88d1-5d962ea99173",
   "metadata": {},
   "source": [
    "#### *Minimize power costs*"
   ]
  },
  {
   "cell_type": "code",
   "execution_count": 9,
   "id": "fd97fddd-e97d-4a25-91f8-30621cf33ea4",
   "metadata": {},
   "outputs": [],
   "source": [
    "model.set_objective(\n",
    "    Sum(\n",
    "        power_price(time)\n",
    "        * Sum(\n",
    "            power_consumption(pump) * is_running(pump, time)\n",
    "            for pump in pumps.id\n",
    "        )\n",
    "        for time in schedule.time\n",
    "    )\n",
    ")"
   ]
  },
  {
   "cell_type": "markdown",
   "id": "1a12c967-a113-4a7d-ad12-bd78d58b5bcd",
   "metadata": {
    "tags": []
   },
   "source": [
    "### Add constraints"
   ]
  },
  {
   "cell_type": "markdown",
   "id": "53f11388-5f8b-4da5-93f5-07291c41ab47",
   "metadata": {},
   "source": [
    "#### *Each pump must operate for at least one hour per day*"
   ]
  },
  {
   "cell_type": "code",
   "execution_count": 10,
   "id": "690dd409-6aae-4515-b2ab-4d469e1d09f6",
   "metadata": {},
   "outputs": [],
   "source": [
    "for pump in pumps.id:\n",
    "    model.add_constraint(\n",
    "        Sum(\n",
    "            is_running(pump, time) for time in schedule.time\n",
    "        ) >= 1,\n",
    "        f\"pump_{pump} must operate for at least one hour per day\")"
   ]
  },
  {
   "cell_type": "markdown",
   "id": "510b699c-bf78-40b5-ba81-2c4390ac4393",
   "metadata": {},
   "source": [
    "#### *At least one well and the pump integrated with it must be kept as a reserve at any moment of the day*"
   ]
  },
  {
   "cell_type": "code",
   "execution_count": 11,
   "id": "bda96643-92fa-4ae2-88ea-e5081c8fe864",
   "metadata": {},
   "outputs": [],
   "source": [
    "for time in schedule.time:\n",
    "    model.add_constraint(\n",
    "        Sum(\n",
    "            is_running(pump, time) for pump in pumps.id\n",
    "        ) <= pumps.shape[0] - 1,\n",
    "        f\"at least one pump is in reserve at time {time}\" )"
   ]
  },
  {
   "cell_type": "markdown",
   "id": "ecddeb5c-9df6-48a4-b0e7-b9f6e3f7f4b4",
   "metadata": {},
   "source": [
    "#### *The water inside the tank should be replaced at least once per day* ??? (Not addressed in paper. Meaning?)"
   ]
  },
  {
   "cell_type": "raw",
   "id": "58c74055-6fb3-443b-9192-2c99dd6f874e",
   "metadata": {
    "jupyter": {
     "source_hidden": true
    },
    "tags": []
   },
   "source": [
    "## Alternative (probably wrong) interpretation\n",
    "model.add_constraint(\n",
    "    Sum(\n",
    "        inflow(time) for time in schedule.time\n",
    "    ) >= reservoir.Vinit,\n",
    "    f\"water inside the tank should be replaced at least once per day\"\n",
    ");"
   ]
  },
  {
   "cell_type": "code",
   "execution_count": 12,
   "id": "37fe7a32-a178-4e8e-9c48-624428d6ace5",
   "metadata": {},
   "outputs": [],
   "source": [
    "model.add_constraint(volume(schedule.time.max()) >= reservoir.Vinit);"
   ]
  },
  {
   "cell_type": "markdown",
   "id": "f23b820e-ded6-40f6-9ebe-d9320df658de",
   "metadata": {},
   "source": [
    "#### *The volume of water in the reservoir tank must always be between Vmin and Vmax*"
   ]
  },
  {
   "cell_type": "code",
   "execution_count": 13,
   "id": "26e72c90-aa2c-485b-bfb8-0f7c131c1888",
   "metadata": {},
   "outputs": [],
   "source": [
    "for time in schedule.time:\n",
    "    model.add_constraint(\n",
    "        volume(time-1) + inflow(time) - volume(time) == water_demand(time),\n",
    "        f\"reservoir volume at time_{time} = volume at time_{time-1} + inflow at time_{time} - water demand at time_{time}\"\n",
    "    )\n",
    "    model.add_constraint(\n",
    "        volume(time) >= reservoir.Vmin,\n",
    "        f\"reservoir volume at time {time} >= Vmin\"\n",
    "    )\n",
    "    model.add_constraint(\n",
    "        volume(time) <= reservoir.Vmax,\n",
    "        f\"reservoir volume at time {time} <= Vmax\"\n",
    "    )"
   ]
  },
  {
   "cell_type": "markdown",
   "id": "c93c2364-f50c-49b2-8430-01210ae8e829",
   "metadata": {},
   "source": [
    "## Inspect model"
   ]
  },
  {
   "cell_type": "code",
   "execution_count": 14,
   "id": "26d36c8a-e636-4f01-a2a9-390019a44596",
   "metadata": {},
   "outputs": [],
   "source": [
    "model._STR_MAX_DISPLAY_ITEMS = 1000"
   ]
  },
  {
   "cell_type": "code",
   "execution_count": 15,
   "id": "4e5ad576-28a0-4e50-b3a3-1c66e883e28e",
   "metadata": {},
   "outputs": [
    {
     "name": "stdout",
     "output_type": "stream",
     "text": [
      "Constrained quadratic model: 192 variables, 104 constraints, 768 biases\n",
      "\n",
      "Objective\n",
      "  2.535*Binary('pump1_time1') + 6.253*Binary('pump2_time1') + 5.577*Binary('pump3_time1') + 5.577*Binary('pump4_time1') + 3.7180000000000004*Binary('pump5_time1') + 5.577*Binary('pump6_time1') + 3.7180000000000004*Binary('pump7_time1') + 2.535*Binary('pump1_time2') + 6.253*Binary('pump2_time2') + 5.577*Binary('pump3_time2') + 5.577*Binary('pump4_time2') + 3.7180000000000004*Binary('pump5_time2') + 5.577*Binary('pump6_time2') + 3.7180000000000004*Binary('pump7_time2') + 2.535*Binary('pump1_time3') + 6.253*Binary('pump2_time3') + 5.577*Binary('pump3_time3') + 5.577*Binary('pump4_time3') + 3.7180000000000004*Binary('pump5_time3') + 5.577*Binary('pump6_time3') + 3.7180000000000004*Binary('pump7_time3') + 2.535*Binary('pump1_time4') + 6.253*Binary('pump2_time4') + 5.577*Binary('pump3_time4') + 5.577*Binary('pump4_time4') + 3.7180000000000004*Binary('pump5_time4') + 5.577*Binary('pump6_time4') + 3.7180000000000004*Binary('pump7_time4') + 2.535*Binary('pump1_time5') + 6.253*Binary('pump2_time5') + 5.577*Binary('pump3_time5') + 5.577*Binary('pump4_time5') + 3.7180000000000004*Binary('pump5_time5') + 5.577*Binary('pump6_time5') + 3.7180000000000004*Binary('pump7_time5') + 2.535*Binary('pump1_time6') + 6.253*Binary('pump2_time6') + 5.577*Binary('pump3_time6') + 5.577*Binary('pump4_time6') + 3.7180000000000004*Binary('pump5_time6') + 5.577*Binary('pump6_time6') + 3.7180000000000004*Binary('pump7_time6') + 2.535*Binary('pump1_time7') + 6.253*Binary('pump2_time7') + 5.577*Binary('pump3_time7') + 5.577*Binary('pump4_time7') + 3.7180000000000004*Binary('pump5_time7') + 5.577*Binary('pump6_time7') + 3.7180000000000004*Binary('pump7_time7') + 4.244999999999999*Binary('pump1_time8') + 10.470999999999998*Binary('pump2_time8') + 9.338999999999999*Binary('pump3_time8') + 9.338999999999999*Binary('pump4_time8') + 6.225999999999999*Binary('pump5_time8') + 9.338999999999999*Binary('pump6_time8') + 6.225999999999999*Binary('pump7_time8') + 4.244999999999999*Binary('pump1_time9') + 10.470999999999998*Binary('pump2_time9') + 9.338999999999999*Binary('pump3_time9') + 9.338999999999999*Binary('pump4_time9') + 6.225999999999999*Binary('pump5_time9') + 9.338999999999999*Binary('pump6_time9') + 6.225999999999999*Binary('pump7_time9') + 4.244999999999999*Binary('pump1_time10') + 10.470999999999998*Binary('pump2_time10') + 9.338999999999999*Binary('pump3_time10') + 9.338999999999999*Binary('pump4_time10') + 6.225999999999999*Binary('pump5_time10') + 9.338999999999999*Binary('pump6_time10') + 6.225999999999999*Binary('pump7_time10') + 4.244999999999999*Binary('pump1_time11') + 10.470999999999998*Binary('pump2_time11') + 9.338999999999999*Binary('pump3_time11') + 9.338999999999999*Binary('pump4_time11') + 6.225999999999999*Binary('pump5_time11') + 9.338999999999999*Binary('pump6_time11') + 6.225999999999999*Binary('pump7_time11') + 4.244999999999999*Binary('pump1_time12') + 10.470999999999998*Binary('pump2_time12') + 9.338999999999999*Binary('pump3_time12') + 9.338999999999999*Binary('pump4_time12') + 6.225999999999999*Binary('pump5_time12') + 9.338999999999999*Binary('pump6_time12') + 6.225999999999999*Binary('pump7_time12') + 4.244999999999999*Binary('pump1_time13') + 10.470999999999998*Binary('pump2_time13') + 9.338999999999999*Binary('pump3_time13') + 9.338999999999999*Binary('pump4_time13') + 6.225999999999999*Binary('pump5_time13') + 9.338999999999999*Binary('pump6_time13') + 6.225999999999999*Binary('pump7_time13') + 2.535*Binary('pump1_time14') + 6.253*Binary('pump2_time14') + 5.577*Binary('pump3_time14') + 5.577*Binary('pump4_time14') + 3.7180000000000004*Binary('pump5_time14') + 5.577*Binary('pump6_time14') + 3.7180000000000004*Binary('pump7_time14') + 2.535*Binary('pump1_time15') + 6.253*Binary('pump2_time15') + 5.577*Binary('pump3_time15') + 5.577*Binary('pump4_time15') + 3.7180000000000004*Binary('pump5_time15') + 5.577*Binary('pump6_time15') + 3.7180000000000004*Binary('pump7_time15') + 2.535*Binary('pump1_time16') + 6.253*Binary('pump2_time16') + 5.577*Binary('pump3_time16') + 5.577*Binary('pump4_time16') + 3.7180000000000004*Binary('pump5_time16') + 5.577*Binary('pump6_time16') + 3.7180000000000004*Binary('pump7_time16') + 5.04*Binary('pump1_time17') + 12.432*Binary('pump2_time17') + 11.088000000000001*Binary('pump3_time17') + 11.088000000000001*Binary('pump4_time17') + 7.392*Binary('pump5_time17') + 11.088000000000001*Binary('pump6_time17') + 7.392*Binary('pump7_time17') + 5.04*Binary('pump1_time18') + 12.432*Binary('pump2_time18') + 11.088000000000001*Binary('pump3_time18') + 11.088000000000001*Binary('pump4_time18') + 7.392*Binary('pump5_time18') + 11.088000000000001*Binary('pump6_time18') + 7.392*Binary('pump7_time18') + 5.04*Binary('pump1_time19') + 12.432*Binary('pump2_time19') + 11.088000000000001*Binary('pump3_time19') + 11.088000000000001*Binary('pump4_time19') + 7.392*Binary('pump5_time19') + 11.088000000000001*Binary('pump6_time19') + 7.392*Binary('pump7_time19') + 5.04*Binary('pump1_time20') + 12.432*Binary('pump2_time20') + 11.088000000000001*Binary('pump3_time20') + 11.088000000000001*Binary('pump4_time20') + 7.392*Binary('pump5_time20') + 11.088000000000001*Binary('pump6_time20') + 7.392*Binary('pump7_time20') + 5.04*Binary('pump1_time21') + 12.432*Binary('pump2_time21') + 11.088000000000001*Binary('pump3_time21') + 11.088000000000001*Binary('pump4_time21') + 7.392*Binary('pump5_time21') + 11.088000000000001*Binary('pump6_time21') + 7.392*Binary('pump7_time21') + 2.535*Binary('pump1_time22') + 6.253*Binary('pump2_time22') + 5.577*Binary('pump3_time22') + 5.577*Binary('pump4_time22') + 3.7180000000000004*Binary('pump5_time22') + 5.577*Binary('pump6_time22') + 3.7180000000000004*Binary('pump7_time22') + 2.535*Binary('pump1_time23') + 6.253*Binary('pump2_time23') + 5.577*Binary('pump3_time23') + 5.577*Binary('pump4_time23') + 3.7180000000000004*Binary('pump5_time23') + 5.577*Binary('pump6_time23') + 3.7180000000000004*Binary('pump7_time23') + 2.535*Binary('pump1_time24') + 6.253*Binary('pump2_time24') + 5.577*Binary('pump3_time24') + 5.577*Binary('pump4_time24') + 3.7180000000000004*Binary('pump5_time24') + 5.577*Binary('pump6_time24') + 3.7180000000000004*Binary('pump7_time24')\n",
      "\n",
      "Constraints\n",
      "  pump_1 must operate for at least one hour per day: Binary('pump1_time1') + Binary('pump1_time2') + Binary('pump1_time3') + Binary('pump1_time4') + Binary('pump1_time5') + Binary('pump1_time6') + Binary('pump1_time7') + Binary('pump1_time8') + Binary('pump1_time9') + Binary('pump1_time10') + Binary('pump1_time11') + Binary('pump1_time12') + Binary('pump1_time13') + Binary('pump1_time14') + Binary('pump1_time15') + Binary('pump1_time16') + Binary('pump1_time17') + Binary('pump1_time18') + Binary('pump1_time19') + Binary('pump1_time20') + Binary('pump1_time21') + Binary('pump1_time22') + Binary('pump1_time23') + Binary('pump1_time24') >= 1.0\n",
      "  pump_2 must operate for at least one hour per day: Binary('pump2_time1') + Binary('pump2_time2') + Binary('pump2_time3') + Binary('pump2_time4') + Binary('pump2_time5') + Binary('pump2_time6') + Binary('pump2_time7') + Binary('pump2_time8') + Binary('pump2_time9') + Binary('pump2_time10') + Binary('pump2_time11') + Binary('pump2_time12') + Binary('pump2_time13') + Binary('pump2_time14') + Binary('pump2_time15') + Binary('pump2_time16') + Binary('pump2_time17') + Binary('pump2_time18') + Binary('pump2_time19') + Binary('pump2_time20') + Binary('pump2_time21') + Binary('pump2_time22') + Binary('pump2_time23') + Binary('pump2_time24') >= 1.0\n",
      "  pump_3 must operate for at least one hour per day: Binary('pump3_time1') + Binary('pump3_time2') + Binary('pump3_time3') + Binary('pump3_time4') + Binary('pump3_time5') + Binary('pump3_time6') + Binary('pump3_time7') + Binary('pump3_time8') + Binary('pump3_time9') + Binary('pump3_time10') + Binary('pump3_time11') + Binary('pump3_time12') + Binary('pump3_time13') + Binary('pump3_time14') + Binary('pump3_time15') + Binary('pump3_time16') + Binary('pump3_time17') + Binary('pump3_time18') + Binary('pump3_time19') + Binary('pump3_time20') + Binary('pump3_time21') + Binary('pump3_time22') + Binary('pump3_time23') + Binary('pump3_time24') >= 1.0\n",
      "  pump_4 must operate for at least one hour per day: Binary('pump4_time1') + Binary('pump4_time2') + Binary('pump4_time3') + Binary('pump4_time4') + Binary('pump4_time5') + Binary('pump4_time6') + Binary('pump4_time7') + Binary('pump4_time8') + Binary('pump4_time9') + Binary('pump4_time10') + Binary('pump4_time11') + Binary('pump4_time12') + Binary('pump4_time13') + Binary('pump4_time14') + Binary('pump4_time15') + Binary('pump4_time16') + Binary('pump4_time17') + Binary('pump4_time18') + Binary('pump4_time19') + Binary('pump4_time20') + Binary('pump4_time21') + Binary('pump4_time22') + Binary('pump4_time23') + Binary('pump4_time24') >= 1.0\n",
      "  pump_5 must operate for at least one hour per day: Binary('pump5_time1') + Binary('pump5_time2') + Binary('pump5_time3') + Binary('pump5_time4') + Binary('pump5_time5') + Binary('pump5_time6') + Binary('pump5_time7') + Binary('pump5_time8') + Binary('pump5_time9') + Binary('pump5_time10') + Binary('pump5_time11') + Binary('pump5_time12') + Binary('pump5_time13') + Binary('pump5_time14') + Binary('pump5_time15') + Binary('pump5_time16') + Binary('pump5_time17') + Binary('pump5_time18') + Binary('pump5_time19') + Binary('pump5_time20') + Binary('pump5_time21') + Binary('pump5_time22') + Binary('pump5_time23') + Binary('pump5_time24') >= 1.0\n",
      "  pump_6 must operate for at least one hour per day: Binary('pump6_time1') + Binary('pump6_time2') + Binary('pump6_time3') + Binary('pump6_time4') + Binary('pump6_time5') + Binary('pump6_time6') + Binary('pump6_time7') + Binary('pump6_time8') + Binary('pump6_time9') + Binary('pump6_time10') + Binary('pump6_time11') + Binary('pump6_time12') + Binary('pump6_time13') + Binary('pump6_time14') + Binary('pump6_time15') + Binary('pump6_time16') + Binary('pump6_time17') + Binary('pump6_time18') + Binary('pump6_time19') + Binary('pump6_time20') + Binary('pump6_time21') + Binary('pump6_time22') + Binary('pump6_time23') + Binary('pump6_time24') >= 1.0\n",
      "  pump_7 must operate for at least one hour per day: Binary('pump7_time1') + Binary('pump7_time2') + Binary('pump7_time3') + Binary('pump7_time4') + Binary('pump7_time5') + Binary('pump7_time6') + Binary('pump7_time7') + Binary('pump7_time8') + Binary('pump7_time9') + Binary('pump7_time10') + Binary('pump7_time11') + Binary('pump7_time12') + Binary('pump7_time13') + Binary('pump7_time14') + Binary('pump7_time15') + Binary('pump7_time16') + Binary('pump7_time17') + Binary('pump7_time18') + Binary('pump7_time19') + Binary('pump7_time20') + Binary('pump7_time21') + Binary('pump7_time22') + Binary('pump7_time23') + Binary('pump7_time24') >= 1.0\n",
      "  at least one pump is in reserve at time 1: Binary('pump1_time1') + Binary('pump2_time1') + Binary('pump3_time1') + Binary('pump4_time1') + Binary('pump5_time1') + Binary('pump6_time1') + Binary('pump7_time1') <= 6.0\n",
      "  at least one pump is in reserve at time 2: Binary('pump1_time2') + Binary('pump2_time2') + Binary('pump3_time2') + Binary('pump4_time2') + Binary('pump5_time2') + Binary('pump6_time2') + Binary('pump7_time2') <= 6.0\n",
      "  at least one pump is in reserve at time 3: Binary('pump1_time3') + Binary('pump2_time3') + Binary('pump3_time3') + Binary('pump4_time3') + Binary('pump5_time3') + Binary('pump6_time3') + Binary('pump7_time3') <= 6.0\n",
      "  at least one pump is in reserve at time 4: Binary('pump1_time4') + Binary('pump2_time4') + Binary('pump3_time4') + Binary('pump4_time4') + Binary('pump5_time4') + Binary('pump6_time4') + Binary('pump7_time4') <= 6.0\n",
      "  at least one pump is in reserve at time 5: Binary('pump1_time5') + Binary('pump2_time5') + Binary('pump3_time5') + Binary('pump4_time5') + Binary('pump5_time5') + Binary('pump6_time5') + Binary('pump7_time5') <= 6.0\n",
      "  at least one pump is in reserve at time 6: Binary('pump1_time6') + Binary('pump2_time6') + Binary('pump3_time6') + Binary('pump4_time6') + Binary('pump5_time6') + Binary('pump6_time6') + Binary('pump7_time6') <= 6.0\n",
      "  at least one pump is in reserve at time 7: Binary('pump1_time7') + Binary('pump2_time7') + Binary('pump3_time7') + Binary('pump4_time7') + Binary('pump5_time7') + Binary('pump6_time7') + Binary('pump7_time7') <= 6.0\n",
      "  at least one pump is in reserve at time 8: Binary('pump1_time8') + Binary('pump2_time8') + Binary('pump3_time8') + Binary('pump4_time8') + Binary('pump5_time8') + Binary('pump6_time8') + Binary('pump7_time8') <= 6.0\n",
      "  at least one pump is in reserve at time 9: Binary('pump1_time9') + Binary('pump2_time9') + Binary('pump3_time9') + Binary('pump4_time9') + Binary('pump5_time9') + Binary('pump6_time9') + Binary('pump7_time9') <= 6.0\n",
      "  at least one pump is in reserve at time 10: Binary('pump1_time10') + Binary('pump2_time10') + Binary('pump3_time10') + Binary('pump4_time10') + Binary('pump5_time10') + Binary('pump6_time10') + Binary('pump7_time10') <= 6.0\n",
      "  at least one pump is in reserve at time 11: Binary('pump1_time11') + Binary('pump2_time11') + Binary('pump3_time11') + Binary('pump4_time11') + Binary('pump5_time11') + Binary('pump6_time11') + Binary('pump7_time11') <= 6.0\n",
      "  at least one pump is in reserve at time 12: Binary('pump1_time12') + Binary('pump2_time12') + Binary('pump3_time12') + Binary('pump4_time12') + Binary('pump5_time12') + Binary('pump6_time12') + Binary('pump7_time12') <= 6.0\n",
      "  at least one pump is in reserve at time 13: Binary('pump1_time13') + Binary('pump2_time13') + Binary('pump3_time13') + Binary('pump4_time13') + Binary('pump5_time13') + Binary('pump6_time13') + Binary('pump7_time13') <= 6.0\n",
      "  at least one pump is in reserve at time 14: Binary('pump1_time14') + Binary('pump2_time14') + Binary('pump3_time14') + Binary('pump4_time14') + Binary('pump5_time14') + Binary('pump6_time14') + Binary('pump7_time14') <= 6.0\n",
      "  at least one pump is in reserve at time 15: Binary('pump1_time15') + Binary('pump2_time15') + Binary('pump3_time15') + Binary('pump4_time15') + Binary('pump5_time15') + Binary('pump6_time15') + Binary('pump7_time15') <= 6.0\n",
      "  at least one pump is in reserve at time 16: Binary('pump1_time16') + Binary('pump2_time16') + Binary('pump3_time16') + Binary('pump4_time16') + Binary('pump5_time16') + Binary('pump6_time16') + Binary('pump7_time16') <= 6.0\n",
      "  at least one pump is in reserve at time 17: Binary('pump1_time17') + Binary('pump2_time17') + Binary('pump3_time17') + Binary('pump4_time17') + Binary('pump5_time17') + Binary('pump6_time17') + Binary('pump7_time17') <= 6.0\n",
      "  at least one pump is in reserve at time 18: Binary('pump1_time18') + Binary('pump2_time18') + Binary('pump3_time18') + Binary('pump4_time18') + Binary('pump5_time18') + Binary('pump6_time18') + Binary('pump7_time18') <= 6.0\n",
      "  at least one pump is in reserve at time 19: Binary('pump1_time19') + Binary('pump2_time19') + Binary('pump3_time19') + Binary('pump4_time19') + Binary('pump5_time19') + Binary('pump6_time19') + Binary('pump7_time19') <= 6.0\n",
      "  at least one pump is in reserve at time 20: Binary('pump1_time20') + Binary('pump2_time20') + Binary('pump3_time20') + Binary('pump4_time20') + Binary('pump5_time20') + Binary('pump6_time20') + Binary('pump7_time20') <= 6.0\n",
      "  at least one pump is in reserve at time 21: Binary('pump1_time21') + Binary('pump2_time21') + Binary('pump3_time21') + Binary('pump4_time21') + Binary('pump5_time21') + Binary('pump6_time21') + Binary('pump7_time21') <= 6.0\n",
      "  at least one pump is in reserve at time 22: Binary('pump1_time22') + Binary('pump2_time22') + Binary('pump3_time22') + Binary('pump4_time22') + Binary('pump5_time22') + Binary('pump6_time22') + Binary('pump7_time22') <= 6.0\n",
      "  at least one pump is in reserve at time 23: Binary('pump1_time23') + Binary('pump2_time23') + Binary('pump3_time23') + Binary('pump4_time23') + Binary('pump5_time23') + Binary('pump6_time23') + Binary('pump7_time23') <= 6.0\n",
      "  at least one pump is in reserve at time 24: Binary('pump1_time24') + Binary('pump2_time24') + Binary('pump3_time24') + Binary('pump4_time24') + Binary('pump5_time24') + Binary('pump6_time24') + Binary('pump7_time24') <= 6.0\n",
      "  ca19a93: Binary('volume_time24') >= 550.0\n",
      "  reservoir volume at time_1 = volume at time_0 + inflow at time_1 - water demand at time_1: 550 + 75*Binary('pump1_time1') + 133*Binary('pump2_time1') + 157*Binary('pump3_time1') + 176*Binary('pump4_time1') + 59*Binary('pump5_time1') + 69*Binary('pump6_time1') + 120*Binary('pump7_time1') - Binary('volume_time1') == 44.62\n",
      "  reservoir volume at time 1 >= Vmin: Binary('volume_time1') >= 523.5\n",
      "  reservoir volume at time 1 <= Vmax: Binary('volume_time1') <= 1500.0\n",
      "  reservoir volume at time_2 = volume at time_1 + inflow at time_2 - water demand at time_2: Binary('volume_time1') + 75*Binary('pump1_time2') + 133*Binary('pump2_time2') + 157*Binary('pump3_time2') + 176*Binary('pump4_time2') + 59*Binary('pump5_time2') + 69*Binary('pump6_time2') + 120*Binary('pump7_time2') - Binary('volume_time2') == 31.27\n",
      "  reservoir volume at time 2 >= Vmin: Binary('volume_time2') >= 523.5\n",
      "  reservoir volume at time 2 <= Vmax: Binary('volume_time2') <= 1500.0\n",
      "  reservoir volume at time_3 = volume at time_2 + inflow at time_3 - water demand at time_3: Binary('volume_time2') + 75*Binary('pump1_time3') + 133*Binary('pump2_time3') + 157*Binary('pump3_time3') + 176*Binary('pump4_time3') + 59*Binary('pump5_time3') + 69*Binary('pump6_time3') + 120*Binary('pump7_time3') - Binary('volume_time3') == 26.22\n",
      "  reservoir volume at time 3 >= Vmin: Binary('volume_time3') >= 523.5\n",
      "  reservoir volume at time 3 <= Vmax: Binary('volume_time3') <= 1500.0\n",
      "  reservoir volume at time_4 = volume at time_3 + inflow at time_4 - water demand at time_4: Binary('volume_time3') + 75*Binary('pump1_time4') + 133*Binary('pump2_time4') + 157*Binary('pump3_time4') + 176*Binary('pump4_time4') + 59*Binary('pump5_time4') + 69*Binary('pump6_time4') + 120*Binary('pump7_time4') - Binary('volume_time4') == 27.51\n",
      "  reservoir volume at time 4 >= Vmin: Binary('volume_time4') >= 523.5\n",
      "  reservoir volume at time 4 <= Vmax: Binary('volume_time4') <= 1500.0\n",
      "  reservoir volume at time_5 = volume at time_4 + inflow at time_5 - water demand at time_5: Binary('volume_time4') + 75*Binary('pump1_time5') + 133*Binary('pump2_time5') + 157*Binary('pump3_time5') + 176*Binary('pump4_time5') + 59*Binary('pump5_time5') + 69*Binary('pump6_time5') + 120*Binary('pump7_time5') - Binary('volume_time5') == 31.5\n",
      "  reservoir volume at time 5 >= Vmin: Binary('volume_time5') >= 523.5\n",
      "  reservoir volume at time 5 <= Vmax: Binary('volume_time5') <= 1500.0\n",
      "  reservoir volume at time_6 = volume at time_5 + inflow at time_6 - water demand at time_6: Binary('volume_time5') + 75*Binary('pump1_time6') + 133*Binary('pump2_time6') + 157*Binary('pump3_time6') + 176*Binary('pump4_time6') + 59*Binary('pump5_time6') + 69*Binary('pump6_time6') + 120*Binary('pump7_time6') - Binary('volume_time6') == 46.18\n",
      "  reservoir volume at time 6 >= Vmin: Binary('volume_time6') >= 523.5\n",
      "  reservoir volume at time 6 <= Vmax: Binary('volume_time6') <= 1500.0\n",
      "  reservoir volume at time_7 = volume at time_6 + inflow at time_7 - water demand at time_7: Binary('volume_time6') + 75*Binary('pump1_time7') + 133*Binary('pump2_time7') + 157*Binary('pump3_time7') + 176*Binary('pump4_time7') + 59*Binary('pump5_time7') + 69*Binary('pump6_time7') + 120*Binary('pump7_time7') - Binary('volume_time7') == 69.47\n",
      "  reservoir volume at time 7 >= Vmin: Binary('volume_time7') >= 523.5\n",
      "  reservoir volume at time 7 <= Vmax: Binary('volume_time7') <= 1500.0\n",
      "  reservoir volume at time_8 = volume at time_7 + inflow at time_8 - water demand at time_8: Binary('volume_time7') + 75*Binary('pump1_time8') + 133*Binary('pump2_time8') + 157*Binary('pump3_time8') + 176*Binary('pump4_time8') + 59*Binary('pump5_time8') + 69*Binary('pump6_time8') + 120*Binary('pump7_time8') - Binary('volume_time8') == 100.36\n",
      "  reservoir volume at time 8 >= Vmin: Binary('volume_time8') >= 523.5\n",
      "  reservoir volume at time 8 <= Vmax: Binary('volume_time8') <= 1500.0\n",
      "  reservoir volume at time_9 = volume at time_8 + inflow at time_9 - water demand at time_9: Binary('volume_time8') + 75*Binary('pump1_time9') + 133*Binary('pump2_time9') + 157*Binary('pump3_time9') + 176*Binary('pump4_time9') + 59*Binary('pump5_time9') + 69*Binary('pump6_time9') + 120*Binary('pump7_time9') - Binary('volume_time9') == 131.85\n",
      "  reservoir volume at time 9 >= Vmin: Binary('volume_time9') >= 523.5\n",
      "  reservoir volume at time 9 <= Vmax: Binary('volume_time9') <= 1500.0\n",
      "  reservoir volume at time_10 = volume at time_9 + inflow at time_10 - water demand at time_10: Binary('volume_time9') + 75*Binary('pump1_time10') + 133*Binary('pump2_time10') + 157*Binary('pump3_time10') + 176*Binary('pump4_time10') + 59*Binary('pump5_time10') + 69*Binary('pump6_time10') + 120*Binary('pump7_time10') - Binary('volume_time10') == 148.51\n",
      "  reservoir volume at time 10 >= Vmin: Binary('volume_time10') >= 523.5\n",
      "  reservoir volume at time 10 <= Vmax: Binary('volume_time10') <= 1500.0\n",
      "  reservoir volume at time_11 = volume at time_10 + inflow at time_11 - water demand at time_11: Binary('volume_time10') + 75*Binary('pump1_time11') + 133*Binary('pump2_time11') + 157*Binary('pump3_time11') + 176*Binary('pump4_time11') + 59*Binary('pump5_time11') + 69*Binary('pump6_time11') + 120*Binary('pump7_time11') - Binary('volume_time11') == 149.89\n",
      "  reservoir volume at time 11 >= Vmin: Binary('volume_time11') >= 523.5\n",
      "  reservoir volume at time 11 <= Vmax: Binary('volume_time11') <= 1500.0\n",
      "  reservoir volume at time_12 = volume at time_11 + inflow at time_12 - water demand at time_12: Binary('volume_time11') + 75*Binary('pump1_time12') + 133*Binary('pump2_time12') + 157*Binary('pump3_time12') + 176*Binary('pump4_time12') + 59*Binary('pump5_time12') + 69*Binary('pump6_time12') + 120*Binary('pump7_time12') - Binary('volume_time12') == 142.21\n",
      "  reservoir volume at time 12 >= Vmin: Binary('volume_time12') >= 523.5\n",
      "  reservoir volume at time 12 <= Vmax: Binary('volume_time12') <= 1500.0\n",
      "  reservoir volume at time_13 = volume at time_12 + inflow at time_13 - water demand at time_13: Binary('volume_time12') + 75*Binary('pump1_time13') + 133*Binary('pump2_time13') + 157*Binary('pump3_time13') + 176*Binary('pump4_time13') + 59*Binary('pump5_time13') + 69*Binary('pump6_time13') + 120*Binary('pump7_time13') - Binary('volume_time13') == 132.09\n",
      "  reservoir volume at time 13 >= Vmin: Binary('volume_time13') >= 523.5\n",
      "  reservoir volume at time 13 <= Vmax: Binary('volume_time13') <= 1500.0\n",
      "  reservoir volume at time_14 = volume at time_13 + inflow at time_14 - water demand at time_14: Binary('volume_time13') + 75*Binary('pump1_time14') + 133*Binary('pump2_time14') + 157*Binary('pump3_time14') + 176*Binary('pump4_time14') + 59*Binary('pump5_time14') + 69*Binary('pump6_time14') + 120*Binary('pump7_time14') - Binary('volume_time14') == 129.29\n",
      "  reservoir volume at time 14 >= Vmin: Binary('volume_time14') >= 523.5\n",
      "  reservoir volume at time 14 <= Vmax: Binary('volume_time14') <= 1500.0\n",
      "  reservoir volume at time_15 = volume at time_14 + inflow at time_15 - water demand at time_15: Binary('volume_time14') + 75*Binary('pump1_time15') + 133*Binary('pump2_time15') + 157*Binary('pump3_time15') + 176*Binary('pump4_time15') + 59*Binary('pump5_time15') + 69*Binary('pump6_time15') + 120*Binary('pump7_time15') - Binary('volume_time15') == 124.06\n",
      "  reservoir volume at time 15 >= Vmin: Binary('volume_time15') >= 523.5\n",
      "  reservoir volume at time 15 <= Vmax: Binary('volume_time15') <= 1500.0\n",
      "  reservoir volume at time_16 = volume at time_15 + inflow at time_16 - water demand at time_16: Binary('volume_time15') + 75*Binary('pump1_time16') + 133*Binary('pump2_time16') + 157*Binary('pump3_time16') + 176*Binary('pump4_time16') + 59*Binary('pump5_time16') + 69*Binary('pump6_time16') + 120*Binary('pump7_time16') - Binary('volume_time16') == 114.68\n",
      "  reservoir volume at time 16 >= Vmin: Binary('volume_time16') >= 523.5\n",
      "  reservoir volume at time 16 <= Vmax: Binary('volume_time16') <= 1500.0\n",
      "  reservoir volume at time_17 = volume at time_16 + inflow at time_17 - water demand at time_17: Binary('volume_time16') + 75*Binary('pump1_time17') + 133*Binary('pump2_time17') + 157*Binary('pump3_time17') + 176*Binary('pump4_time17') + 59*Binary('pump5_time17') + 69*Binary('pump6_time17') + 120*Binary('pump7_time17') - Binary('volume_time17') == 109.33\n",
      "  reservoir volume at time 17 >= Vmin: Binary('volume_time17') >= 523.5\n",
      "  reservoir volume at time 17 <= Vmax: Binary('volume_time17') <= 1500.0\n",
      "  reservoir volume at time_18 = volume at time_17 + inflow at time_18 - water demand at time_18: Binary('volume_time17') + 75*Binary('pump1_time18') + 133*Binary('pump2_time18') + 157*Binary('pump3_time18') + 176*Binary('pump4_time18') + 59*Binary('pump5_time18') + 69*Binary('pump6_time18') + 120*Binary('pump7_time18') - Binary('volume_time18') == 115.76\n",
      "  reservoir volume at time 18 >= Vmin: Binary('volume_time18') >= 523.5\n",
      "  reservoir volume at time 18 <= Vmax: Binary('volume_time18') <= 1500.0\n",
      "  reservoir volume at time_19 = volume at time_18 + inflow at time_19 - water demand at time_19: Binary('volume_time18') + 75*Binary('pump1_time19') + 133*Binary('pump2_time19') + 157*Binary('pump3_time19') + 176*Binary('pump4_time19') + 59*Binary('pump5_time19') + 69*Binary('pump6_time19') + 120*Binary('pump7_time19') - Binary('volume_time19') == 126.95\n",
      "  reservoir volume at time 19 >= Vmin: Binary('volume_time19') >= 523.5\n",
      "  reservoir volume at time 19 <= Vmax: Binary('volume_time19') <= 1500.0\n",
      "  reservoir volume at time_20 = volume at time_19 + inflow at time_20 - water demand at time_20: Binary('volume_time19') + 75*Binary('pump1_time20') + 133*Binary('pump2_time20') + 157*Binary('pump3_time20') + 176*Binary('pump4_time20') + 59*Binary('pump5_time20') + 69*Binary('pump6_time20') + 120*Binary('pump7_time20') - Binary('volume_time20') == 131.48\n",
      "  reservoir volume at time 20 >= Vmin: Binary('volume_time20') >= 523.5\n",
      "  reservoir volume at time 20 <= Vmax: Binary('volume_time20') <= 1500.0\n",
      "  reservoir volume at time_21 = volume at time_20 + inflow at time_21 - water demand at time_21: Binary('volume_time20') + 75*Binary('pump1_time21') + 133*Binary('pump2_time21') + 157*Binary('pump3_time21') + 176*Binary('pump4_time21') + 59*Binary('pump5_time21') + 69*Binary('pump6_time21') + 120*Binary('pump7_time21') - Binary('volume_time21') == 138.86\n",
      "  reservoir volume at time 21 >= Vmin: Binary('volume_time21') >= 523.5\n",
      "  reservoir volume at time 21 <= Vmax: Binary('volume_time21') <= 1500.0\n",
      "  reservoir volume at time_22 = volume at time_21 + inflow at time_22 - water demand at time_22: Binary('volume_time21') + 75*Binary('pump1_time22') + 133*Binary('pump2_time22') + 157*Binary('pump3_time22') + 176*Binary('pump4_time22') + 59*Binary('pump5_time22') + 69*Binary('pump6_time22') + 120*Binary('pump7_time22') - Binary('volume_time22') == 131.91\n",
      "  reservoir volume at time 22 >= Vmin: Binary('volume_time22') >= 523.5\n",
      "  reservoir volume at time 22 <= Vmax: Binary('volume_time22') <= 1500.0\n",
      "  reservoir volume at time_23 = volume at time_22 + inflow at time_23 - water demand at time_23: Binary('volume_time22') + 75*Binary('pump1_time23') + 133*Binary('pump2_time23') + 157*Binary('pump3_time23') + 176*Binary('pump4_time23') + 59*Binary('pump5_time23') + 69*Binary('pump6_time23') + 120*Binary('pump7_time23') - Binary('volume_time23') == 111.53\n",
      "  reservoir volume at time 23 >= Vmin: Binary('volume_time23') >= 523.5\n",
      "  reservoir volume at time 23 <= Vmax: Binary('volume_time23') <= 1500.0\n",
      "  reservoir volume at time_24 = volume at time_23 + inflow at time_24 - water demand at time_24: Binary('volume_time23') + 75*Binary('pump1_time24') + 133*Binary('pump2_time24') + 157*Binary('pump3_time24') + 176*Binary('pump4_time24') + 59*Binary('pump5_time24') + 69*Binary('pump6_time24') + 120*Binary('pump7_time24') - Binary('volume_time24') == 70.43\n",
      "  reservoir volume at time 24 >= Vmin: Binary('volume_time24') >= 523.5\n",
      "  reservoir volume at time 24 <= Vmax: Binary('volume_time24') <= 1500.0\n",
      "\n",
      "Bounds\n",
      "\n"
     ]
    }
   ],
   "source": [
    "print(model)"
   ]
  },
  {
   "cell_type": "code",
   "execution_count": null,
   "id": "1f03fab4-1c91-49c6-acd4-1815f9bb02e2",
   "metadata": {},
   "outputs": [],
   "source": []
  }
 ],
 "metadata": {
  "kernelspec": {
   "display_name": "Python 3 (ipykernel)",
   "language": "python",
   "name": "python3"
  },
  "language_info": {
   "codemirror_mode": {
    "name": "ipython",
    "version": 3
   },
   "file_extension": ".py",
   "mimetype": "text/x-python",
   "name": "python",
   "nbconvert_exporter": "python",
   "pygments_lexer": "ipython3",
   "version": "3.9.15"
  }
 },
 "nbformat": 4,
 "nbformat_minor": 5
}
